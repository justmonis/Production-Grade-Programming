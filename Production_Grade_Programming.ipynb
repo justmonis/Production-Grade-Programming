{
  "nbformat": 4,
  "nbformat_minor": 0,
  "metadata": {
    "kernelspec": {
      "display_name": "Python 3",
      "language": "python",
      "name": "python3"
    },
    "language_info": {
      "codemirror_mode": {
        "name": "ipython",
        "version": 3
      },
      "file_extension": ".py",
      "mimetype": "text/x-python",
      "name": "python",
      "nbconvert_exporter": "python",
      "pygments_lexer": "ipython3",
      "version": "3.7.3"
    },
    "colab": {
      "provenance": [],
      "include_colab_link": true
    }
  },
  "cells": [
    {
      "cell_type": "markdown",
      "metadata": {
        "id": "view-in-github",
        "colab_type": "text"
      },
      "source": [
        "<a href=\"https://colab.research.google.com/github/justmonis/Production-Grade-Programming/blob/main/Production_Grade_Programming.ipynb\" target=\"_parent\"><img src=\"https://colab.research.google.com/assets/colab-badge.svg\" alt=\"Open In Colab\"/></a>"
      ]
    },
    {
      "cell_type": "markdown",
      "metadata": {
        "id": "wN8Oom8TtUcj"
      },
      "source": [
        "# What is Production Environment?\n",
        "\n",
        "Production environment is a term used mostly by developers to describe the setting where software and other products are actually put into operation for their intended uses by end users.\n",
        "\n",
        "Concepts that will be useful in writing production grade code:\n",
        "* Object Oriented Programming\n",
        "* Handling Errors and Exceptions"
      ]
    },
    {
      "cell_type": "markdown",
      "metadata": {
        "collapsed": true,
        "id": "tY-zYTU6tUck"
      },
      "source": [
        "# 1. Object Oriented Programming\n",
        "\n",
        "Object Oriented Programming (OOP) tends to be one of the most interesting concepts to learn in Python.\n",
        "\n",
        "For this lesson we will construct our knowledge of OOP in Python by building on the following topics:\n",
        "\n",
        "* Objects\n",
        "* Using the *class* keyword\n",
        "* Creating class attributes\n",
        "* Creating methods in a class\n",
        "* Learning about Polymorphism\n",
        "\n",
        "Lets start the lesson by remembering about the Basic Python Objects. For example:"
      ]
    },
    {
      "cell_type": "code",
      "source": [
        "number1 = 1 #number1 is an object of class int\n",
        "float1 = 1.0 #float1 is an object of class float\n",
        "bool1 = True #bool1 is an object of class bool"
      ],
      "metadata": {
        "id": "PDyb5DaFDKNV"
      },
      "execution_count": 3,
      "outputs": []
    },
    {
      "cell_type": "code",
      "source": [
        "print(type(number1))\n",
        "print(type(float1))\n",
        "print(type(bool1))"
      ],
      "metadata": {
        "colab": {
          "base_uri": "https://localhost:8080/"
        },
        "id": "2rRp8JlbDSYI",
        "outputId": "35786c66-658b-4da3-f9a2-33f28e7ec5c2"
      },
      "execution_count": 4,
      "outputs": [
        {
          "output_type": "stream",
          "name": "stdout",
          "text": [
            "<class 'int'>\n",
            "<class 'float'>\n",
            "<class 'bool'>\n"
          ]
        }
      ]
    },
    {
      "cell_type": "code",
      "source": [
        "empty = None\n",
        "print(type(empty))"
      ],
      "metadata": {
        "colab": {
          "base_uri": "https://localhost:8080/"
        },
        "id": "jay0wrxtdndF",
        "outputId": "d7bdafc3-6f44-4982-a9cd-b74a845190af"
      },
      "execution_count": 5,
      "outputs": [
        {
          "output_type": "stream",
          "name": "stdout",
          "text": [
            "<class 'NoneType'>\n"
          ]
        }
      ]
    },
    {
      "cell_type": "code",
      "metadata": {
        "id": "074xnaDptUcl"
      },
      "source": [
        "empty_list = []"
      ],
      "execution_count": 6,
      "outputs": []
    },
    {
      "cell_type": "code",
      "metadata": {
        "id": "CKsj93ax1H-y",
        "colab": {
          "base_uri": "https://localhost:8080/"
        },
        "outputId": "fd1f1862-b397-4c26-fb6c-fab10f1accfe"
      },
      "source": [
        "empty_list"
      ],
      "execution_count": 7,
      "outputs": [
        {
          "output_type": "execute_result",
          "data": {
            "text/plain": [
              "[]"
            ]
          },
          "metadata": {},
          "execution_count": 7
        }
      ]
    },
    {
      "cell_type": "code",
      "metadata": {
        "id": "zm9GXzT20P-2"
      },
      "source": [
        "another_empty_list = list()"
      ],
      "execution_count": 8,
      "outputs": []
    },
    {
      "cell_type": "code",
      "metadata": {
        "id": "MjiSihea1LJr",
        "colab": {
          "base_uri": "https://localhost:8080/"
        },
        "outputId": "cfd5d2f7-23b9-4835-95bd-7dbc538ac158"
      },
      "source": [
        "\n",
        "another_empty_list"
      ],
      "execution_count": 9,
      "outputs": [
        {
          "output_type": "execute_result",
          "data": {
            "text/plain": [
              "[]"
            ]
          },
          "metadata": {},
          "execution_count": 9
        }
      ]
    },
    {
      "cell_type": "code",
      "source": [
        "print(type(another_empty_list))"
      ],
      "metadata": {
        "colab": {
          "base_uri": "https://localhost:8080/"
        },
        "id": "xmGkDqRjkSKk",
        "outputId": "ac9c6a18-7d69-46da-accf-1873aa81c11f"
      },
      "execution_count": 10,
      "outputs": [
        {
          "output_type": "stream",
          "name": "stdout",
          "text": [
            "<class 'list'>\n"
          ]
        }
      ]
    },
    {
      "cell_type": "code",
      "source": [
        "example_tuple = tuple()"
      ],
      "metadata": {
        "id": "eLDR43-xt_-p"
      },
      "execution_count": 11,
      "outputs": []
    },
    {
      "cell_type": "code",
      "source": [
        "print(type(example_tuple))"
      ],
      "metadata": {
        "colab": {
          "base_uri": "https://localhost:8080/"
        },
        "id": "LQI0Y9couFi3",
        "outputId": "7f0cb530-1ace-46f0-addd-d457e89132ab"
      },
      "execution_count": 12,
      "outputs": [
        {
          "output_type": "stream",
          "name": "stdout",
          "text": [
            "<class 'tuple'>\n"
          ]
        }
      ]
    },
    {
      "cell_type": "code",
      "source": [
        "example_set = set()\n",
        "print(type(example_set))"
      ],
      "metadata": {
        "colab": {
          "base_uri": "https://localhost:8080/"
        },
        "id": "V3o7T0CYuJ14",
        "outputId": "c0bcf9e7-4bfd-4bd3-ef1c-ec3454e96983"
      },
      "execution_count": 13,
      "outputs": [
        {
          "output_type": "stream",
          "name": "stdout",
          "text": [
            "<class 'set'>\n"
          ]
        }
      ]
    },
    {
      "cell_type": "code",
      "source": [
        "#Syntax for crearting an obejct for a class\n",
        "\n",
        "# object_name = class_name()"
      ],
      "metadata": {
        "id": "S9AHahYAEahw"
      },
      "execution_count": 14,
      "outputs": []
    },
    {
      "cell_type": "code",
      "source": [
        "#Syntax to call or access the methods of a class (Python Pre-defined Class or User Defined Class)\n",
        "\n",
        "# object_name.methods_written_inside_the_class()"
      ],
      "metadata": {
        "id": "vJJxbIdsE9uQ"
      },
      "execution_count": 15,
      "outputs": []
    },
    {
      "cell_type": "markdown",
      "metadata": {
        "id": "_7YoNowOtUco"
      },
      "source": [
        "Remember how we could call methods on a list?"
      ]
    },
    {
      "cell_type": "code",
      "metadata": {
        "id": "zXhwOgpPtUco"
      },
      "source": [
        "another_empty_list.append(2)"
      ],
      "execution_count": 16,
      "outputs": []
    },
    {
      "cell_type": "code",
      "metadata": {
        "id": "7Qj0Tcow1UQ3",
        "colab": {
          "base_uri": "https://localhost:8080/"
        },
        "outputId": "2508a6b1-f9ed-4689-eaa1-0feafbb83f28"
      },
      "source": [
        "another_empty_list"
      ],
      "execution_count": 17,
      "outputs": [
        {
          "output_type": "execute_result",
          "data": {
            "text/plain": [
              "[2]"
            ]
          },
          "metadata": {},
          "execution_count": 17
        }
      ]
    },
    {
      "cell_type": "code",
      "metadata": {
        "id": "L-u_85Po1ZiQ"
      },
      "source": [
        "another_empty_list.append(1)\n",
        "another_empty_list.append(3)"
      ],
      "execution_count": 18,
      "outputs": []
    },
    {
      "cell_type": "code",
      "metadata": {
        "id": "MbxECXha1dLP",
        "colab": {
          "base_uri": "https://localhost:8080/"
        },
        "outputId": "e860c343-ce05-424b-d275-af744cf4d62b"
      },
      "source": [
        "another_empty_list"
      ],
      "execution_count": 19,
      "outputs": [
        {
          "output_type": "execute_result",
          "data": {
            "text/plain": [
              "[2, 1, 3]"
            ]
          },
          "metadata": {},
          "execution_count": 19
        }
      ]
    },
    {
      "cell_type": "code",
      "metadata": {
        "id": "q_BaBJeayeAR",
        "colab": {
          "base_uri": "https://localhost:8080/"
        },
        "outputId": "897d706a-32d7-4de7-fe69-878dbb87c59d"
      },
      "source": [
        "another_empty_list.index(3)"
      ],
      "execution_count": 20,
      "outputs": [
        {
          "output_type": "execute_result",
          "data": {
            "text/plain": [
              "2"
            ]
          },
          "metadata": {},
          "execution_count": 20
        }
      ]
    },
    {
      "cell_type": "code",
      "source": [
        "a = 1\n",
        "\n",
        "print(type(a))\n",
        "a.append(2)"
      ],
      "metadata": {
        "colab": {
          "base_uri": "https://localhost:8080/",
          "height": 227
        },
        "id": "4Qb1Jq3CD9uX",
        "outputId": "c9676d8a-d5ee-4b1d-d609-cd4dad648fef"
      },
      "execution_count": 21,
      "outputs": [
        {
          "output_type": "stream",
          "name": "stdout",
          "text": [
            "<class 'int'>\n"
          ]
        },
        {
          "output_type": "error",
          "ename": "AttributeError",
          "evalue": "ignored",
          "traceback": [
            "\u001b[0;31m---------------------------------------------------------------------------\u001b[0m",
            "\u001b[0;31mAttributeError\u001b[0m                            Traceback (most recent call last)",
            "\u001b[0;32m<ipython-input-21-989eacb0829c>\u001b[0m in \u001b[0;36m<cell line: 4>\u001b[0;34m()\u001b[0m\n\u001b[1;32m      2\u001b[0m \u001b[0;34m\u001b[0m\u001b[0m\n\u001b[1;32m      3\u001b[0m \u001b[0mprint\u001b[0m\u001b[0;34m(\u001b[0m\u001b[0mtype\u001b[0m\u001b[0;34m(\u001b[0m\u001b[0ma\u001b[0m\u001b[0;34m)\u001b[0m\u001b[0;34m)\u001b[0m\u001b[0;34m\u001b[0m\u001b[0;34m\u001b[0m\u001b[0m\n\u001b[0;32m----> 4\u001b[0;31m \u001b[0ma\u001b[0m\u001b[0;34m.\u001b[0m\u001b[0mappend\u001b[0m\u001b[0;34m(\u001b[0m\u001b[0;36m2\u001b[0m\u001b[0;34m)\u001b[0m\u001b[0;34m\u001b[0m\u001b[0;34m\u001b[0m\u001b[0m\n\u001b[0m",
            "\u001b[0;31mAttributeError\u001b[0m: 'int' object has no attribute 'append'"
          ]
        }
      ]
    },
    {
      "cell_type": "code",
      "source": [
        "string1 = \"Myself Monis\"\n",
        "\n",
        "print(type(string1))"
      ],
      "metadata": {
        "colab": {
          "base_uri": "https://localhost:8080/"
        },
        "id": "Wiesy0DuGl7j",
        "outputId": "d93a9749-4edd-460b-e506-1be01219e81c"
      },
      "execution_count": 22,
      "outputs": [
        {
          "output_type": "stream",
          "name": "stdout",
          "text": [
            "<class 'str'>\n"
          ]
        }
      ]
    },
    {
      "cell_type": "markdown",
      "metadata": {
        "id": "KvpqGgLLtUcr"
      },
      "source": [
        "What we will basically be doing in this lecture is exploring how we could create an Object type like a list. We've already learned about how to create functions. So let's explore Objects in general:\n",
        "\n",
        "## Objects\n",
        "In Python, *everything is an object*. Remember from previous lectures we can use type() to check the type of object something is:"
      ]
    },
    {
      "cell_type": "code",
      "metadata": {
        "id": "x6xnvszD4jNA",
        "colab": {
          "base_uri": "https://localhost:8080/"
        },
        "outputId": "7986646b-3e1b-4a8f-87a8-521ee743277e"
      },
      "source": [
        "the_sixth_sense = 6\n",
        "print(type(the_sixth_sense))"
      ],
      "execution_count": 23,
      "outputs": [
        {
          "output_type": "stream",
          "name": "stdout",
          "text": [
            "<class 'int'>\n"
          ]
        }
      ]
    },
    {
      "cell_type": "code",
      "metadata": {
        "id": "e8BHON1jtUcs",
        "colab": {
          "base_uri": "https://localhost:8080/"
        },
        "outputId": "06f92dd8-21fc-439e-fd23-d2cdf874dece"
      },
      "source": [
        "two_and_a_half_men = 2.5\n",
        "print(type(two_and_a_half_men))"
      ],
      "execution_count": 24,
      "outputs": [
        {
          "output_type": "stream",
          "name": "stdout",
          "text": [
            "<class 'float'>\n"
          ]
        }
      ]
    },
    {
      "cell_type": "code",
      "metadata": {
        "id": "d3wRT6DL5H3Q",
        "colab": {
          "base_uri": "https://localhost:8080/"
        },
        "outputId": "0f3adaf1-409a-4df4-f559-f00cceb99498"
      },
      "source": [
        "schindlers_list = list()\n",
        "print(type(schindlers_list))"
      ],
      "execution_count": 25,
      "outputs": [
        {
          "output_type": "stream",
          "name": "stdout",
          "text": [
            "<class 'list'>\n"
          ]
        }
      ]
    },
    {
      "cell_type": "code",
      "metadata": {
        "id": "T9s5C_AryiU9",
        "colab": {
          "base_uri": "https://localhost:8080/"
        },
        "outputId": "27c644b6-1509-4519-a25b-f83e8a5cc72f"
      },
      "source": [
        "another_list = list()\n",
        "print(type(another_list))"
      ],
      "execution_count": 26,
      "outputs": [
        {
          "output_type": "stream",
          "name": "stdout",
          "text": [
            "<class 'list'>\n"
          ]
        }
      ]
    },
    {
      "cell_type": "code",
      "metadata": {
        "id": "_IiPXPfK5G8O",
        "colab": {
          "base_uri": "https://localhost:8080/"
        },
        "outputId": "5d16a63f-0d77-4b88-a555-d81789c68087"
      },
      "source": [
        "tharoor = {'farrago':'a confused mixture'}\n",
        "print(type(tharoor))"
      ],
      "execution_count": 27,
      "outputs": [
        {
          "output_type": "stream",
          "name": "stdout",
          "text": [
            "<class 'dict'>\n"
          ]
        }
      ]
    },
    {
      "cell_type": "code",
      "source": [
        "test = None\n",
        "print(type(test))"
      ],
      "metadata": {
        "colab": {
          "base_uri": "https://localhost:8080/"
        },
        "id": "x4xtO6D8ygdx",
        "outputId": "f04d114a-867f-468e-fc8f-7ab8bd07334f"
      },
      "execution_count": 28,
      "outputs": [
        {
          "output_type": "stream",
          "name": "stdout",
          "text": [
            "<class 'NoneType'>\n"
          ]
        }
      ]
    },
    {
      "cell_type": "markdown",
      "metadata": {
        "id": "4RUiqsextUcu"
      },
      "source": [
        "So we know all these things are objects, so how can we create our own Object types? That is where the <code>class</code> keyword comes in.\n",
        "## class\n",
        "User defined objects are created using the <code>class</code> keyword. The class is a blueprint that defines the nature of a future object. From classes we can construct instances. An instance is a specific object created from a particular class. For example, above we created the object <code>another_empty_list</code> which was an instance of a list object.\n",
        "\n",
        "Let see how we can use <code>class</code>:"
      ]
    },
    {
      "cell_type": "code",
      "metadata": {
        "id": "-St1spSutUcv"
      },
      "source": [
        "# Create a new object type called FirstClass\n",
        "class FirstClass:\n",
        "  pass"
      ],
      "execution_count": 29,
      "outputs": []
    },
    {
      "cell_type": "code",
      "metadata": {
        "id": "wm_mkKWZtUcx",
        "colab": {
          "base_uri": "https://localhost:8080/"
        },
        "outputId": "f56634fc-f6be-44f8-c8a7-bb55be85206c"
      },
      "source": [
        "# Instance of FirstClass\n",
        "x = FirstClass()\n",
        "print(type(x))"
      ],
      "execution_count": 30,
      "outputs": [
        {
          "output_type": "stream",
          "name": "stdout",
          "text": [
            "<class '__main__.FirstClass'>\n"
          ]
        }
      ]
    },
    {
      "cell_type": "code",
      "metadata": {
        "id": "110XHhG_tUcz",
        "colab": {
          "base_uri": "https://localhost:8080/"
        },
        "outputId": "dc244051-16fd-49e7-ea2b-6c85e009c6f4"
      },
      "source": [
        "y = FirstClass()\n",
        "print(type(y))"
      ],
      "execution_count": 31,
      "outputs": [
        {
          "output_type": "stream",
          "name": "stdout",
          "text": [
            "<class '__main__.FirstClass'>\n"
          ]
        }
      ]
    },
    {
      "cell_type": "code",
      "source": [
        "\n",
        "\n",
        "\n",
        "\n",
        "one_more_object = FirstClass()\n",
        "print(type(one_more_object))"
      ],
      "metadata": {
        "colab": {
          "base_uri": "https://localhost:8080/"
        },
        "id": "QpXjaRGUnTgD",
        "outputId": "1e321f45-dcbc-4d6c-a967-c681d9e26a4c"
      },
      "execution_count": 32,
      "outputs": [
        {
          "output_type": "stream",
          "name": "stdout",
          "text": [
            "<class '__main__.FirstClass'>\n"
          ]
        }
      ]
    },
    {
      "cell_type": "markdown",
      "metadata": {
        "id": "0GzJ7pXVtUc2"
      },
      "source": [
        "By convention we give classes a name that starts with a capital letter. Note how <code>x</code> is now the reference to our new instance of a FirstClass class. In other words, we **instantiate** the FirstClass class.\n",
        "\n",
        "Inside of the class we currently just have pass. But we can define class attributes and methods.\n",
        "\n",
        "An **attribute** is a characteristic of an object.\n",
        "A **method** is an operation we can perform with the object.\n",
        "\n",
        "For example, we can create a class called Dog. An attribute of a dog may be its breed or its name, while a method of a dog may be defined by a .bark() method which returns a sound.\n",
        "\n",
        "Let's get a better understanding of attributes through an example.\n",
        "\n",
        "## Attributes\n",
        "The syntax for creating an attribute is:\n",
        "    \n",
        "    self.attribute = something\n",
        "    \n",
        "There is a special method called:\n",
        "\n",
        "    __init__()\n",
        "\n",
        "This method is used to initialize the attributes of an object. For example:"
      ]
    },
    {
      "cell_type": "markdown",
      "source": [
        "![image.png](data:image/png;base64,iVBORw0KGgoAAAANSUhEUgAABE4AAAE2CAIAAADwF0DQAAAKIWlDQ1BJQ0MgUHJvZmlsZQAASImVlgdUFNcax+/M9kZbWDosvfcOUpdepEgXlWWXDgssVcSGBBWIKCIioAgSqoLRUCSoiCgWgoAC9oAEASUGC6Ki7puVaJLzznvvvP+cb77ffDPnu3fm3nPmDwApgZmcnAALAZDISeP6uTjQg0NC6bjfABmQgCj/YLJSk+19fDwBoq/5n3o7DiB+vq3D7/Xv9/+rhNmRqSwAIB+Ek9mprESEexF2ZiVz0wCA8QgrZaYl81kbYVEuMkGE7fgcvcr+fI5Y5Zgvz/j7MRDOAQBPZjK50QAQ9yB1egYrGulDbERYn8OO5SB8F2EbVgyTDQBJAmHtxMQkPjsirB7xtz7R/+gZ8a0nkxn9jVff5YtojKSEpHQu3ZPhSGcwE2IjuMy0SPb/+XH+lxIT0r+Ox18BciTHxQHJmkjIAAZIAglIpAMuoANP5NoRyQzARKqxIAKpMkEaiATIpNIis9L4TRhJyZu5sdExaXR7ZCUj6W4clq423VDfUB8A/r5YHeo17ctoEO3GX7VdCgBYb+bxeD1/1TyGATh7Hvk29/+qqc0AIHADgGuHWencjNUamn/CACIQRPabJJADSkAd6ABDYAqsgB1wAu7AG/iDELARsEAMSERmnglywE6QDwrBfnAIVIBqcAI0glPgDOgEPeASuApugmEwBh6ASTADnoNF8BasQBCEgygQFZKE5CEVSAsyhMwhG8gJ8oT8oBAoHIqGOFA6lAPtggqhEqgCqoGaoB+hc9Al6Do0At2DpqB56BX0AUbBZFgUloVVYT3YHLaHPWB/eAMcDafA2XAevA8uh2vhk3AHfAm+CY/Bk/BzeAkFUCQUDaWA0kGZoxgob1QoKgrFRW1DFaDKULWoVlQ3agB1GzWJWkC9R2PRVDQdrYO2QruiA9AsdAp6G7oIXYFuRHeg+9G30VPoRfRnDAUjg9HCWGLcMMGYaEwmJh9ThqnHtGOuYMYwM5i3WCyWhlXDmmFdsSHYOOwWbBH2KLYN24sdwU5jl3A4nCROC2eN88YxcWm4fNwR3EncRdwobgb3Dk/Cy+MN8c74UDwHn4svwzfjL+BH8bP4FYIQQYVgSfAmsAmbCcWEOkI34RZhhrBCFCaqEa2J/sQ44k5iObGVeIX4kPiaRCIpkixIvqRY0g5SOek06RppivSeLELWJDPIYeR08j5yA7mXfI/8mkKhqFLsKKGUNMo+ShPlMuUx5Z0AVUBXwE2ALbBdoFKgQ2BU4IUgQVBF0F5wo2C2YJngWcFbggtCBCFVIYYQU2ibUKXQOaEJoSVhqrCBsLdwonCRcLPwdeE5EZyIqoiTCFskT+SEyGWRaSqKqkRlUFnUXdQ66hXqjChWVE3UTTROtFD0lOiQ6KKYiJixWKBYllil2HmxSRqKpkpzoyXQimlnaOO0D+Ky4vbikeJ7xVvFR8WXJaQl7CQiJQok2iTGJD5I0iWdJOMlD0h2Sj6SQktpSvlKZUodk7oitSAtKm0lzZIukD4jfV8GltGU8ZPZInNCZlBmSVZO1kU2WfaI7GXZBTmanJ1cnFyp3AW5eXmqvI18rHyp/EX5Z3Qxuj09gV5O76cvKsgouCqkK9QoDCmsKKopBijmKrYpPlIiKpkrRSmVKvUpLSrLK3sp5yi3KN9XIaiYq8SoHFYZUFlWVVMNUt2t2qk6pyah5qaWrdai9lCdom6rnqJeq35HA6thrhGvcVRjWBPWNNGM0azUvKUFa5lqxWod1RrRxmhbaHO0a7UndMg69joZOi06U7o0XU/dXN1O3Rd6ynqhegf0BvQ+65voJ+jX6T8wEDFwN8g16DZ4ZahpyDKsNLxjRDFyNtpu1GX00ljLONL4mPFdE6qJl8lukz6TT6ZmplzTVtN5M2WzcLMqswlzUXMf8yLzaxYYCweL7RY9Fu8tTS3TLM9Y/mGlYxVv1Ww1t0ZtTeSaujXT1orWTOsa60kbuk24zXGbSVsFW6Ztre0TOyU7tl293ay9hn2c/Un7Fw76DlyHdodlhiVjK6PXEeXo4ljgOOQk4hTgVOH02FnROdq5xXnRxcRli0uvK8bVw/WA64SbrBvLrclt0d3Mfat7vwfZY51HhccTT01Prme3F+zl7nXQ6+FalbWctZ3ewNvN+6D3Ix81nxSfn32xvj6+lb5P/Qz8cvwG1lHXbVrXvO6tv4N/sf+DAPWA9IC+QMHAsMCmwOUgx6CSoMlgveCtwTdDpEJiQ7pCcaGBofWhS+ud1h9aPxNmEpYfNr5BbUPWhusbpTYmbDy/SXATc9PZcEx4UHhz+EemN7OWuRThFlEVschisA6znrPt2KXs+UjryJLI2SjrqJKouWjr6IPR8zG2MWUxC7GM2IrYl3GucdVxy/He8Q3xvISghLZEfGJ44jmOCCee058kl5SVNJKslZyfPJlimXIoZZHrwa1PhVI3pHaliSI/4MF09fTv0qcybDIqM95lBmaezRLO4mQNbtbcvHfzbLZz9g9b0FtYW/pyFHJ25kxttd9asw3aFrGtb7vS9rztMztcdjTuJO6M3/lLrn5uSe6bXUG7uvNk83bkTX/n8l1LvkA+N39it9Xu6j3oPbF7hvYa7T2y93MBu+BGoX5hWeHHIlbRje8Nvi//nrcvat9QsWnxsf3Y/Zz94wdsDzSWCJdkl0wf9DrYUUovLSh9c2jToetlxmXVh4mH0w9PlnuWdx1RPrL/yMeKmIqxSofKtiqZqr1Vy0fZR0eP2R1rrZatLqz+cDz2+N0al5qOWtXashPYExknntYF1g38YP5DU71UfWH9pwZOw2SjX2N/k1lTU7NMc3EL3JLeMn8y7OTwKcdTXa06rTVttLbC0+B0+ulnP4b/OH7G40zfWfOzrT+p/FTVTm0v6IA6NncsdsZ0TnaFdI2ccz/X123V3f6z7s8NPQo9lefFzhdfIF7Iu8C7mH1xqTe5d+FS9KXpvk19Dy4HX77T79s/dMXjyrWrzlcvD9gPXLxmfa3nuuX1czfMb3TeNL3ZMWgy2P6LyS/tQ6ZDHbfMbnUNWwx3j6wZuTBqO3rptuPtq3fc7twcWzs2Mh4wfncibGLyLvvu3L2Eey/vZ9xfebDjIeZhwSOhR2WPZR7X/qrxa9uk6eT5KcepwSfrnjyYZk0//y31t48zeU8pT8tm5Web5gzneuad54efrX828zz5+cpC/u/Cv1e9UH/x0x92fwwuBi/OvOS+5L0qei35uuGN8Zu+JZ+lx28T364sF7yTfNf43vz9wIegD7MrmR9xH8s/aXzq/uzx+SEvkcdLZnKZX6wACgk4KgqAVw0AUEIAoCIegrh+1bf96XOgvzme/8Cr3u6LTAFoRZIf3930AnAaCdUdSG8k8y2nvx2AjYy+xZ9KjTIyXO1F5iLW5B2P91oWAFw3AJ+4PN7KUR7vUx0y2XsA9Kas+kW+sIiLPs73jeDewfVfx/+mfwHl4sW13haxPAAAADhlWElmTU0AKgAAAAgAAYdpAAQAAAABAAAAGgAAAAAAAqACAAQAAAABAAAETqADAAQAAAABAAABNgAAAACS24nQAABAAElEQVR4Ae2dC7BlRXmoHUBgBgfGcYDhlREYyEAhYjRGg3qJmqhBrklRcqMmEaz4wmBV4CYhGa1rSogkEVIFBh+xBJOoKSzqxiiiiXqJSiREEAkFI+8JjMzAOIwMb4G53+HHn7bX2vvsc84+Z5+z10edGnr16ufXq3v33/3334u2b9/+DP+TgAQkIAEJSEACEpCABCQwXgR2GK/qWBsJSEACEpCABCQgAQlIQAITBBR1/A4kIAEJSEACEpCABCQggTEkoKgzho1qlSQgAQlIQAISkIAEJCABRR2/AQlIQAISkIAEJCABCUhgDAko6oxho1olCUhAAhKQgAQkIAEJSEBRx29AAhKQgAQkIAEJSEACEhhDAoo6Y9ioVkkCEpCABCQgAQlIQAISUNTxG5CABCQgAQlIQAISkIAExpCAos4YNqpVkoAEJCABCUhAAhKQgAQUdfwGJCABCUhAAhKQgAQkIIExJKCoM4aNapUkIAEJSEACEpCABCQgAUUdvwEJSEACEpCABCQgAQlIYAwJKOqMYaNaJQlIQAISkIAEJCABCUhAUcdvQAISkIAEJCABCUhAAhIYQwKKOmPYqFZJAhKQgAQkIAEJSEACElDU8RuQgAQkIAEJSEACEpCABMaQgKLOGDaqVZKABCQgAQlIQAISkIAEFHX8BiQgAQlIQAISkIAEJCCBMSSgqDOGjWqVJCABCUhAAhKQgAQkIAFFHb8BCUhAAhKQgAQkIAEJSGAMCSjqjGGjWiUJSEACEpCABCQgAQlIQFHHb0ACEpCABCQgAQlIQAISGEMCijpj2KhWSQISkIAEJCABCUhAAhJQ1PEbkIAEJCABCUhAAhKQgATGkICizhg2qlWSgAQkIAEJSEACEpCABBR1/AYkIAEJSEACEpCABCQggTEkoKgzho1qlSQgAQlIQAISkIAEJCABRR2/AQlIQAISkIAEJCABCUhgDAko6oxho1olCUhAAhKQgAQkIAEJSEBRx29AAhKQgAQkIAEJSEACEhhDAoo6Y9ioVkkCEpCABCQgAQlIQAISUNTxG5CABCQgAQlIQAISkIAExpCAos4YNqpVkoAEJCABCUhAAhKQgAQUdfwGJCABCUhAAhKQgAQkIIExJKCoM4aNapUkIAEJSEACEpCABCQgAUUdvwEJSEACEpCABCQgAQlIYAwJKOqMYaNaJQlIQAISkIAEJCABCUhAUcdvQAISkIAEJCABCUhAAhIYQwKKOmPYqFZJAhKQgAQkIAEJSEACElDU8RuQgAQkIAEJSEACEpCABMaQgKLOGDaqVZKABCQgAQlIQAISkIAEFHX8BiQgAQlIQAISkIAEJCCBMSSgqDOGjWqVJCABCUhAAhKQgAQkIAFFHb8BCUhAAhKQgAQkIAEJSGAMCSjqjGGjWiUJSEACEpCABCQgAQlIQFHHb0ACEpCABCQgAQlIQAISGEMCijpj2KhWSQISkIAEJCABCUhAAhJQ1PEbkIAEJCABCUhAAhKQgATGkICizhg2qlWSgAQkIAEJSEACEpCABBR1/AYkIAEJSEACEpCABCQggTEkoKgzho1qlSQgAQlIQAISkIAEJCABRR2/AQlIQAISkIAEJCABCUhgDAko6oxho1olCUhAAhKQgAQkIAEJSEBRx29AAhKQgAQkIAEJSEACEhhDAoo6Y9ioVkkCEpCABCQgAQlIQAISUNTxG5CABCQgAQlIQAISkIAExpCAos4YNqpVkoAEJCABCUhAAhKQgAQUdfwGJCABCUhAAhKQgAQkIIExJLDTXNZp0aJFc5mdeUlAAhKQgAQkIAEJSEACnSKwffv2rK+7OolChwQkIAEJSEACEpCABCQwPgTmdFcnsJWS1viAtCYSkIAEJCABCUhAAhKQwOgINDXI3NUZXWuYswQkIAEJSEACEpCABCQwawQUdWYNrQlLQAISkIAEJCABCUhAAqMjoKgzOvbmLAEJSEACEpCABCQgAQnMGgFFnVlDa8ISkIAEJCABCUhAAhKQwOgIKOqMjr05S0ACEpCABCQgAQlIQAKzRkBRZ9bQmrAEJCABCUhAAhKQgAQkMDoCijqjY2/OEpCABCQgAQlIQAISkMCsEVDUmTW0JiwBCUhAAhKQgAQkIAEJjI6Aos7o2JuzBCQgAQlIQAISkIAEJDBrBBR1Zg2tCUtAAhKQgAQkIAEJSEACoyOgqDM69uYsAQlIQAISkIAEJCABCcwaAUWdWUNrwhKQgAQkIAEJSEACEpDA6Ago6oyOvTlLQAISkIAEJCABCUhAArNGQFFn1tCasAQkIAEJSEACEpCABCQwOgKKOqNjb84SkIAEJCABCUhAAhKQwKwRUNSZNbQmLAEJSEACEpCABCQgAQmMjoCizujYm7MEJCABCUhAAhKQgAQkMGsEdpq1lIec8KJFi4acoslJQAJTJ7B9+/apR5pRDPv+jPAZWQJDImDfHxJIk5HAAiMw931/uIDc1RkuT1OTgAQkIAEJSEACEpCABOYFgQWzqxO0FrpkOS/a3EJIYFoERru7Yt+fVqMZSQJDIGDfHwJEk5DAAiQw2r4/LGDu6gyLpOlIQAISkIAEJCABCUhAAvOIgKLOPGoMiyIBCUhAAhKQgAQkIAEJDIuAos6wSJqOBCQgAQlIQAISkIAEJDCPCCjqzKPGsCgSkIAEJCABCUhAAhKQwLAIKOoMi6TpSEACEpCABCQgAQlIQALziMACs8A2j8hZFAlIQAILjcCW//xiFnmPI1+14y5L8nEhOh5/5MEfX/v1suTLf/G4fHzkR3c+cOv38nHn5fs+6+AX5qMOCXSNwPbHH3t068ay1rs8Z//ycd666ctl2XZetnLRjk5fSyS6+xHwW+lHx3cSkMCYEeDH/uGNtzz0wxvLejEJfuayvRfKr35Z8im5mS6sv+C0jHL4B7/RR9T5ybYtTzz6YAbGsdOzlvcJX4acM/dj928pa0S+paiDnFO+ffaLXq+oM2dNY0bzkAByzvXvf2VZsBec/zMjYflqXrmrYjN2jf1wPa/4L/TCKOos9Ba0/BKQwEAEmOjf9YVz7v3ul3qF3mn3Ffsd/ydjsNfRq4IP33Vz+arPXIHdkuv++CVlYNx7HvO7+5/wvsrTRwlIYFIC7KaWUnef8Ajkux30gsUHHK5Y3oeSryQwJQKKOlPCZWAJSGBBErj9U6f2EXKiSo/dtzmmI4ec9rnWeQY7QteccngEXnXS2eUGwlCg3HPZ39950QcjqdlYbX1w/XVZzqVrfjndTcf9N13Z9Lznsr/b7/jTB9EbueuSj2y85FxSYN723Led00wKnxvOPO7hDT/AMRskW3MclSf7Yyk3uho9qlZYKPkyTMVItet+P7/vG07b44hjFkrJLacE5i0BRZ152zQWTAISGA4BZt6TyjllTjed/aZWaeeB279fBhu6e/PlFw09zTLBRzbdmo+7HfyidDcd93zjwqYnPvfd8O1B5l6bv/XZ1ujpyew/5Jz0mZ4DnTokpenFnbNYW6+6ZM7yMqOxIUAHufX8d4z9QsCA7VV1czr+gBENJgEIKOr4GUhAAuNM4KENP4gdhrKSqSXy+EPbtl3/7Xuv/jJbOmUApJ0j//qa6mjK1qsuLcMM1z2s2X+fUpXy3i57reoVEu21bev+vfUtItCkog7AK5jNpIY1+6eBhr631iztDH1mW4KdYfGMPp8JsM+MPlsfXdP5XPghlm3+d/MhVtakhk5AUWfoSE1QAhKYRwS2XvOvVWkOOvkT5XwdN0dQmhpuKHGVwdBeQ4OrSmqIj8Oa/fcqEqJU+Yr5U/lYurd85+LyEVW3lHxwIAhVEmAZGHcTeBWAx+7M/udAgm3i1WeeE2hV7ORTYRCga1Qbnvf91//b85jfmec1sngSmM8EFHXmc+tYNglIYKYESq0t0mKSUQowmfoBbzlj241XlNsR9175zxEyDDQ/cvf6DIyD+Uc+NlccMYFAgNLSMaLFzisO2P2wl1VnXQgZwarZf1qFbl3TjVgUKWq3y94HLVl1xK77rO6z+vvI3bdlgXFgrbV8LN1lSTDVsOqkc/KoCcEQhFonXvffctWjW35IgFJ77aG7bsqKYO8hDEM//sDWcjLXJFmZkE4j0WSx+d8+QxbUd59jfx9HFRKfZlvgWf2H1Iou4rZ134EemjBLDnx+K2RiZeEjhdbEqzBh1iILVtZuIsEr/in207JSZdmY7D64/tpHN98Rn0SWbVLTupFd5MXeHdIpcaG0/CW/0eeTKLPWPXICz1y6nJ61/KXHX/sHR5WF4WNo7XERhqbHDiFhYoBauualu+x1IEmVKQzoZj+WdYqddtuDkWrJqiMnTYTPddu6y0k8subDXrzvocStlkLobpWF6z7fM2mWhh/5jCM1RryyFn1SiOx+snUTw9GDt32f3k2pdth1tz4doco0E2fAeeiO63fcbVnr+BAjXgzC9DWqT6fe7bnPr0b4sti6R0VAUWdU5M1XAhKYCwKl1hb57f68X2nNlR/U1adcgBHq5u9iq+kkks2Uyxkwv5rrLzg1t0EyrwjMUeMDfusDpc0D5iit6acnSurljzQzmzs+877MOtMPB3Pcg9/zydbfWn6zMzDFaA1DAKYUpRyy4uVvZsZD+PREEGqdeCGENEtFrKwIJ/LTnSXBQayMGCQrE9JIpxArbTYQK0SdKiT+ZVuUuaS7SmfC/7KJf1Ye+95Ic+Lhp/9VBW5NvAoTJrybBYskU5cyKvXTfJ7B/Gzztz6XRinSP8qGwLlm7Zdap55E3PiVj2WyETE/P/ybn9zTieuafwQYiPg2skdQQNYLWotJ02+4+Kxqqzm/hGrvujWF8GTI2nTp+VU6vNr/hPe39nReMUr0sWZJxBUvf1OOMDhu/KsTylWkXilTo3JVhYyyFoMYm27vRJeRzMR/dKKf++0/b13n2vD5M0rgdGGknevWviLLXA7C5HLv1ZduuPhD+TbSz38ZSVa8YmLYTB8dIyeww8hLYAEkIAEJzB4B5g1l4kxMkRZKn3Qv3u/nmcvybyla5NtBHEwa1p35+pxoNqMw9ecUEMuBzVeD+BDx+v/z6vJXuYpF1rf8ze9RjMqfx9goCP+lh/xSM0D4sO1Qvlp21K/yuOLoE9KTKlQrrPlqlhyIDTRZixgw9fwA2Csd5oiYr+if5CxVfOKzOes3exWMIjGpYgrY/GyYddHcObttLXx8cgh4rW/1nP8Eyt6XpWUHhrl4Uz7JAJg0mPR7JjCfEEszrenwQbamMDEKvf+VfUYhIvI9k3IWhhWTdOMo941Lf248Kx9xsw1e+fR6BMiknQgmN597YuvwWCb7xMMPIMz0kmRYWeBHpNdb0qE/8iswS2NFWU7dgxNQ1BmclSElIIGFR6C5jYO00Jw1DqVi/MJVP4GsqVeyFhnd9ren9BK3+hSDKEQs04/Eq/SRdm4+963NdFDPS0+UOtJdOUr1M14h+PHvshceWwarxKHy1Wy4qRFLyDNPmdVx5MxIhyXeZoLMUZgwNf1n24dFZQSSMhfalD/at/Sk8NUsjVlXJVcTi0VlbkCqKsjscyRVK8uvexACdPNKiqh6H4kQZt2Zx5VDQWvKfM+TirjsJVafUJkUKVQjFY/ZiTJk9aHiz/fMx5kBYsUkH3lbJRuvqmN+fMa5NZRxWx0TiwU/NV7fGiA9Y3gsxbB8lQ6KwaZNPpYOeMKk9MHNXnpFgKZBGmytYxXXx7khoALb3HA2FwlIYDQEULOuMuZ3iF9rfpyWHfUafoObyuVV+LjiprJb0DQCi/hUTT7WrP1iiAor/sdb7vjHD+R0lmCcWgltKP7ljyXASkOjea/O3V/7VJk+c9nV7/10qEns98b3lVpzZMS8NrKOuvCjW8ZFSa+qYzxWVWCqEf61Dtu3PtvU9eL+HP6qijDzLu/ViUpxuKVU+mqSbJYtVp2p8srXvpu35Q5VM3Avn+CPJLDXq9+GmhDTHWxns9Bbhv/R5Z8fyjWpbAy2fjbNe3UgVk1t09A5JayU0zZ/82fIb73mq2XhMyKe1KJS1RtW1cocdU+PABuVserPWRRS4JF/2UzAFEq148Ew1VSFqiR/+kXqN1adCxG31CVrlpYAeJICyl2cTqw+RV5VZ/MYhcpEJkahUy5gqEHYqNTAEAmioxGeAFQkB0B8KqMvkWa1zvKco99Y5tXHTdbVWzTf4rgRBaPXlPIJxWDTJobfKlY8ZmBqt/TQl0TrxKuqdVK/jrdNAhW61rz0nBsCijpzw9lcJCCB0RBg0snsNn+9shD84G38qR3q+El79ov/5yCHcTOFylGZouanPYUNjprs/WvvKOf3nJft81tbpcwjskpVBWYYOQfCsfq9F37v5KcFmGpey0n3Mk2ku/Ix3VUVyqkGWjQxKyIwUlMlSmUKs+dA7soLTHsdIZg0dxJJIY0FYxT3EbTKdkGm2ucNp8ZJ6GZqO+y8pOk5Q59bPzYhvOV/fKt5lIsSUlqsOKR+Ed/Ayte+K5a6EYTKuSPfMEeiMx0cUGJmtnifQ3A39zbLkLrnmAB7C9XSRmsBWCnga6xeISPl9xCvyqGAUYXFnTLxSe/Cogs8+xdeF91h79e88/YL/3f5XbGsUHa3ShpBMy1GOYYgFjWQCso9IoadHAPLAYRip9GXrB1DSrkcw/eccTNMq4MFmkpCK2V+ChZdvhw/2bQJ8yGtCYZnYskwDMIlGUb48uQPGaVtm4nBf59DHnvgxxlXx2gJKOqMlr+5S0ACs06AnzpsbVU/h2Wu/MTyNgLE9GIax3VYR48NAZb3MCIU67WZC8Z50o1j203/UT5O6n7ozhvKMKhMNOcBlDzrWE3ZMbeQ0ZlDtE7lmTqXU6hqqoEWTYo6JFWJUpn4LDkoTMo5M8miFN4iHWY8VYJM11r5EIzZTBV45o/l5InUONBcpbn08JeV7dJr5so3zFmF3OiLRA5b+8UqNR8XBAE++NgtaZa22tKk11dDAWMX0VNs+OEXzi5n5FWCRC/XXEgKuymlihpDSm7MMkQc+odPX3P88F03P+uQF5cJVoPehJWXnyphVgMIya5661+G0B4pVNprsX9bJt7LHVYZ8y1jYy4WpCcLBKWoA5zWbaWnwx/73hJL+D/x6MMZAAc9l7NMufSAD+PG88769zKM7nlCwLM686QhLIYEJDCLBPi1RneI3/VJ8+A3mDXRyoLwpLHKAEyImW1U0+VnLtu7DFNNcMtXre6w45yvmFKwuFv9YfA0A+Ao9S5Kk8eoZJTB0s0cOt04qpPEVIqlygzA5Jt5Tz7OtoN5Tzkrml52lfAWidBMzI3KBKupZPlq6O7QYiqTRUiumrV8i5tLb8MHIKlhGD58VJwW49MlhblsnaqEPs6cwITgeuZxN5x5XPNUIRvCZfqt+3XP/oVfzzD9h5pm9GpvMNPBwSfHyJZ/SFDVKNfUFs7o1QCCPwbf8y2Oar+oeUKpDFy6Kwt1K489pXwbbkpeDf7Zj5qB8UH1rulPFaqxAvEJuyB2tyar+ebjrs58a5E5Kk81k5t0M3eOijVANmwix+0cGba5+pKvdEggCfALjcDDUiJ2flhuZPZfXaSTIXGg1MSBllySLF/1d8f3yXSEfZv+k4z+6VRvq/kN8hh/VZjqEdX/9ClnA83JTQS75xsXZngc1UlifCoVFGYqzdXTMoUhuqvF4+ml3EvGq5aiM/GRSAul6lGWpHTw3eaIxyZVueFDMKbIqY/HtIxLWhbQ2F5Wc7zdSN35NVZKX2XFGUDYYGGOnvsqE0385MGeDEZzZ4unZ+VgLs7oV3nGY1M4aa4pNKMzyqGcFqNomWw5zuBffqs87vuG08qjcVxslQMIWeQ2FCH5dJErypT7uKthtlpUyojUtBwzq7JlMBys6VQiXL7d85Unlhp6+KcuImXe7eAXMWxO41cj09cxSwQUdWYJ7OwmGxoymQc/1b16ZoapHNXgGHdBVGHm5yMDfVX4/OGfnwW2VPOKAD/k/BTxF58Nv9loMrSex0Vnfar6Pz++7rL//oc/LX+zh1X3an4zSLKpPcKUvZwNVKp0kRQcqp/wTV/9eJVLVYaNl5zHAaEqzCw9cgPgLKXcTJazMeFZ3XvYDBk+pbJQrzC9/Ge4g8RnzBUlpWJhmRENGm3K5s+erzqx12S3jKJ7bggg55TSS2ZKV2UFgSNzpQTLBJ1peh6YKU0pZsRpO1q/Cub65YhRJc4oV0os1ds+j9WCBds4eXAOwaOMiERRPvZxIyP1eVu+4ibQ8rEazcpXcbyt9Ek3VUCkqYbKeBvdjX0e6HEy0yWGhDYfHIo686EVplyGytTJICaMppyHESTQAQKsEaCGwR82CSophR97Zh7NNc5eVCqDVxmMX76JI6o/e2A3386Bo5qyc5l6M1OMBVWe5Qpo9Soe+WlHQJrqIktrUpVnc/rFjX5VmNl7zCnRbBghmHmxq5kuM2C26bBt0GduyryZv6bxt5kXxhSGS4DRho0O/h7eeHM5n0aaTVFnGispHKpp9qnplfzOi84oxbApJcJYwQ5VDixUJPeLKstmg1+nM6UClIFZCcpHelCWCs9KEziD4aAKrO9UZu7KALjpiazGsgJyxJnfHPzno0rEx+ESUNQZLk9TGw6B/zr9l2NAn54Uh35zHqxsGu0dThFNZbwIIO3sd/yfVBuGCAmDTxE2fuWjJRJ+1LEBnWoY/KhPqptURq/c1a9vpdNSBa4eq62DLFIZrJpqlK/6uNNkdp8wQ3k1khlDExTb6ZUnPtOYeiaTpvrQNMYrPlG2HynJg+uv3Xb9t3vNRLmx3jPTSX6eOzhwUoo6lDalglJawB+Tfctf8hv9q9NLRbNXrF5iM2Wovi4Kg9G2nXbfM/pFfxmA7DC7XwoVbOYgwvHpljmyCTl4f5/2IkgqEDYh7LLXqqZn6YNGAJs2mIph/+3eq7/cOgLguf7Tf9S6d1cmpXtuCCjqzA1nc5kCgcroZBWTURv5p/KsHiubudVbHztCgD0ZZBVWNDmBym8qeuTPPfHDfRSpsbiKEdLyd2vw1VAmAWVECFf2hWbIvPr1rZb2+ydenvNhatIMTOHLqUYzQC+fTf/yiQWkPlodJMhKVf47Ll6aryrHY/fdU4k6SBdVmBk+5ox2qulQsNifxAxgiD2Y3iqble9zlnbhplpUw09KYPH+h1Vheo1F2JYcfDmmSnOqj9WiCapc1VT+kbvX90+zsnnACguiztarLiljNc0klm8rd1MoKs8oloHLYRD/5ipDGXhSN9s7sf+W3a25yoBQV/GZNFkDzBIBRZ1ZAmuy0ydQGZ2sEmKI6T+7YoJbrTxVKfjYHQKsZJcSyM3nndRHqQATZGVgKO26z+oBWVWTACSK6jd4yxX/NGBSrcGqAzZTmraiDJNpVrtD4V+VjRkMF0RklMpR7k0xk2ZWXc3+y/B9FOIzWJ6NSZ9ZcrSWtlpRJus+jZ7Hn7KED66/Lt3TcDQnqb1mtFNKPMQetIAwD1VuDtAcjJ9TSsrAIyFQ3dRJGfKzrLStprTqMcO6VCdqMHpRJVjdaVu95ZFRkU2b/IGmSyJ+l1vKrWYSm+mUPtU2F/OH1vUstl/KWKmnWnpOz52rDHu/7mRMIJY/ItNeuZheSYzVi4DGpnuR0X9kBCqjk1MtR2XCcqrRDT82BPhZrSwm8yOEUgHCcLOOTHk5q1P5N2eiGYANjXQ3HdX8g5/z8laHZvimT2VktrnKW920Qwpc8nD7p07lDweaJGQayZaT3SWrjmjmVfU4zgRT8V5/lYFjbiJvJpg+ZM2PfT62OlD8a22R1sAz9KzWj8m3Kj8zrVIlptoEY9OPPecsA21UoctXvRyVVEmwKgvWhqu45BLNyjEJmjULgD/Hw3iFui9/2dwZne+/ORnNtzrmLYGJ2f+36m6Vn2XrqkdVlxgB+FowIUAHHFb/qoe1nxrwiNz5MstdxKpI+Vht2iDUlbEGv04nE6yWb0DXrG9TVWTpmqMzhQEdkIQnVOl0dMZmLGSe6hdnfp73a5Z87H12GvsadrmCocbAbyeLeQwHS9e8lAnTlFb1GHOZUXGnRy7nsKSEEV5uW29Nh1/f8gKQNELC0IOFX5Zb2G2nRUiE7eNqHskIwit2wMtFkcyXV2kyq9XYNEUN/+qAdSRL9PiFKIuHTxq7JED5HyNjeWyxT8gylu75RoALGSsZA6UC/phfYocgFkpZR2dtnvXI8sOjItUclC+21DLn55mPJJcPK60nkuLDQyPuicce5be8KkNQorPk55fzmATIvXgoe+TWEN0NpfwynbBCm8eByK58S+Gjv1SSRq4NZ0YUo6p4/zPBy174ulyUJREmFmlGicfmqYC7vjBh4DsrQpjmXO3eqy/tv1WbpZ2hg+PdjF0oepEOzVddDI8nM5WyqFWjA4rbTjB6hiEmLNSV38OABaON+CbLfbB93nBqmQ5sMVPONY7xbdB8t/3tKdlAO1294vA/+1rkha3essVv+/jJlUE8xn9ks7Jg1ZBbvtI9lwT4Ra46ZuTOWITN93JtIvwxbZKfJR9GZSHt+v/z6p/77T+Pr5rwTMfLD4OhYFhqVJxvKb9VdmNWvPxNFIwf39ZRrlINjbowZpZGC8uiEmDw63QiNf7lDhxGoewjONjMPPg9n0xidAT28zM8DpiUfbB81cfNUFZWH6XitBURscio3NeimtPIpU8BfDVtAoo600Y33yOyrlMNIvHI73TVP3vVhMlTdUqbkNnVDzntczlRyxSYn2UAPMOGddMyVYSpTA4084rsMsGYDPEjUYXs5R+lysCMbsxu85G3jES9zulWc6CJ00EHvzAS9N8FRIBfGtqubPQoPB9Vflet1eHbqJS4kM+fcdEHy8DMeuOR73zJqiPLV7jJtDr5U1kpZQrL1IGZLhNQfpWrt1nCnKlwLXf5i04WEYYAVV0oPNJFlIfJU1mw5mS3Otg26ZngStueicXPiHy7LKnmYVmR7O/NHSpYRRvNgZWwsJNb0U5E1QnvZqMTsjTuTDr4NOemmSBjTtU61/3xU1e4hgUCWqRqQaRo5FgwPrbtRzmBiwRXn3JBrjExwytHeMrwvZMPJdbSQ36JwIyTVb7VdlyWUMfcE6CxSkXQSQuw+r2fLsNw5jAHH/z5SPiqafplR72GqXa5SVIOBWUKU3LnoFFJ/mR0zSmHV18vOeZHSwDmIYgEuegZ+bKgUH66WRh60zRkA3pEZVEGvNetfQX3qJI1C6BV92yO7VmA/o7KpgLjAIlzl04epKwG/PIi1/4p+3a2CajANtuER5N+U87JctA/WcfNx1YHizQ3n3tic4JYBubHmNWj0gf3xMyg+I8DDORVzgyKlxNzwUlLUoafubtaro5ZWjNZ1mbKXwsCMFI3g+mzIAggCSOWT6mo/BauWfulnFNGXH7v8e+VDr/Qzalk/uQTizKsOumcMjpvmYzmIZ9Jr5JAHGKm2yxDNaMlCwqfK5rlYZKYl5dlYLu13KLhFZs2ZYCmm5TZXyr9f3T558tHbhotH5tuwDZL0gw2dB+KnSWvZj+RF8tAOasLHx6bzZoFoy1o0+ZGVgbAUd0lUr5KN1tzTSAMQeX3Q2CKl7uIPIKx+WETiwblr/oqSH+/40/PHHUsIAK0ciUA8Bnkl5wVoemRH6pfrnIoyJD9HU3tr9yAatWHLL80ilppoFEkfugRvMtMqwWFfDXpGJghKweDPBJX6UnfoRcw92j2dHbAqrG9jNjHzdpuhZ3Eo4LUcaKa923O6Pa4RDEfHIo686EVhlyGav86UudXmVWfcKch5l4ZsxldDRCMI/xlChGRlaT+sgo2T1i67pUL/nf84wf6vB36q+YsrdUEwrZ1l5dZU/HpjYxlIrpHSICfqCP/+hp+pZpyQrNUBMN0QTW3iGDMG6ouUEZnf6b6uc23zAAoQ6s4lGHQP2Eum4+tDqY46C/1yoUoVLCaGIXKaKS268rVVbJYYqh8qk2b6m08ciN46c+UopweodNSTQjKwOE+8J3nNyf3zWDD9WHxFV27XvnCrXW7GwmhFTioD3z7ebQpS919ysnQsWbtF/t/eCSC7tnE1nHv/1p34/mojviLK3rVKBNDWiv1edJfxzwnQD9i4KKVm+XkS+aL7f9dVUNBM5FWn1wlab7lYz7o5J5nFMmOorLc2b9UJMsKQutAWq1FNgvQxwclPcrWP2t6Cv0lNf36pNbrFdj7EMhY1I4hrg/JDKljbggs2r59+9zkRC6LFi3i3+nlOJO4c1bBOcuIU3HlUkpqhkQBbjjzuHJph85/6B9eFKuVzEg2fuVjzb3jUm+ELZ1r/+Cosi4MuKmOX2m1MQko9YCrt5kIv9OMgJWqa7wts8anSqGqGgFYYaq2/qubKNDiyHxxVG+r6MBp6rCxo1VKejGCl2l20z2qPjjEfPn+OTPGKSzOgJU9iJ9ANu4WH3D4pIfZSAHxIM6/8RkwzSVWeagG4R+VMIye/WTbj9jfYFG/XIknShwDC6usTL45HVuKVby9/6YrY6uH7YIlBz6/ChDfHp9xHDF64JbvkhFXlBKYDZnmrKjsDs3eRGkHPL1WffP009KnUlCJalYVaYZhUYZNpxDGOEyIyQTmOjE/qNIPJdUyx3DnCb18VYaEUm6aEYDGimGQbVuMRN975T9zlgB1r6WHvwz9w7IVMrV0ZFGJUjVrlUuzmiQS5WTpJ5a3KUnzwyAYBXvk7tseuuN6is33GSIWI2drmlm2iIjFBWKRfoxdfNJ8EoPELdPp5R5iH+yVRav/qPJtLcxMPOloaHdPmkJ0eQ7+caYuvtX+UfK74nxX/ujT9Gy/tH4zfGDcP16mWf58pz8TjHTjyAOB4Ukimy49P++TQZBm5ClHTkrFain9ms7C0ETXRtmyWi6kQ9EBy1zoFK1rDRGmf5EynQDC8E7WCYR+FGeVm8NjRKxaB0W1XiEjPL8CWD/aeMl55TyBV0wnUFrb81UTZl2ySAvdsRD7YLPMijoL8jvsI+pUU3mqx5piOdmil6476zdzFIj6l/JGdR1yJcwQvjp7w7JTjmKVoEJgonPmIQMwkyuVjAlQTb+qFKq3hG9WsBJmyrkd4au3+FSiYMWHsbKU9Bi8+pgnJrXu/NccPuam7qPKd25qN9u50F8yC4wfuNCYNHQMTmBUfXBU+Q5OxpASQPYDQv+1koVLaSH2wWaZd1q4DWDJWwmUq5gEYKZeyjn4MNfZ9w2nxdnc1hQq8/PchVwFq7TPsXjWZzGG6CnnkA6FYREIjZdMk5XOciE2/WfPUVW/MsPPUnSZdWWRqXyle94SqMTdeVtOCyaBURForgGNqiTmK4EFTWBchZwF3ShV4RV1KiAL/rG6ErjVBkglq1R1Lo/W8erxh+8vF4arwDwiXPURdXZdeXAVBXWRUtSpDixWgWfjsVIIrqzlYuuzzLTXAcoyjG4JSEACEpBAScAFl5JGx92uLIz2A1DUGS3/4edeSQ7o+jfzKLdZqrdNqWZSGwZVCuUjSsNNhZnmzR5llDlwUyROH+WBJUQ7NqBjYQbtvlL7lsOF46R0OwdszUICEpCABCQgAQnMHwJaYJs/bbFQS1Ie767qwMnIymeePFZ7NXmHOmcNyxLu/WvvKB91S0ACEpCABCQgAQksIALu6iygxlp4Rd1xt2Xzs9Ds1bBjk7YZuPU5dPC4gLws8LwV1cpC6m4SUFugyUQfCUhgLgk4Cs0lbfOSQB8Cijp94HTx1Q47L6mqjR36sTx1VxonQOYJHTbO7WT1sR3XR9Mvg+mQgAQkIAEJSEACEpifBFRgm5/tMv1SYT++jBzXd5Q+uJsHcjJAU6rhnod8O06OyjgBOmxIO6VJBozrj1N9rYsEJCABCUhAAhLoGgFFnXFrcS4lLKtUblOkPxdspbvpwD516cl9duXjlNytGf1k66YpJTLDwFgaaE0hjBPkK3TYuFUwH4EwyLXxGV6HBCQgAQlIQAISkMB8I6CoM99aZKblWbzvoWUSbFNwE3Dpw9SfaX3pU7m5Sab0+fG1X6+kBTaFuMM0/rjxs0q/jNvqLm9nbw1Qem76l0+Uj9Nw33v1pb1ilcYJ0GH74RfOzpBep5ModEhAAhKQgAQkIIEFSkBRZ4E2XM9ic0cnB+7L11iLvvOiMx5/5EE8EVrWf/qP8jh+GSzde736benGgfHl69a+4sfXXRaepHPjX52A1bX4W3/BabvsdWAZfrhuippZD5hyVf0NF38o6t6MHsYJ0r/EUkpBGUCHBCQgAQlIQAISkMACIqBZggXUWIMWdcXRJ9x50QfL0FzZyR+33MSlMWhnlYdSypC4OYtfXjuDD4FvPf8dIUKU8gCvDjr5E83jPVWCU3pcuuboKjxZh8/hH/zGILfcLDvqNRs3/CATofDX/sFRPGJm4LlvOyf9w1EaJ8hX1HSQjDK8DglIQAISkIAEJCCBeUjAXZ152CgzLdKKl78JqaaZSl6OeeDbz2u+LX1WvvZdCAalD26EnErO2fOY393jiGOqYDN8RHCqDgtNNcFlR/3q4FEq4wQR0et0BgdoSAlIQAISkIAEJDBvCSjqzNummX7BOHB/8Hs+2SrtkOghp33uWQe/sNfbyJUU2ABhx6aP1IGcs9/xp0+/lL1jrln7pf7F6x114g0qfJS8f5h8WxknCH+v00k+OiQgAQlIQAISkMDCJbBo+/btc1b6RYsWkdf0cpxJ3Dmr4JxlhCWA8nD/bge9oKlwxbGchzfecv9NV2JX4CfbfoRa19I1L128/2FxV0yVApP71jtkOOXy0J03kBe21LbdeMXSQ19CHclu+UuPbw2PxYIHbv1ecth5+b6IVfkYjkHCUPj7bvj2g+uve2TTrcTCgjaFxyQakglFokZlmst/8bjyMdxYjt627vI0Abf7836llRKB77rkIxsvOTdTaNVzy7dddoyqD44q3y63tXWXQElgVH1wVPmWddctgS4TWIh9sFlmRZ0uf8PW/RkITnGSJ1nErlc+6kgCzeEjX82qY1T5zmqlTHwOCLDe8cSjE+ZYdl62klWSOchxXLMYVR8cVb7j2o7WSwJTJbAQ+2CzzIo6U233kYX/3sk/Y0V6ZOXodsYvOP/GzgJoDh9zg2JU+c5N7cxl9ghgEB9DkaQ/oEWT2SvJQk95VH1wVPku9PYap/LnzKfLP74jbNCF2AebZXaha4SfkFlLQAISGA2BSm+zKgRqnM9+8f/EaMeC3gwJOYeqsatTVdBHCUigSSCuowj/h+66CUNEnJvd6VnLM+SK//GW0CRPn1l1sDEb6TftJM1qviY+ZgQUdcasQa2OBCQggckJPHDLd/sEiluzCIDd+X2O/f0+Ieftq5wkYTt+QQts85awBRs/Ao9u3ZgLBFG7NNwaj/GWYWHFK9483HsmWmE+cvdt4c9R29YAekpgEAKKOoNQMowEJCCBsSKQMxhmLbvstaqs25bvXJxvsdiBRZCmcZEy/Px05yRp6SG/ND9LaKkkMN8IpFUhjK+GFaIs4WP3Y+nn3+ORYQGLQc176jLwsBwP3XF9JLXzigOGlabpdJCAos6CaXQVVYfSVNh/u/79r6ySYt139Xs/PQdrVFW+PkpgJAToBZlvc9MGk4aY67jjM++LFdzN//aZhSjqpI3KJQc+PyurQwIS6EPgwdu+H29Xvvbdex7zO1VIhoW7v/apMFjK4HDAW85oNcRaxZrJY4peu+6zeibpGLfjBBR1Ov4BdK76O+y8pNT6xYz18pf8RtNUd+e4WOEuEXj4rpujur0usGIGg1J+iDqTzmlCcKJntS4W8PaJhx/Yafc9W9+2Ukf37LH77tlh190G7JhhWJ+kuFMrE0xD84v31aBLUtEhgX4Ett30H/F68QGHN8MxLLAysvWar8Zl4og9zYWSMhYdeaclu89EfTSGINIccCgoc9ctgSSgqJModHSCAPOtOdh27wRKK7lgCXBjVZR9t4Nf1KsS3MGVr9BdyeVbruS66ew38WrVSWcvXXP0zee+NeY93Cm8/wnviyhxL9a9V/5zzlTCP+4d7jX1IeWtV11679Vffuy+zZk1O64HveujvSY6P77usioXFjL2e+P76ObcAxaJqPqSMHVIoA+BiSWDDT+IALvsdWCvkNzRt/HJYHHrXRXsoQ0/2HrNv5ZX1aELt+Llb97r1W/LMSSj0OXZNOaRPsu/Gz5/RowYjC3sLedxu+aKDEXd/K3PxZ4PVhO4zbzXqJJ56egyAUWdLre+dZeABLpIIOcoS1Yd0av+3D6cr0oLZqkYtuPipesvODXnRksPf1mEZxZyy9/8Xqr1ZyI47rns75Bk1qz9UnOHp5dFONJH47T1tqvWKEyVEHIO/7OvhbzENKs5wSqLpFsCEggC2CRIFM0emq/Y1Qk3OhHpGY7WLklPRPLZ/K3Prj7lgnLflSjIOSHb7P2ad95+4f/OwSSMEORxu2pFphxhQvlcOadqCB8rAoo6FRAfJSABCYw5gdxs6aUBz2Tinm9cGBTYJylnEqkYRgDkGd7u/rxfISSWqfmXhdh1Z74+xYwD337eM5ftjW7bg+uv/e9/+FP8+WMj6LC1X4zE+becuPDIgm5aW7r1Y++O2Q/7SEf8xRXl9Ouey/4+Vo4RZjhXsOyFx6Iqc98N3/7hF86ekI7+z6sj/epodWaqQwISqAjkwZhSx7sKgz5qCiQYLCnfZpfEk/1b1j4YXrZc8U/RTyc6/nknHXHmN8vBJLdef3T550kWuQUjIhyui7WVtElQrsiUwwW7PQe/55NlgmV5dEsgCSjqJAodEpCABMafQKqFUNWmYhgziXuvvnTDxR8KcYXJB4ePSyg5O0HOaW62sM8TEatZyB5HHMNOy40f/l9MaPijDCm3kF1sASG0VBs+SES5Trxt3eXotERJKOSdF30w3GUUcuHvv07/5SgDAUIMK8uvWwISaCXwyN3rwz/XGspg2CT48bVfZ2QIT8Sh0loJXXLjVz4ar/Y/4f1p0oDDPJilDjVXeiUbRznmkGD2U/Z7m4NJil65IsO4UWrMqrdWNpDuPgQUdfrA8ZUEJCCBcSOQaiFUjJvIkUlQdo/rAsuqMpXBMkE5m+FtOTup5jq8ZcU3hBYEpOZqK4pke//aO9ZfcBoht151SUyGmCHl5KkUWrIkWA2JVWFMYKeow+5NBGALKEWmjMLBgIiCjzYJEosOCfQnkHdtbb78ohQzIkppaZqOj75ZpYr2xGOP7nf8n4QBtxUvnzjLl//RQxfvc0jsBf1k66YUdUgzw2DyvhpqeJWbz7HJU+4YL9z7vrLKOuaSgKLOXNI2LwlIQAIjJpBqIVGOEE6qMiH/NOUcwjy6+Y4Muc8bTk13OO76wjnhOOC3PtCqVcLxngjARCpEHbZ0YmUXjZem0ELgvKm9LCdaapHOs3/hdeEo/1121K+mqIPlt/KVbglIoBeB7GKx9doaLAwGNF+xkMFKRC5GNAOEz8RJv4NfGO5SmsJoQRWFVZXwYd2EwYRllBv/6oQYK3qVoUrBRwkkAUWdRKFDAhKQwPgTyBkG0kXeOYPuStgqQD+N+QSTHv6YZFT3TT30wxsDECu7uTobPhOab9/9UriRptJ6QQk0NWTSM0/+4LPlP58+wJMBmg4Wd2OFGHmsVaDCSnXGahWf8q0OCUggCCBLJAp6d7pxxJgQPuzKbvqXT7CW0dyEySgTe7/3b8Gi/eMPbQtPNo3DUarGPX2Hz7HvbdoOyVUVTu+k1UcSaeq5Zb46JNCLgKJOLzL6S0ACEhhDAimQ7PmqEytxJWqLudhNX/04wZAoNl16fpqQ5m3OTtjzqdCU5pvyIE0VJh/zCE0WBmX9Z1yW71scCDbhi4WDcOxx5KtawhVe1YyteKNTAhL4GQJ51xa9pvU+hrQizbCAmZAj//qaSj5BINl4yXm5NfQzqf/0obTlmHf4oKT60/dP/z9XVR7eeHNYt+cd+zl9RKynI+uSwM8S2OFnH32SQEcJsFTMshZ/LE53FIHV7gABvvOsZaucw1u08OOaC9xIIGWPyNkJdtUynXBwT2jlM9zH1GTLS4Fabzkk09y2KpeQh1sYU5PAmBHIbtWr1zAsYGMglw8wUZAE2Ma5/VOnIpCUcg4h4y8XKbA7ktuwjCqxN0sirQNR7veWabKhVA5HWQAdEuhPwF2d/nx8O38JsIZ0xz9+IIfLyhbtVMuddl1mmM5U8zW8BOaSwGP33RPZoZzWJ1/0vpigxCQDGwCYNSNw/9lJrsIOrkmfOjO9FpJbS5jXejTFrQifanK9ZKHWZPWUQJcJpE2C/r2G7dzYiUXqyJM5t3385BgrEGYwTpD+wZN7fuNtafk9N4FTEKrgp6VH/CMMifBzz+m+Kv0qoo8SaBJQ1GkymUUfFj+u/YOjIoNJTYikfurgU4dZLPo8SxoT/pWSzEyU8ss53EzSmWeQLI4EagIpkKABX7/72eefbPtReKTC/aSzk59NYLaecnWD63pa8+CywvDvJQu1xtJTAl0mENIIBPr3mh13fVZQym7IrCbjVtfmRMht1387HKm2ymPqy+26cnW8Lf+dOO1z3+bwCdPVLItwlTA+GGzEGEnuDpWxdEugFwEV2HqRmRX/PGlH6tgIoj/3ySbP9WovtaKEEk7KOYyDh3/wG/xVYab0OE/mcFMqs4ElMA0CqRaSBglaE8mj/7xNhZZUDGudnaR1tccf2NqaZtMzddJKs7PNYL18nni0ZfzkREFOkloVY3qlpr8EOktgEL3WgLP1mn8NR+7G3H/TlenTlEBYRpw4hvfkf+VMJvXlWgeinClhOiVMNdKXQ3eO3r35W5+LBP1XAgMSUNQZENRwguWSaiTHTRF90s1Jyc4rDugTrIOvOCodtY5xkEFwhnOaXGHa7eAXdZCnVe4OgVQLSQGmWXdmJ9nFeJsCSSqGtc5O8po/LuVoTfPmc0+84czj2KzOt3msmVXh1nUfNm+5D5R/KVLGSkeKXunDjI0b2eMxp2L5VocEJNBKIO/a6t9r6Ia5ZZrrHblp0/rrueHiszLH0jRi6su1DkQ5UyqHmrzLmIXO1uEiM9IhgYqAok4FZHYfU3qJbLhduPUnPN7mpCQnBLNbuIWTOiZZorDLXthyq8Y06vH0CtOqI6YR3SgSWBAESrWQ0hRSFh5RAbniurWvyIVYtGdz/Ok/OyFBNPVJCs2Wuy75SKaJg1Fu41c+Fqr229Z9p3wVK7X4oO5fDYao+DOnYRG3PABNSFR/IwWG03LGg5sTd7ml0zrxKrPWLQEJBIG8a6tXr6Fz0akZGaJ/0dPzWq38FUZRpdwdojsTJUeSCnXqvLUORDlTKgUhBqLs+3d/7VNVgj5KoA8Bz+r0gTP8VyG98Ou+y94HMS4wajxw+/dbjSfmpCSnAlVpGEdC7QrDRyyWTGlbYyLx+7f0ioIGCAkyADU3o6sy8IgGLQXgnr5hHXGhbE88+nD/1HKUXLz/Yc0i9feB28Mbb6mIxY0iRMyV6dZEGMd32HnXnPm1hklPArNURgkHDJ8RdUhglgikWgjpX3PK4ZPmwq5peQI4+13r7ITh4sC3nxdmYRnckIuWv/R4smDWkhalGc0w4lTmy0otoyIjIYmvO+s3Vxx9wo67LWP7iMXjnFStOumccixa8Yo3x1uS5Y9CEgVbBYhYzMD4i4hLXLYoQeuWQG8CuUFKP8pfwwjOVCE7fiZAT8/fNSYw2enWX3AqvR5dVlYPGQQIzzU4aSp6yxX/tHTNSwmf9kjietBMNh25zlsNNdw0GsnyLyaqe81hMh0dEggCijpz9yWk9IKcQy+NHosNscPWtlycl8rr5apGlJU59OZvfjanAlkBFjwYCHIASn80QOK3/wXn38glfWjN5cg1MfN4w6kxXjD6MBKVyfYynIC0gBWUcgYTeTHn2O/408tJSZahv4PlW0ZGRticEjF0PvsXfp2yldWh8NxfViaVNh6oWunf6q7qThgKvPfrTkasynyroTNqyl0i7CMlNEZnJmQrXv6m1poiKP7o8s/fe/WXgzm5EH7vX3sHU8Y8WNkLbGux9ZTAsAikWsikCZYjQwSedHZCMCYx7AJFJ6W/ZJeJFNCNWfXWv6yypoOvPuUCtM7oL8gqeQYvgjEOrFn7pWrhg0dOP6//9B9Ft81lYzoaF55u+PwZ4d9/2aIqho8S6DKB/AWkD/LXBwUjA5boqy658rXvjp5b9Xp+6RgT6PgxFDDn4Y8f659s3RRZtBpH4Wc3fj2bghDDBadzI6+7vnBO6/0/fQrvq84SUNSZu6ZP6YXlRqbUDBmMLwwrTI6xWF+VI1dZKsuPTDhu/KsTchpdxmIQQVA5/M++VooHKV8x3LCbHPJVxqIAXGOMrIX41EyWwDvttkccCswoJJiWJdMzHMw5uHajul69ClM9Up1bP/bu5thKBUkNgYHVI8bKiJWb2lUi/dWLI3Cz7viTBTJMagBX6XCo4La/PaWJmtIy1HIgoVnTNJpXlpDwTP5Y6EpLVq43l3x0zxkBPkJEEbLDckCOMDymZSQCICFUAn8UD3NnDFm4m4svESD+RaTnZk/WU0g/tmuIxWmf5xz9xuYoF1HwR3TBpPW9V/4zwxH9hZ5IFMza7vbc57cuKODJLIcAabuFpMIuUxavtRZlUXVLQAIQ4Dc9unYvGnRGzszsvHzfXv2RScKzDnkxFgtiqZT+yyCAT3R5dmU5+xfznzz4Fzmm8luZ9WMP3tdnqGGRMccuSl7OdspEdEugJLBo+/bt5fOsuhctWkT608txJnFntVKDJ56bEpgL42c4p8X06ubixJ0XnRGrleU1L6x2pNoJo8merzxxyaojUalCbzVlmCo15Kh1Zx5HIWOLmbd7v+ad6JuhW5WX0hx08if++x/+lDk9iygH/NYHmJHfev47ol7Eet5Z/551RCJad+brY/YfgTFMyRxo27rLMQGZ/q37VJlIOsrUKBgTl1BIQzUfm/0h/1CAFN4Ij82le75+YZBhdSemaBSgWmTKLMKRcg5lZoNl6ZqjgYbdmB9+4WxyCTKEZJMnL4bP1sGfpSm23RnlGYK3XnUJJ6yipjTB6vdeGFnwb2sUlAzZK4vWyYziA8iIC8Uxqj44qnwXSrtYTgnMNoFR9cFR5TvbPMc4fcWPMWvchdgHm2XWLMHcfZboQUVmoX7KZgUzb3zYWmF0qMqRJ+/LSTwLnxGMSfOB7zyfe/14y6oG6u9rfqoFlzvRETJVVpidM2VHpmKhhVjkvu8bnlIGC8GG5V5EFPxJFvkqykYsBIwsW576ZZa/5vT/S2BkNlJjKReBJKIgPJRRMm7TgV5vyAxRMFKjLvyRGiXJArBPHXHJiOxycww5h8coQDPx9IFtShrsw5B4QKOaVIFgUQYcaeyFKOznRAqoGoOXsrGQTESWr1iBjldsyqN6F26k0IxCdTIKxcONMEmwzAjPiOW/EpCABCQggbEh4DbL2DTlOFVEUWfuWhPlLjJjBp8qGewwRPZNcyKh28peR1k+9nCYeSOToN1eDSilGccySip9IR2tfO27ylelLvvP/fafIwPkW+b0j/30AsH0ZNcidlqowsHv+WTWIgJQHk6whJutj4zVy8F2U9YRYaAZbNlRrwnPlG3iMWW5AQWGtOhNHalXmRFVYCcnfVL1hW2lEEtAjZCTAcJBLCS9cKdOGuYlIgpwKs6EZCs/E8m46aNDAhKQgAQkIAEJSGA2CCjqzAbVljRZ9Q85YfE+h+RrlMuRQHhk24EA6Z8ngHPyHa+YqTPzRibppfWeKaQD3fdw73f8n1TCSSq8UobdD3tZRglHbkGkeLD53z4Tr1Byq5IKf+wghSNTjsfWf/PeMRTqWgOgMxb+aYyFx9wvGlxgQN+MiNSRbZxIsPy31BVOYy8pHaFwXAZOd/qnJLn1qkvjLeJrEw5yYBa4lzXPDO7EbAAAKkpJREFUTFyHBCQgAQlIQAISkMBQCGiWYCgYJ08kDEMTLk8A42ZOvOLlbw71Kmya5b5K3mjZenkoQhGpESa3FDhknFdPhN5XFCjlKx5zdh6v+DcvBKQMzdl5BgsHOl25nYIN/vI0cIbMBDExl569HHHPIBJIL7GNU0DNuHnT2YACA0JjyGzYc2umhk/mkrttQIvtJjZ8qq2zTCGFuvABThwf4rGSTjNKHsfUJkEy0SEBCUhAAhKQgARmlYCizqzifTrx3OhYvO+hT/s+4xlpJ55j/Snq5PUXpY4ZsdjT4HxLTMTLREp3uWuU8hXz+OasPS8E5J6KMoXIKHxyL6LUIqsMwlZxedxlr1VNz9IH2SD2uJYe+pLSv9VdhsmbzibNIpJK7EsPr7etIkBKlckNVbR4lUd3WksVniG4lnB6qdXl3lTVpn0S95UEJCABCUhAAhKQwEwIKOrMhN4U4qZNAqyfldGQQDiQw4YJmw8chomTITlBL+fN3GJeyhhxjCf3iPK2nPQhl0wnz72UWafIlCpq+TY3T3ZduTo80xB+hpmJI2WDXnsgJM7NpJFFGSZrVHr2KUkqmPUSMHJnLLnlhhW2NfukHK8qwbXcUqvipkJg2aZVGB8lIAEJSEACEpCABIZIQFFniDD7JdVqUS0icFFm6IZtvOS8MF4cj7mjQjD2c1LOwcBX86pQrDNHauXkOzXK8txLFrH/oZfcPMnNkBQAOKmfu0+Z2rQdlSZYmU4e5ilvFkolujxXU0ZpunMvpfkqfFIELbnFq9Rta8ZNCSoE1+bWUBUFGwzhU7ZpFcZHCUhAAhKQgAQkIIHhEtAswXB59kwtrY01Q7DMH7sBhOFsSQoh5XGUtGkWhowrbbTUByPx8nhPqqjtsteBVb7NfZsyQG6e9NoMKQPPxM0po17R4zAPb7PwVDMC57maXnHTv/9eCsdy8oxNcsvNnNxWytTCQayQuDhoFBtiuTVUhcxH7lYLd9mm+VaHBCQgAQlIQAISkMBsEFDUmQ2qdZppUa3XeX1smkUc7sd87L57wl2eX895f3N/hsBpkwB3KQX1UVHLXZrWEym5eTJL2laZbFnyqHX8i7wXh3nQ00v9ujzCtPSQXyoDD+JOAbIMnMdyEFqSW27mpHxSRsGdsTBqV71Ke3elP6IRd0iHT9mmZRjdEpCABCQgAQlIQAJDJ6CoM3SkLQmmglOvme5uz30+s21issmQM+xyR6V5y01mwyR+/QVPXQZa3sOT8lWr0lSqYDUVt1IqKFPLszFpiDkLgIPZ/M3nnnjDmcdx3Kj07+OO+iKMEbcKhg/WF8IT7b58m9ehtopnGazVkbtY+ZZq5qWfpeWDHXZeEmG2XvPVDJyOjEX5sRUe/skQ8axZnQ0Xn5WbS2WbZpo6JCABCUhAAhKQgARmg4CizmxQrdN8cP114dVrpout55WvfXeECdvTuHPrAzf2oOPtHf/4gZxM40C0WHfm60NsIEAe98ed8lWr0lQeYknFrUiff1MqyJP6eHI2JoUTDCRkYBwUg9k8QgsT/W3rvlO+6uPOLZHN3/pcaqZF+Fv+5vdiPwpZq4TQRzzrlVHeEMq9N8mNwMiBcEsJpKwpm0gRi+r8+LrLyli4bz73rRGL9koL3SVDqpNRcNx1yUdSR458y+r0KrP+EpCABCQgAQlIQAJDIaBZgqFgnCSRPDPT5zD98pcen4YHSK6y5bX8Jb8RIhDzbyQBLmlhm4XLMZl2s2mD2LDuzOOIhYRw50VncC0mltxS3au5lcQUPObrSC+puJV1SJsEuVnBK6b1P/fbf37r+e/ATTlRPKPAuBE/UtsNCWGfY38/0+nvwLYBphSoDqnxxxkk7EeXqVGvVW/9yzKRPuJZGax07/mqE++9+stUFnmDP3LhLds15EvdgYwDnzyfE3EnDEU8GYv6Egw5c6fd9qDKIYARhnT2POZ3IjD/whCfaKCoDigwRBHh81Xr9lomokMCEpCABCQgAQlIYLgEFHWGy7M9tZjy9j9MX06XSaU6jsJuABPlSCf+DQGDNA9+zyefeOxRZuQhvTChx6wZok4f0wJ5306puJVFz4iVXew9jjgG82uhLEcZohgZ60mJ6/R8HMRx0Ls+ev37Xxkhcy8rHhEPKqmJnZ8+4lmv7OB2+J997Y7PvC9wZS4TctRJ52z4/Bkh6qTlg0iHtkB6jJqSacaKt4ec9rmwCV5muvK173pk060p9eVODsQyWOv2Wr7VIQEJSEACEpCABCQwXAKKOsPl2ZIapzvi0Esed2kJ9KQXWzdMl+MtOzNVMOxQkxSm2DBR8Mylz9njyFehdhUKUTvuuNOatV/atu7yiJIZRb5NpSkuyYlXK/7HW6pc4jHepj2ADMNWzNI1R1MGxCH2WBADCMkWE5snzVwyVi8HUY7862vu/tqnQkhAbOP+H+wuIHg0s37i0YejVFm7XslW/sgtz33bOc9+8f8s7aRxzIZ9Kkrep6ZkhJWI2JxBNAI4Zq8X738YCVZZ8Ehq5LL3a97JgSIMWLND9axDXrx4v5/n1e2feuq4UatJiWZS+khAAhKQgATmLQGuT9j01Y9TPCYhQ7x8Yt7W14ItdAKLtm/fPmd1WLRoEXlNL8eZxJ2zCpqRBJoEvnfyoeF51HnX5/GeZrD57zOqPjiqfOd/i4yqhJzWy71ftEwX9Fc9KoYLK99R9cFR5buwWmeGpUVuYYUO7fGwILp4n0NIkJW+ZS88trnmGHnlhebDvWdvhhUx+mwQWIh9sFlmd3Vm49swzW4RwMgBMz+ONsU2Tll5DBvEI6d3nBGWZHQvUAJ87RxIy8JzsG0aO7oZXYcEJDAqApg1wtBRaHFnGeIRZWy6OYrxh/7hRc0OnisdU1WyyFx0SGAuCSjqzCVt8xpDAiyJhU0IfhWOOPObpTzDpDAMOVDtpkbiGLKwSh0gcOvHnrIVGXVl0tOcCXUAg1WUwMImgJxz09lvyjrw+/XsX/h1VK9LAzzoqHOe9qCTP8FJ3QyJI0+l9rG0VIbXLYHRElDUGS1/c1/wBNjJYccGOwT8Kqw76zdXHH0Ctqcxf1f+YGBloWnJYMHX3Ap0j8CW//xiLPrGNw8A9F5U1u/eh2CNFzYBVuhSzqEv7/26k1NXLYyLsk5341+dwI8a9WTBjlO1eUiVM8NR+f6WlhY2IEs/XgQUdcarPa3NKAikcWpmgaVuT5Sl1WLbKIppnhKYEQGsIG64+EMkwQLwfsefvu2m/+CDTxPwM0rayBKQwBwS+NHln8/c+P1KMSY92arF1lHePof1oLSJ+th990SwONWTUXRIYN4SUNSZt01jwRYMAX4nUF174Pbvc4Pq5m99NlbCsO2GdRpUmVXvWTANaUH7ErjrC+fEt40pdhQ1megg6uCDCNScKmVKcZItrswKJZmlh79s98NeRgpp3uCAt5xRpVDGIilMIO66cvVzjn5j8zhcZqRDAhIYkAAXx0VI7ApUXS9TYJ9n9SkXbL3mX5cd9atlv8OGQYQpr97OWOz5PLj+2m3Xfxvjpdg4JUzrKdYMj4MB5KE7b+DXkxsI485ANCNiiCiDRUjUJXDEDysR4zGCYR4296aqiD52nIAW2Dr+AVj94RPoP/Mbfn5zlWLTqsnc5DyqfOemdgslF2SPuAULrZXD1n6RYqPMFndPrVn7xXImVNborks+Ul1LFW/Rmdn/hPelccIXnP/U5Im3XHC84eKz8maqMjXc+5/w/vL23uqtj7NEYFR9cFT5zhLG+ZNsdr3mOZxJC8n1CXFWp+r4CDk3n/vWUHCtEqG/sw9cHmSNAHT29Z/+ozz5U8ZinFn93k9XokuOORR7131Wp4pdRpxGdTKujlYCC7EPNsvsrk5r4+opgekT6LVINv0UjSmBURNIawTPPfHDUZadl+8bjvtvurJV1CnlHLZllr/0eKJs/rfPMLOZONt2/1Ma/3G3VSTFMsFtHz85rieOLaAlBz6fV5v+5RMxhQoFUaWdwOW/EpgeATpdCBg//MLZlcmBSRNMnVX2XjIwh39uPu+k2PWl5+bt5JEL/Z1NHu4GzPA4EI3WX3Bq3kUe4wC7OrHMQX9HfQ4lulLaeeTu9ZECu0Zh8ieu49t6zVdjfMCzl1hVZq27awQUdbrW4tZXAhKQwNQIpDUCpiMp1XDVb6SCEbam7IF9p9zPKVd/sc+Butq1f3BULuWW9mpv/PD/iilLtaaL5YNc0N34lY82s5tafQwtgW4TQK8sOiDd7c6Lzmg9rtNKiMWIlGdyUS/NkBIFGzwrX/uu3MDh8u7//oc/JQoiDcFy9GA/Jw8CsQ6y6qRzUqThRvI7PvM+whNr8zc/m2eESBwNtygV4hCxDnzn+VEGwqRBOV5h71Q7QK3N11nPHTpbcysuAQlIQAKTEmByE9YICLnfG9+X4XNqkkJLvsKx8ZLz4pGpT85vwofZSbmTs/iAw8OfyUrIOUxi1pz+fzP9eIu0E7GYAKUNqHjlvxKQwJQI0JvoZREF2YClB9TSuAUOPdX+6eRmbO7bEH7TVz8esejsSB0p5+DJltGBb39qKODYTyZ+79WXhshEMQ5+zyfLzs7pVnwiJNs1GQVHbgFFrJS1eIVsk6PK1qsuLWPploCijt+ABCQgAQn0JJDWCJjHlDMSIuRsqZI9kI5yUsISbzNp1nrTM3eHuM0wPFcee0o5W8qQKLeEe9u6y9NThwQkMA0CiBPYJEDZLOKyYIH2F+fxOMbDPk8vmScvD02bBISMxQ52YssdmCzSM5ftHW5s9oTjyfN4E7Yc+Y+dmWZnTx/WPnJsKYvUGiuLlPJYZOG/ElDU8RuQgAQkIIF2AkwvQnWeKdFer35bFWi3g18UPo/cfVv5Ks0iIQvlrKUMwJHifAzxiYxiS4eMeimfxLmdjKhDAhKYNgE6Jns72A5F4EFKKdOhyyPzsM+TYka+ffC274cbu2rhuOfrF4Zj3zecFo7q37xmNLZxeHvfDd8ON/sw5c5MGTG3aJ549MHwf/ium8PBqNIaK4tUpqNbAhDwrI6fgQQkIAEJtBNIawQYmG5OL7hbPaI9dMf1pXyCaenw3+PIV7Wmm7OWnND8ZOumCMkcKM1DtcbFc8fFS3u90l8CEhicQAg8yDzsxGJf5J5vXJj7sezVsD3C5k+5WsFtWpF42iRIu9VhJ6BP1rkJ/OD66yIYWcSOUJ9YO+y8JN5yMXc49nzlia3h0wp2bv+2BtOzgwQUdTrY6FZZAhKQwOQE0hoBQbErHaalW6OxjdNqKiDP4VSxHn9oW/ikTYJHt/ywCtPnsdwU6hPMVxKQwIAEWMjgXA1/7K+ywBFbrIg9G7/ysVRLQ/Est15z4SP3aibNKCWQRzbdOmngDJBKs6k7N2n35+aujK5DAhBQ1PEzkIAEJCCBmkBpjaB+13jOleB4k+ZoU02/ivG0GsxPbRKkT9yYUYWvHlMlpvL3UQISmCEBrAJgFAQJJywocsAmRZ1Ht26MxNMmQWq4oQK396+9o3/WaZ4+xwd05/pHKd/m/k/u85Rvcacp6iWrjqxe+dhxAoo6Hf8ArL4EJCCBFgJpjYBJzOJ9DmkJ8aQXs5ZY1mUxmElSBOu/0MvacJz/IXDaJMiTxCzZZjq9MtVfAhKYPQITWm0v+Y0QdejLdNjQYct9ldyMzYM0DBFowQ1YpBwfBo+SMhVZ5D5PlV2Ya+OwX68AVXgfu0NAUac7bW1NJSABCQxEIK0REPqgd320j+yRV6dz/KZPsDLXB25/6mQznjkpSeWWMqRuCUhgiASw586xOiQW7rZKDbT+6bPSkWd1ctukl2Jq/6Rm8vax++7J6Cl6pQ8OdqFDuW7Fy99c+uuWAAS0wOZnIAEJSEACP0MgrRFgYLq/AJMGXvOoMQmlBdtcBs7UmaakUem0ScDbtK6WJg0ySjjuuuQjnB0ieuXvowQkMCABut6dF30QTTDu6OwfJXvuiqNPyJB5g2duxqYqaeqkZeBwsBvDdT1Vt82OX+7VZEQC09MRXdIHR5ocwF2ulWSYLd+5ONzsR6WnDgkEAUUdvwQJSEACEniaQFojaDUw/XS4J11p4LW87C9V+XP+EbGYxNzyN78Xi6/4pBoM7tTj3/iVjzYnQMg5qNNgF2HDxWdFUv4rAQlMlUDag0baoZv3iv7Qhh+kDZJnHfLiDJZH8nIzlg2fWNdAJ40towwZDsSVdWe+Hsts1619RSm65BbupkvPr6LwSB8nd241LRMsV0C2rftOFYsCI8LhyR5U/6WZKqKPHSGgqNORhraaEpCABCYnwIxkw8VP3e7XamC6SiJtziLA5Nrt3q95ZwRjbvRfp//yPZf9PbMWxBVmPKzOMh2Jt6UaTF52zpyJ6RHhEXj4Y0J287knxrEBjNXud/zpVQF8lIAEBiSw+2Evy96HOIH2KR0NbdX8YwfmhjOPW3fmU6du2NTddeXBkThhwpF7MvH4c7/95+G46ew35QYOPRf3jR/+X3Es58C3n1fqy+39upMjCmf2GBZCCuJfCkOR4iAfuZT263PXCMmK0YBYUR4yYni5+byTIsHnnvjhcPivBEoCi7Zv314+z6p70aJFpD+9HGcSd1YrZeIS6AiBUfXBUeXbkWatqslF6THVYEp02Nqe675lLISZmNAc/sFv5JJq7MOUwcK9Zu0XmZdE+CP+4opcHuYts5abz31r7vlUcZFzqis+qgA+zh6BUfXBUeU7eyRHnnLsrOb+TJ/yHHLa50phA9Elbs7Z/4T3V5blWYzokyDyUtpwy+yQT2IfJn1KR9XZKfM1pxxOAAYlhJmUxMoouKsCV299nB6BhdgHm2V2V2d6rW8sCUhAAuNGgIXStI02+Ppoqqulfj9cmNwg1bA0G/otex7zu1iRRrbZafc9Q87Bv5RziMIjVm6ZSEWUhMsjRmmVcxKIDglMmwAqZ6vfeyF9ky7ZKxEkCrpqKecQMm/wLDdjIwUSpIdW3ZZXpIN/U87hFcISZSBApJD/kgiiUdXZ08g1dt4W7/fziDRVREQjUqsKnGnqkIC7On4DEpDAQASaKyUDRZtxoFHlO+OCm0ALgVwbbl3rzQis48b8hnPPaQAq3+qYYwKj6oOjyneO8Y4wO7ZSMW6Wh/45Mrd4/8NKZbMsGyHDtHSfLslayU+2buI6YI7w7bDrbrnHm4k0HVkAsuYartbE0WKNs0MITmmfekLh7aYrd372PqjYOUQ0wQ7LZyH2wWaZNTY9rO/BdCQgAQlIYIIAs5AnHn242rQJNPde+c/hWHbUr4aj9V/mLoPMk1rj6ikBCQxIgE7KH1slk4Z/sjsv7x+MPjvRbQ9+Yf9g5dtBCpD3C6fxElJAHtvjiGPKpHRLoBcBRZ1eZPSXgAQkIIEpE0jF/fLoTqSCgn5ceY6ayiCzqynnbQQJSGDsCGy76T+iTmnkeuyqaIVml4BndWaXr6lLQAIS6BSBlceeEvW98a9OCENqaKPhwOBBHkTGIlOnmFhZCUhg2gTSVMmTO0vTTsaI3SXgrk53296aS0ACEhg6AQ4HY42A3RvMD2B/tkqf/ZzVp1zglk6FxUcJSKCVQC8j162B9ZRAKwFFnVYsekpAAhKQwDQJrHrrX+7+vF/h/tDSBC1CDrba9nvj+1yanSZWo0mgewQevuvmqHR543D3MFjjGRHQAtuM8BlZAt0h0LRqMjd1H1W+c1O78c4F1bUHbv8+dexl1mm8qz82tRtVHxxVvmPTcGNQEXZ1woo9oo6mSua+QRdiH2yWWVFn7r8cc5TAgiTQHD7mphqjynduamcuEpj/BEbVB0eV7/xvEUsogbkhsBD7YLPMmiWYm6/FXCQgAQlIQAISkIAEJCCBOSWwwM7qhKw2p4TMTAISkIAEJCABCUhAAhJYgATc1VmAjWaRJSABCUhAAhKQgAQkIIHJCCyYXZ3t27dPVhffS0ACEpCABCQgAQlIQAISeIqAuzp+ChKQgAQkIAEJSEACEpDAGBJQ1BnDRrVKEpCABCQgAQlIQAISkMCCUWCzqSQgAQlIYJwI3H/LVY9u+SE12uPIV+24y5Jxqpp1kYAEJCCBeUJAUWeeNITFkIAEJDCPCPxk25ZH7r4tRBGKtXjfQ3deccBwBZLb/vaUx+7bTOJH/vU186jmFkUCEmgQePyRBx+7f0vDu6fHDjsveebS5T1f+0ICc0hAUWcOYZuVBCQggXlMYPvjj913w7fvvfKft914RQghVWGf/aLXr3rrXy7acQg/HBMzpyflHLIYrgRVldlHCUhg5gS2fOfiOy/64ODprDz2vfsc+/uDhzekBGaPwBB+sWavcKYsAQlIQAJzQwB1stxm6ZXjvd/9ElLQoX940S7P2b9XmAH9c4UY8WnAKAaTgARGReCBW783pax32WvVlMI3A7Macu0fHIU/u76uhjT56DM4AUWdwVkZUgISkMB4EkDOuensN0Xddtp9xYqXv3nJqiN23Wf1zstWPvbgfQ+uv3bb9d++9+ovsw/D3/Xvf+VBJ39ijyOOmQmLnDntdtALZpKOcSUggTkgwDJH5MJ2zSBiDAfwZliqH1/7dVJgOFLOmSFJoyvq+A1IQAIS6DSBUs5pqqihcI9Uw99+x59+3dpXhNbZree/Y4ZLrQ/e9v2AvviAwztN38pLYN4T4ORelnFu1NJQpt1w8YfIdOmhL8msdUhgegQUdabHzVgSkIAExoEAkxj01qImq046e/kvHterVhzRQXWNLZ0IgO7+nsf8TjNwHF9m02bHxUuXrDqy19HkbTf9R8TdZa8Dm4ngw1zn0a0bH77rZtx90qH8Tzz6IGHQqSPKA7d/X6turTz1lMC0CTx23z0Rd+maX552IkSkt25bd3mkwPjAvnFTFTYHkFhV2WXvgx750Z1E2elZy93emQn8LsdV1Oly61t3CUig6wTWX3BqTCnQS+kj5wQm5iWorj3+0Lala46uZJiHNvxg01c/nlouiXXX/X7+oHd9tJrQIJM8vOEHEaZKh2nNXV84p2kXAT2W1adcsHi/n8+Uw3HdH08s+vL2iDO/ue6s38xkX3D+jVVIHyUggekReOiHT/WmXVeunmYKG35w+4X/O7tnJoLsdMBbzijHh8r+wcZLzuWP8GvWfrHZ/TMdHRLoQ8ArRPvA8ZUEJCCBcSaAXLFt3b9HDfd69dsGqSqabEhElXxy50VnrDvzuJRzmL4g4URqTG7YCEJHrkyc7Zp4rGwS3HPZ3xOYdEL6KtPBhyy2/OcXy3RSrwYtlw0Xn5UTqRmuPZdZ6JaABO77r/8XEJYc+Pxp0KDb0nmze7IwkeMD4w9dPjsyiecpviqjnXbfs/LxUQIDEnBXZ0BQBpOABCQwbgS2XPFPUSW2dKatHIJ8cs9lf0c6sfGy68qDwxo1+zw/uvzz8QodOXZd0kp1zmZKmwTMh8KabZUO06DN3/xsrOyuv+C0ckOJm3+i/LELtOcxv7vnq05U0WXcPlPrM2oC9K8oQtlhBywUCml02wjMOLPiFW9moYR93XuvvpTTOLGowd7y6vdeGGGe+7Zz2OcJ22v4uD0bWPx3JgTc1ZkJPeNKQAISWMAEQn6gAsw/plcN9oVSPlmz9ktomKQ8g3v/E94XyTKhYWaTWTxy9/pwp00C5JmcD4WiWqbDxIiT0MUy8FO6/qTw0B3XZ/rMosgOTZhpy2xZPB0SkEASmDg889MrsDDJmP4DOu7+2qciJF145WvfFRvC9G42hzn7F69ybzketUQ/IFuDDUjAXZ0BQRlMAhKQwFgRKJVGKoW0weuZmi0Hvv281kRQUQvFtscf2JrJPnDLd8OdNgmwZx0+mEZo1chfdtRrNj55vIcc80xR7g6xEcQsKtPXIQEJDIvAo5vvyKSuOWVye4nVPgzrFKykYNgADbRcv8gEWx3Zr6exidSaoJ4dJ+CuTsc/AKsvAQl0lEAYLqPyyAnTRrD58ol1WVJ41sEvbE1k9+f9Svjn9IXHXMRN6eieb1wYwXpdx7F0zUsjQPlv6tXsd/yfDDiLKqPrloAEJiWQNgkmDUmA1mNydHPWL7KzT5qOlugnRWSAKRFwV2dKuAwsAQlIYEwIpOwx7Zsr2BeKo8ZcOTopFIzGRpgwHYs7bRKguB/CD4dteqmfPXPZ3lUWqVeDoPXsX3hd9dZHCUhgKARy55YOmysXvVLeefm+zVd0cCyRMOCgufrIplszQC9FtUkt0WcKOiQwCAFFnUEoGUYCEpDAuBFI5RDO8U+vbql1Nsjt6RkmrsohxxR+uAwnCtDHvlMKZlns1KtBVHNLZ3otaCwJTErgobtuijB7v+adrcql/VP48XWX/fc//Gme9mkNnEMBb/tYom+Nq6cEJiWgqDMpIgNIQAISGGcCubY61UpywU5EWbzvob3i5hGdpoiyZNUREau5Y9MrNfzTkkHq1WTKfWL5SgISmAaBUvDYecUBU0qBuOs//Udpgx6zBCuOPmHH3Zax8xNdnhu04m2ug5B+L0v0U8rawBIoCSjqlDR0S0ACEugKgdzMyVXbSWuO/ejWZd0ddt2tV9wfX/v1eJXZ5f4Md6VXsfqITKm+n3JR6tWk8FOl5qMEJDBDAil4oCbaS7m0Vxbs1oYkQ1zMljSP8+VZu3K1IseH0rNXFvpLYBACmiUYhJJhJCABCYwbASYucYaY8zace5m0endd8hHuAbz9U6dm4JRMfrJ1U2t0DvPEIRwWdHOelKu85RXpET03aqrUWB7Oq3syVkpoKfxUsXyUgARmSCAFj2mc6Nu27juR+8rXvrsp5zA4pFZbacO6aYl+hlUwugQUdfwGJCABCXSUwJ6vPDFqfsdnnroApxcI5Jy4hAdB5f6broxguZmz9aqn78wpU9h61SXxeMBvfSAcaeG61VLTlu9cXEZP9303fDvcWFoLR6lXk8JPhtchAQkMhUDupk5qkKCZ3eZvfTY8W+NuuvT8eMs6SHnWLu0WuITRRKrP9Ago6kyPm7EkIAEJLHgCux/2MnRLqAYCzJb//GJrfRAqUs4hADd17nHEMRESnbSnol/95Wbc+2+5Km4XZSqTa7qP3H1bhNzt4BdlFNZ0Ix22gMgu/cOBdMSxZtyESUtrqVfTKjJVKfgoAQlMj0AaQ2s1rTZgmrk1lOEZHGKfFp/F+xyS/jokMBsEFHVmg6ppSkACElgABFhMzQvL119w2s3nnsgUJIxBo6WGA/nnurWviP0c6oMxaC4EzIqhkxbbLCiioNjGSZ54hbiC2aWbzn5TPD73xA9nlIfuuD7caZOAR4qBKn/4c46ZMoSbdEhz3ZmvD0WXn/vtP8/V35w8lSJTxPJfCUhgKATogGFNntSwQcKAMOlfbtsSJW3Qb7j4Q7mEQQCWThgcXKQYShuZyCAEFm3fvn2QcEMJs2jRItKZyxyHUmwTkYAERkjAcWO24SNapFjSJ69VJ529/BePqwIwg1l31m/mfIgNnGcufU7eEMo+zOpTLigtGSARxVmdwz/4jUrxDEErI1bpkOkhp30ut4Z4zI2mg07+RO4yVWXzcVgERtUHR5XvsLgt9HQQbK5//yunVAt2fXM1BKnmuj9+SUYP2Sb6OMGWv+Q3MnH6O8bZ9jzmdwh850Vn5IYPj1zm89y3nZOJ6JhjAguxDzbL7K7OHH82ZicBCUhgfhFAhDjyr6/JCz2bhWNecsRfXNGUcwjJNstB7/poqJ/xiMyT4gozmzVrv1TKOQRIm0uVnMOrVSedw4wHB/9V6ZB7KecQ4IFbvvtkwGc0zbiFv/9KQAIzJJBXYA2eTrlb+8yly/c/4f05ODAypJyDOITaatnfM4u9X3dyunVIYCgE3NUZCkYTkYAEZotAc4VmtnLqfLqswj523z2YQeMsctzmib1XDuSk8bRehNjbwXIAKi4RkVjMY1LZrIzFOnE8NkWd8GeL6dEtPyQdrtp41iEv3nXlwdNLp8xU9wwJjKoPjirfGeIam+j01tQUHbBSexz5qmq4YHDA6jSWS7hRZ9lRv1r2aLRk81Kvcpwh3y1X/BP2CbBnwGDSa6wYsEgGmwmBhdgHm2VW1JnJN2BcCUhg1gk0h61Zz9IMJCCBgsCo+uCo8i2qrlMCnSawEPtgs8xeIdrpj9jKS2ChEIjBa6GU1nJKQAISkIAEJDAfCHhWZz60gmWQgAQkIAEJSEACEpCABIZMwF2dIQM1OQlIYLgEtNk4XJ6mJgEJSEACEugOAXd1utPW1lQCEpCABCQgAQlIQAIdIqCo06HGtqoSkIAEJCABCUhAAhLoDgFFne60tTWVgAQkIAEJSEACEpBAhwgo6nSosa2qBCQgAQlIQAISkIAEukNAUac7bW1NJSABCUhAAhKQgAQk0CECijodamyrKgEJSEACEpCABCQgge4QUNTpTltbUwlIQAISkIAEJCABCXSIgKJOhxrbqkpAAhKQgAQkIAEJSKA7BBR1utPW1lQCEpCABCQgAQlIQAIdIqCo06HGtqoSkIAEJCABCUhAAhLoDgFFne60tTWVgAQkIAEJSEACEpBAhwgo6nSosa2qBCQgAQlIQAISkIAEukNgp+5U1ZpKQAISkIAEJLCwCCxatGhhFdjSSkAC84qAuzrzqjksjAQkIAEJSEACEpCABCQwHALu6gyHo6lIQAISkIAEJDBEAtu3bx9iaiYlAQl0k4C7Ot1sd2stAQlIQAISkIAEJCCBMSegqDPmDWz1JCABCUhAAhKQgAQk0E0CijrdbHdrLQEJSEACEpCABCQggTEnoKgz5g1s9SQgAQlIQAISkIAEJNBNAoo63Wx3ay0BCUhAAhKQgAQkIIExJ6CoM+YNbPUkIAEJSEACEpCABCTQTQKKOt1sd2stAQlIQAISkIAEJCCBMSegqDPmDWz1JCABCUhAAhKQgAQk0E0CijrdbHdrLQEJSEACEpCABCQggTEnoKgz5g1s9SQgAQlIQAISkIAEJNBNAoo63Wx3ay0BCUhAAhKQgAQkIIExJ6CoM+YNbPUkIAEJSEACEpCABCTQTQI7zX21Fy1aNPeZmqMEJCABCUhAAhKQgAQk0CkC7up0qrmtrAQkIAEJSEACEpCABLpCYNH27du7UlfrKQEJSEACEpCABCQgAQl0hoC7Op1paisqAQlIQAISkIAEJCCBLhFQ1OlSa1tXCUhAAhKQgAQkIAEJdIaAok5nmtqKSkACEpCABCQgAQlIoEsEFHW61NrWVQISkIAEJCABCUhAAp0hoKjTmaa2ohKQgAQkIAEJSEACEugSAUWdLrW2dZWABCQgAQlIQAISkEBnCCjqdKapragEJCABCUhAAhKQgAS6REBRp0utbV0lIAEJSEACEpCABCTQGQKKOp1paisqAQlIQAISkIAEJCCBLhFQ1OlSa1tXCUhAAhKQgAQkIAEJdIaAok5nmtqKSkACEpCABCQgAQlIoEsEFHW61NrWVQISkIAEJCABCUhAAp0hoKjTmaa2ohKQgAQkIAEJSEACEugSAUWdLrW2dZWABCQgAQlIQAISkEBnCCjqdKapragEJCABCUhAAhKQgAS6REBRp0utbV0lIAEJSEACEpCABCTQGQKKOp1paisqAQlIQAISkIAEJCCBLhFQ1OlSa1tXCUhAAhKQgAQkIAEJdIaAok5nmtqKSkACEpCABCQgAQlIoEsEFHW61NrWVQISkIAEJCABCUhAAp0hoKjTmaa2ohKQgAQkIAEJSEACEugSAUWdLrW2dZWABCQgAQlIQAISkEBnCCjqdKapragEJCABCUhAAhKQgAS6REBRp0utbV0lIAEJSEACEpCABCTQGQKKOp1paisqAQlIQAISkIAEJCCBLhFQ1OlSa1tXCUhAAhKQgAQkIAEJdIaAok5nmtqKSkACEpCABCQgAQlIoEsEFHW61NrWVQISkIAEJCABCUhAAp0hoKjTmaa2ohKQgAQkIAEJSEACEugSAUWdLrW2dZWABCQgAQlIQAISkEBnCCjqdKapragEJCABCUhAAhKQgAS6REBRp0utbV0lIAEJSEACEpCABCTQGQKKOp1paisqAQlIQAISkIAEJCCBLhFQ1OlSa1tXCUhAAhKQgAQkIAEJdIaAok5nmtqKSkACEpCABCQgAQlIoEsEFHW61NrWVQISkIAEJCABCUhAAp0hoKjTmaa2ohKQgAQkIAEJSEACEugSAUWdLrW2dZWABCQgAQlIQAISkEBnCCjqdKapragEJCABCUhAAhKQgAS6REBRp0utbV0lIAEJSEACEpCABCTQGQKKOp1paisqAQlIQAISkIAEJCCBLhFQ1OlSa1tXCUhAAhKQgAQkIAEJdIaAok5nmtqKSkACEpCABCQgAQlIoEsEFHW61NrWVQISkIAEJCABCUhAAp0hoKjTmaa2ohKQgAQkIAEJSEACEugSAUWdLrW2dZWABCQgAQlIQAISkEBnCCjqdKapragEJCABCUhAAhKQgAS6REBRp0utbV0lIAEJSEACEpCABCTQGQL/Hwl0Yp/VvH2eAAAAAElFTkSuQmCC)"
      ],
      "metadata": {
        "id": "JrM8H_OdWM3R"
      }
    },
    {
      "cell_type": "markdown",
      "source": [
        "![image.png](data:image/png;base64,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)"
      ],
      "metadata": {
        "id": "GqpKnoceTwT9"
      }
    },
    {
      "cell_type": "code",
      "source": [
        "class Shape:\n",
        "\n",
        "  def __init__(self,length_for_shape = 4,breadth_for_shape = 5):\n",
        "    self.breadth = breadth_for_shape\n",
        "\n",
        "    self.length = length_for_shape\n",
        ""
      ],
      "metadata": {
        "id": "QCOSuRLqOXAd"
      },
      "execution_count": 33,
      "outputs": []
    },
    {
      "cell_type": "code",
      "source": [
        "square = Shape(10,10)"
      ],
      "metadata": {
        "id": "H0iXl0yhPJX8"
      },
      "execution_count": 34,
      "outputs": []
    },
    {
      "cell_type": "code",
      "source": [
        "print(type(square))"
      ],
      "metadata": {
        "id": "Nujp-9NYl8vQ",
        "colab": {
          "base_uri": "https://localhost:8080/"
        },
        "outputId": "003f4894-cbcf-4126-8af0-1d2886c3cda5"
      },
      "execution_count": 35,
      "outputs": [
        {
          "output_type": "stream",
          "name": "stdout",
          "text": [
            "<class '__main__.Shape'>\n"
          ]
        }
      ]
    },
    {
      "cell_type": "code",
      "source": [
        "square.length"
      ],
      "metadata": {
        "id": "IkgRwQktPQqP",
        "colab": {
          "base_uri": "https://localhost:8080/"
        },
        "outputId": "7e77b175-f439-41c1-a2d3-429544b626b0"
      },
      "execution_count": 36,
      "outputs": [
        {
          "output_type": "execute_result",
          "data": {
            "text/plain": [
              "10"
            ]
          },
          "metadata": {},
          "execution_count": 36
        }
      ]
    },
    {
      "cell_type": "code",
      "source": [
        "square.breadth"
      ],
      "metadata": {
        "id": "Uwx8_hK8PbZm",
        "colab": {
          "base_uri": "https://localhost:8080/"
        },
        "outputId": "47ec7e84-4461-4a83-f0ae-99dcc4dfe225"
      },
      "execution_count": 37,
      "outputs": [
        {
          "output_type": "execute_result",
          "data": {
            "text/plain": [
              "10"
            ]
          },
          "metadata": {},
          "execution_count": 37
        }
      ]
    },
    {
      "cell_type": "code",
      "source": [
        "rectangle = Shape(10,15)"
      ],
      "metadata": {
        "id": "cS4834ZNPd4R"
      },
      "execution_count": 38,
      "outputs": []
    },
    {
      "cell_type": "code",
      "source": [
        "rectangle.length"
      ],
      "metadata": {
        "id": "Nz5QR3wuPiTE",
        "colab": {
          "base_uri": "https://localhost:8080/"
        },
        "outputId": "d6acdc95-d5d0-41af-b9e4-da50d36ff337"
      },
      "execution_count": 39,
      "outputs": [
        {
          "output_type": "execute_result",
          "data": {
            "text/plain": [
              "10"
            ]
          },
          "metadata": {},
          "execution_count": 39
        }
      ]
    },
    {
      "cell_type": "code",
      "source": [
        "rectangle.breadth"
      ],
      "metadata": {
        "id": "mchyx7rYPmIp",
        "colab": {
          "base_uri": "https://localhost:8080/"
        },
        "outputId": "2e417b8c-21da-4cd1-cf6a-74c04411d2f4"
      },
      "execution_count": 40,
      "outputs": [
        {
          "output_type": "execute_result",
          "data": {
            "text/plain": [
              "15"
            ]
          },
          "metadata": {},
          "execution_count": 40
        }
      ]
    },
    {
      "cell_type": "code",
      "source": [
        "rohumbus = Shape(14,16)"
      ],
      "metadata": {
        "id": "rr5G7e0UP0Ln"
      },
      "execution_count": 41,
      "outputs": []
    },
    {
      "cell_type": "code",
      "source": [
        "rohumbus.length"
      ],
      "metadata": {
        "id": "lf1y0F9IP6X7",
        "colab": {
          "base_uri": "https://localhost:8080/"
        },
        "outputId": "5c965fe2-6254-4c37-e608-3a21d60ad545"
      },
      "execution_count": 42,
      "outputs": [
        {
          "output_type": "execute_result",
          "data": {
            "text/plain": [
              "14"
            ]
          },
          "metadata": {},
          "execution_count": 42
        }
      ]
    },
    {
      "cell_type": "code",
      "source": [
        "rohumbus.breadth"
      ],
      "metadata": {
        "id": "jJRzk6xlP7A_",
        "colab": {
          "base_uri": "https://localhost:8080/"
        },
        "outputId": "86b397ad-4303-4de9-bfe1-1b29dc1d29a8"
      },
      "execution_count": 43,
      "outputs": [
        {
          "output_type": "execute_result",
          "data": {
            "text/plain": [
              "16"
            ]
          },
          "metadata": {},
          "execution_count": 43
        }
      ]
    },
    {
      "cell_type": "code",
      "source": [
        "class Car:\n",
        "\n",
        "  def __init__(self, car_color=\"black\",car_model = \"Creta\"):\n",
        "    print(\"I will get executed when you will create the object for __init__ method\")\n",
        "    self.color = car_color\n",
        "    self.model = car_model\n",
        "\n"
      ],
      "metadata": {
        "id": "5dHjs-grnKch"
      },
      "execution_count": 44,
      "outputs": []
    },
    {
      "cell_type": "code",
      "source": [
        "creta = Car()\n",
        "print(type(creta))"
      ],
      "metadata": {
        "id": "cAwrs4C4n1TQ",
        "colab": {
          "base_uri": "https://localhost:8080/"
        },
        "outputId": "8d7ec0eb-4cd7-4a63-efc4-2883c6853932"
      },
      "execution_count": 45,
      "outputs": [
        {
          "output_type": "stream",
          "name": "stdout",
          "text": [
            "I will get executed when you will create the object for __init__ method\n",
            "<class '__main__.Car'>\n"
          ]
        }
      ]
    },
    {
      "cell_type": "code",
      "source": [
        "creta.color"
      ],
      "metadata": {
        "id": "f3QGr5jsn9VU",
        "colab": {
          "base_uri": "https://localhost:8080/",
          "height": 35
        },
        "outputId": "9129e6f9-129b-41bc-8efb-4b291fadab03"
      },
      "execution_count": 46,
      "outputs": [
        {
          "output_type": "execute_result",
          "data": {
            "text/plain": [
              "'black'"
            ],
            "application/vnd.google.colaboratory.intrinsic+json": {
              "type": "string"
            }
          },
          "metadata": {},
          "execution_count": 46
        }
      ]
    },
    {
      "cell_type": "code",
      "source": [
        "creta.model"
      ],
      "metadata": {
        "id": "7ieI7YNpoCkL",
        "colab": {
          "base_uri": "https://localhost:8080/",
          "height": 35
        },
        "outputId": "5083d19c-ff53-4a8a-bf09-a8e38f20ae9d"
      },
      "execution_count": 47,
      "outputs": [
        {
          "output_type": "execute_result",
          "data": {
            "text/plain": [
              "'Creta'"
            ],
            "application/vnd.google.colaboratory.intrinsic+json": {
              "type": "string"
            }
          },
          "metadata": {},
          "execution_count": 47
        }
      ]
    },
    {
      "cell_type": "code",
      "source": [
        "alto = Car(\"Red\",\"Alto\")"
      ],
      "metadata": {
        "id": "cKB88l5PoF0d",
        "colab": {
          "base_uri": "https://localhost:8080/"
        },
        "outputId": "18fd014e-ac8b-4898-cc4f-3ad4a9017c54"
      },
      "execution_count": 48,
      "outputs": [
        {
          "output_type": "stream",
          "name": "stdout",
          "text": [
            "I will get executed when you will create the object for __init__ method\n"
          ]
        }
      ]
    },
    {
      "cell_type": "code",
      "source": [
        "alto.color"
      ],
      "metadata": {
        "id": "qdK-OnsPoMg5",
        "colab": {
          "base_uri": "https://localhost:8080/",
          "height": 35
        },
        "outputId": "e2218533-6b09-4e73-a34f-598d0b8b19b7"
      },
      "execution_count": 49,
      "outputs": [
        {
          "output_type": "execute_result",
          "data": {
            "text/plain": [
              "'Red'"
            ],
            "application/vnd.google.colaboratory.intrinsic+json": {
              "type": "string"
            }
          },
          "metadata": {},
          "execution_count": 49
        }
      ]
    },
    {
      "cell_type": "code",
      "source": [
        "alto.model"
      ],
      "metadata": {
        "id": "heyfuI3WoPNG",
        "colab": {
          "base_uri": "https://localhost:8080/",
          "height": 35
        },
        "outputId": "c003c0eb-bef1-49b0-b593-767e1c1c6365"
      },
      "execution_count": 50,
      "outputs": [
        {
          "output_type": "execute_result",
          "data": {
            "text/plain": [
              "'Alto'"
            ],
            "application/vnd.google.colaboratory.intrinsic+json": {
              "type": "string"
            }
          },
          "metadata": {},
          "execution_count": 50
        }
      ]
    },
    {
      "cell_type": "code",
      "metadata": {
        "id": "v9cCQCqPtUc2"
      },
      "source": [
        "class Dog:\n",
        "\n",
        "    def __init__(self, breed=\"pug\", name=\"Tommy\", color= \"Black\"):\n",
        "        self.breed_attribute = breed\n",
        "        self.name_attribute = name\n",
        "        self.color = color"
      ],
      "execution_count": 51,
      "outputs": []
    },
    {
      "cell_type": "code",
      "source": [
        "test_dog = Dog()"
      ],
      "metadata": {
        "id": "gBiXOWsvtc23"
      },
      "execution_count": 52,
      "outputs": []
    },
    {
      "cell_type": "code",
      "source": [
        "print(type(test_dog))"
      ],
      "metadata": {
        "id": "8Ftg2L8_s0FO",
        "colab": {
          "base_uri": "https://localhost:8080/"
        },
        "outputId": "a9124e4c-cf3b-4039-d241-d91dc8a72042"
      },
      "execution_count": 53,
      "outputs": [
        {
          "output_type": "stream",
          "name": "stdout",
          "text": [
            "<class '__main__.Dog'>\n"
          ]
        }
      ]
    },
    {
      "cell_type": "code",
      "metadata": {
        "id": "JLdPP81ptUc4"
      },
      "source": [
        "sam_object = Dog(breed='Lab', name = 'Sam', color=\"white\")\n",
        "frank_object = Dog(breed='Huskie', name = 'Frank', color=\"Brown\")"
      ],
      "execution_count": 54,
      "outputs": []
    },
    {
      "cell_type": "code",
      "source": [
        "test_dog.breed_attribute"
      ],
      "metadata": {
        "id": "4--F9YK9tRFe",
        "colab": {
          "base_uri": "https://localhost:8080/",
          "height": 35
        },
        "outputId": "4a6c6c08-1ae0-4a7f-b13d-583855e66877"
      },
      "execution_count": 55,
      "outputs": [
        {
          "output_type": "execute_result",
          "data": {
            "text/plain": [
              "'pug'"
            ],
            "application/vnd.google.colaboratory.intrinsic+json": {
              "type": "string"
            }
          },
          "metadata": {},
          "execution_count": 55
        }
      ]
    },
    {
      "cell_type": "code",
      "source": [
        "test_dog.name_attribute"
      ],
      "metadata": {
        "colab": {
          "base_uri": "https://localhost:8080/",
          "height": 35
        },
        "id": "vqXiRWkFl1-T",
        "outputId": "6e98a1e0-77a1-43a2-b6db-8ee166acc05e"
      },
      "execution_count": 56,
      "outputs": [
        {
          "output_type": "execute_result",
          "data": {
            "text/plain": [
              "'Tommy'"
            ],
            "application/vnd.google.colaboratory.intrinsic+json": {
              "type": "string"
            }
          },
          "metadata": {},
          "execution_count": 56
        }
      ]
    },
    {
      "cell_type": "code",
      "source": [
        "test_dog.color"
      ],
      "metadata": {
        "colab": {
          "base_uri": "https://localhost:8080/",
          "height": 35
        },
        "id": "vjR77S4Gl8Ur",
        "outputId": "48db6fd5-851b-487d-87e0-ac79dc4ab9e8"
      },
      "execution_count": 57,
      "outputs": [
        {
          "output_type": "execute_result",
          "data": {
            "text/plain": [
              "'Black'"
            ],
            "application/vnd.google.colaboratory.intrinsic+json": {
              "type": "string"
            }
          },
          "metadata": {},
          "execution_count": 57
        }
      ]
    },
    {
      "cell_type": "code",
      "metadata": {
        "id": "7ZdGFUwAeSu5",
        "colab": {
          "base_uri": "https://localhost:8080/",
          "height": 35
        },
        "outputId": "6ff5def7-4fd1-4ff5-bff2-467941333fc7"
      },
      "source": [
        "sam_object.breed_attribute"
      ],
      "execution_count": 58,
      "outputs": [
        {
          "output_type": "execute_result",
          "data": {
            "text/plain": [
              "'Lab'"
            ],
            "application/vnd.google.colaboratory.intrinsic+json": {
              "type": "string"
            }
          },
          "metadata": {},
          "execution_count": 58
        }
      ]
    },
    {
      "cell_type": "code",
      "source": [
        "frank_object.breed_attribute"
      ],
      "metadata": {
        "id": "BFMoqf6NuiOy",
        "colab": {
          "base_uri": "https://localhost:8080/",
          "height": 35
        },
        "outputId": "eba431a0-2296-4455-f57e-ff124db7bccc"
      },
      "execution_count": 59,
      "outputs": [
        {
          "output_type": "execute_result",
          "data": {
            "text/plain": [
              "'Huskie'"
            ],
            "application/vnd.google.colaboratory.intrinsic+json": {
              "type": "string"
            }
          },
          "metadata": {},
          "execution_count": 59
        }
      ]
    },
    {
      "cell_type": "code",
      "source": [
        "test_dog.breed_attribute"
      ],
      "metadata": {
        "id": "ry-jaK2puu29",
        "colab": {
          "base_uri": "https://localhost:8080/",
          "height": 35
        },
        "outputId": "55ce3259-4e82-4907-9035-41ac13debaba"
      },
      "execution_count": 60,
      "outputs": [
        {
          "output_type": "execute_result",
          "data": {
            "text/plain": [
              "'pug'"
            ],
            "application/vnd.google.colaboratory.intrinsic+json": {
              "type": "string"
            }
          },
          "metadata": {},
          "execution_count": 60
        }
      ]
    },
    {
      "cell_type": "markdown",
      "metadata": {
        "id": "uIP-Vw97tUc6"
      },
      "source": [
        "Lets break down what we have above.The special method\n",
        "\n",
        "    __init__()\n",
        "is called automatically right after the object has been created:\n",
        "\n",
        "    def __init__(self, breed):\n",
        "Each attribute in a class definition begins with a reference to the instance object. It is by convention named self. The breed is the argument. The value is passed during the class instantiation.\n",
        "\n",
        "     self.breed = breed"
      ]
    },
    {
      "cell_type": "markdown",
      "source": [
        "\n",
        "self represents the instance of the class. By using the “self” we can access the attributes and methods of the class in python. It binds the attributes with the given arguments."
      ],
      "metadata": {
        "id": "7OU7Q8NVVN-g"
      }
    },
    {
      "cell_type": "markdown",
      "metadata": {
        "id": "-mBKAs8ltUc6"
      },
      "source": [
        "Now we have created two instances of the Dog class. With two breed types, we can then access these attributes like this:"
      ]
    },
    {
      "cell_type": "code",
      "source": [
        "#How to access the attributes of a class\n",
        "\n",
        "# object.attribute_name"
      ],
      "metadata": {
        "id": "Pm87mJDQRXxK"
      },
      "execution_count": 61,
      "outputs": []
    },
    {
      "cell_type": "code",
      "source": [
        "test_dog.name_attribute"
      ],
      "metadata": {
        "id": "ndUtFvySt2v6",
        "colab": {
          "base_uri": "https://localhost:8080/",
          "height": 35
        },
        "outputId": "91d7a568-f213-4a28-cd03-c6fa4d4f1561"
      },
      "execution_count": 62,
      "outputs": [
        {
          "output_type": "execute_result",
          "data": {
            "text/plain": [
              "'Tommy'"
            ],
            "application/vnd.google.colaboratory.intrinsic+json": {
              "type": "string"
            }
          },
          "metadata": {},
          "execution_count": 62
        }
      ]
    },
    {
      "cell_type": "code",
      "metadata": {
        "id": "nHsgoXD7tUc7",
        "colab": {
          "base_uri": "https://localhost:8080/",
          "height": 35
        },
        "outputId": "f725c862-6a7e-4248-ad3a-d49e92f2a168"
      },
      "source": [
        "sam_object.name_attribute"
      ],
      "execution_count": 63,
      "outputs": [
        {
          "output_type": "execute_result",
          "data": {
            "text/plain": [
              "'Sam'"
            ],
            "application/vnd.google.colaboratory.intrinsic+json": {
              "type": "string"
            }
          },
          "metadata": {},
          "execution_count": 63
        }
      ]
    },
    {
      "cell_type": "code",
      "metadata": {
        "id": "gH38mpAPtUc9",
        "colab": {
          "base_uri": "https://localhost:8080/",
          "height": 35
        },
        "outputId": "57fa352c-6018-49b7-9acf-1642f8ef4904"
      },
      "source": [
        "frank_object.name_attribute"
      ],
      "execution_count": 64,
      "outputs": [
        {
          "output_type": "execute_result",
          "data": {
            "text/plain": [
              "'Frank'"
            ],
            "application/vnd.google.colaboratory.intrinsic+json": {
              "type": "string"
            }
          },
          "metadata": {},
          "execution_count": 64
        }
      ]
    },
    {
      "cell_type": "code",
      "source": [
        "test_dog.name_attribute"
      ],
      "metadata": {
        "id": "lKk0MtCDvHtA",
        "colab": {
          "base_uri": "https://localhost:8080/",
          "height": 35
        },
        "outputId": "c6dff71f-5e3f-4137-dd73-3a6c0f6de44c"
      },
      "execution_count": 66,
      "outputs": [
        {
          "output_type": "execute_result",
          "data": {
            "text/plain": [
              "'Tommy'"
            ],
            "application/vnd.google.colaboratory.intrinsic+json": {
              "type": "string"
            }
          },
          "metadata": {},
          "execution_count": 66
        }
      ]
    },
    {
      "cell_type": "code",
      "source": [
        "sam_object.color"
      ],
      "metadata": {
        "id": "NLE-4ZUnvLrd",
        "colab": {
          "base_uri": "https://localhost:8080/",
          "height": 35
        },
        "outputId": "30cfa53d-24cc-49da-cc23-74f645f37e26"
      },
      "execution_count": 67,
      "outputs": [
        {
          "output_type": "execute_result",
          "data": {
            "text/plain": [
              "'white'"
            ],
            "application/vnd.google.colaboratory.intrinsic+json": {
              "type": "string"
            }
          },
          "metadata": {},
          "execution_count": 67
        }
      ]
    },
    {
      "cell_type": "code",
      "source": [
        "frank_object.color"
      ],
      "metadata": {
        "id": "Sgpc4ls6vN02",
        "colab": {
          "base_uri": "https://localhost:8080/",
          "height": 35
        },
        "outputId": "8909a1d3-72d9-4d62-d978-95e4f3ebf41c"
      },
      "execution_count": 68,
      "outputs": [
        {
          "output_type": "execute_result",
          "data": {
            "text/plain": [
              "'Brown'"
            ],
            "application/vnd.google.colaboratory.intrinsic+json": {
              "type": "string"
            }
          },
          "metadata": {},
          "execution_count": 68
        }
      ]
    },
    {
      "cell_type": "code",
      "source": [
        "test_dog.color"
      ],
      "metadata": {
        "id": "eeBH7Wg8vaVF",
        "colab": {
          "base_uri": "https://localhost:8080/",
          "height": 35
        },
        "outputId": "3c35cfcd-aac2-4619-99c4-1f4b2d44449f"
      },
      "execution_count": 70,
      "outputs": [
        {
          "output_type": "execute_result",
          "data": {
            "text/plain": [
              "'Black'"
            ],
            "application/vnd.google.colaboratory.intrinsic+json": {
              "type": "string"
            }
          },
          "metadata": {},
          "execution_count": 70
        }
      ]
    },
    {
      "cell_type": "code",
      "source": [
        "print(type(test_dog))"
      ],
      "metadata": {
        "id": "HFJtbEH6wDko",
        "colab": {
          "base_uri": "https://localhost:8080/"
        },
        "outputId": "c30a0e45-cc25-4e10-e029-dda1412559cc"
      },
      "execution_count": 71,
      "outputs": [
        {
          "output_type": "stream",
          "name": "stdout",
          "text": [
            "<class '__main__.Dog'>\n"
          ]
        }
      ]
    },
    {
      "cell_type": "markdown",
      "metadata": {
        "id": "nOUFB6IGtUdD"
      },
      "source": [
        "Note how we don't have any parentheses after breed; this is because it is an attribute and doesn't take any arguments."
      ]
    },
    {
      "cell_type": "code",
      "source": [
        "class Student:\n",
        "\n",
        "    # constructor\n",
        "    # initialize instance variable\n",
        "    def __init__(self, name, age):\n",
        "        print('Inside Constructor')\n",
        "        self.name = name\n",
        "        self.age = age\n",
        "        print('All variables initialized')\n",
        "\n",
        "    # instance Method\n",
        "    #def show(self):\n",
        "        #print('Hello, my name is', self.name)\n",
        "        #print(\"My age is: \", self.age)\n",
        "\n",
        "\n",
        "# create object using constructor\n",
        "s1 = Student(name = \"Monis\", age = 23)\n",
        "#print(s1.name)\n",
        "#print(s1.age)\n",
        "#s1.show()"
      ],
      "metadata": {
        "id": "Y6aYP-IBS7a1",
        "colab": {
          "base_uri": "https://localhost:8080/"
        },
        "outputId": "3de2a044-22ed-45bf-f0a9-0908c2267a32"
      },
      "execution_count": 72,
      "outputs": [
        {
          "output_type": "stream",
          "name": "stdout",
          "text": [
            "Inside Constructor\n",
            "All variables initialized\n"
          ]
        }
      ]
    },
    {
      "cell_type": "code",
      "source": [
        "class Student:\n",
        "\n",
        "    # constructor\n",
        "    # initialize instance variable\n",
        "    def __init__(self, name, age):\n",
        "        print('Inside Constructor')\n",
        "        self.name = name\n",
        "        self.age = age\n",
        "        print('All variables initialized')\n",
        "\n",
        "    # instance Method\n",
        "    def show(self):\n",
        "        print('Hello, my name is', self.name)\n",
        "        print(\"My age is: \", self.age)\n",
        "\n",
        "\n",
        "# create object using constructor\n",
        "s1 = Student(name = \"Monis\", age = 23)\n",
        "print(s1.name)\n",
        "print(s1.age)\n",
        "s1.show()"
      ],
      "metadata": {
        "colab": {
          "base_uri": "https://localhost:8080/"
        },
        "id": "B9kjQXls-wEs",
        "outputId": "f8d4cc67-18f0-406b-be2b-c3437092f5bd"
      },
      "execution_count": 73,
      "outputs": [
        {
          "output_type": "stream",
          "name": "stdout",
          "text": [
            "Inside Constructor\n",
            "All variables initialized\n",
            "Monis\n",
            "23\n",
            "Hello, my name is Monis\n",
            "My age is:  23\n"
          ]
        }
      ]
    },
    {
      "cell_type": "code",
      "source": [
        "#How to call the methods of a class\n",
        "\n",
        "# object.method_name()"
      ],
      "metadata": {
        "id": "olq7G_dWSsYA"
      },
      "execution_count": 74,
      "outputs": []
    },
    {
      "cell_type": "code",
      "source": [
        "# create object using constructor\n",
        "s2 = Student()\n",
        "print(s2.name)\n",
        "print(s2.age)\n",
        "s2.show()"
      ],
      "metadata": {
        "id": "o1MtZjaw8_vM",
        "colab": {
          "base_uri": "https://localhost:8080/",
          "height": 245
        },
        "outputId": "4936bab6-703f-4011-abd8-cd7ab6340f5d"
      },
      "execution_count": 75,
      "outputs": [
        {
          "output_type": "error",
          "ename": "TypeError",
          "evalue": "ignored",
          "traceback": [
            "\u001b[0;31m---------------------------------------------------------------------------\u001b[0m",
            "\u001b[0;31mTypeError\u001b[0m                                 Traceback (most recent call last)",
            "\u001b[0;32m<ipython-input-75-2d0c628a3f85>\u001b[0m in \u001b[0;36m<cell line: 2>\u001b[0;34m()\u001b[0m\n\u001b[1;32m      1\u001b[0m \u001b[0;31m# create object using constructor\u001b[0m\u001b[0;34m\u001b[0m\u001b[0;34m\u001b[0m\u001b[0m\n\u001b[0;32m----> 2\u001b[0;31m \u001b[0ms2\u001b[0m \u001b[0;34m=\u001b[0m \u001b[0mStudent\u001b[0m\u001b[0;34m(\u001b[0m\u001b[0;34m)\u001b[0m\u001b[0;34m\u001b[0m\u001b[0;34m\u001b[0m\u001b[0m\n\u001b[0m\u001b[1;32m      3\u001b[0m \u001b[0mprint\u001b[0m\u001b[0;34m(\u001b[0m\u001b[0ms2\u001b[0m\u001b[0;34m.\u001b[0m\u001b[0mname\u001b[0m\u001b[0;34m)\u001b[0m\u001b[0;34m\u001b[0m\u001b[0;34m\u001b[0m\u001b[0m\n\u001b[1;32m      4\u001b[0m \u001b[0mprint\u001b[0m\u001b[0;34m(\u001b[0m\u001b[0ms2\u001b[0m\u001b[0;34m.\u001b[0m\u001b[0mage\u001b[0m\u001b[0;34m)\u001b[0m\u001b[0;34m\u001b[0m\u001b[0;34m\u001b[0m\u001b[0m\n\u001b[1;32m      5\u001b[0m \u001b[0ms2\u001b[0m\u001b[0;34m.\u001b[0m\u001b[0mshow\u001b[0m\u001b[0;34m(\u001b[0m\u001b[0;34m)\u001b[0m\u001b[0;34m\u001b[0m\u001b[0;34m\u001b[0m\u001b[0m\n",
            "\u001b[0;31mTypeError\u001b[0m: Student.__init__() missing 2 required positional arguments: 'name' and 'age'"
          ]
        }
      ]
    },
    {
      "cell_type": "markdown",
      "metadata": {
        "id": "AZ1ToQpltUdE"
      },
      "source": [
        "## Methods\n",
        "\n",
        "Methods are functions defined inside the body of a class. They are used to perform operations with the attributes of our objects. Methods are a key concept of the OOP paradigm. They are essential to dividing responsibilities in programming, especially in large applications.\n",
        "\n",
        "You can basically think of methods as functions acting on an Object that take the Object itself into account through its *self* argument.\n",
        "\n",
        "Let's go through an example of creating a Circle class:"
      ]
    },
    {
      "cell_type": "code",
      "metadata": {
        "id": "IH9PURqwtUdF"
      },
      "source": [
        "class Circle:\n",
        "\n",
        "  def __init__(self, radius=1):\n",
        "    self.radius = radius\n",
        "    self.area = 3.14 * radius * radius\n",
        "\n",
        "  def setRadius(self, new_radius):\n",
        "    self.radius = new_radius\n",
        "    self.area = 3.14 * new_radius * new_radius\n",
        "\n",
        "  def getCircumference(self):\n",
        "    return 2 * 3.14 * self.radius"
      ],
      "execution_count": 76,
      "outputs": []
    },
    {
      "cell_type": "code",
      "source": [
        "c3 = Circle(10)\n",
        "print(c3.radius)\n",
        "print(c3.area)\n",
        "print(c3.getCircumference())"
      ],
      "metadata": {
        "colab": {
          "base_uri": "https://localhost:8080/"
        },
        "id": "wiBc4f2UA816",
        "outputId": "02190a27-87dc-48eb-cb59-9a555bd63cce"
      },
      "execution_count": 77,
      "outputs": [
        {
          "output_type": "stream",
          "name": "stdout",
          "text": [
            "10\n",
            "314.0\n",
            "62.800000000000004\n"
          ]
        }
      ]
    },
    {
      "cell_type": "code",
      "source": [
        "class Circle:\n",
        "\n",
        "  def __init__(self,radius = 1):\n",
        "     self.radius = radius\n",
        "\n",
        "  def Circumference(self):\n",
        "    cf = 2*3.14*self.radius\n",
        "    return cf\n",
        "\n",
        "  def area(self):\n",
        "    ar = 3.14*self.radius*self.radius\n",
        "    return ar"
      ],
      "metadata": {
        "id": "t3mytodkq9or"
      },
      "execution_count": 78,
      "outputs": []
    },
    {
      "cell_type": "code",
      "source": [
        "c1 = Circle()"
      ],
      "metadata": {
        "id": "7IEt9LsjrxhJ"
      },
      "execution_count": 79,
      "outputs": []
    },
    {
      "cell_type": "code",
      "source": [
        "print(type(c1))"
      ],
      "metadata": {
        "id": "BuN6995_rzqC",
        "colab": {
          "base_uri": "https://localhost:8080/"
        },
        "outputId": "06ee0c4a-30bc-46f0-8975-8af6beb020c4"
      },
      "execution_count": 80,
      "outputs": [
        {
          "output_type": "stream",
          "name": "stdout",
          "text": [
            "<class '__main__.Circle'>\n"
          ]
        }
      ]
    },
    {
      "cell_type": "code",
      "source": [
        "c1.radius"
      ],
      "metadata": {
        "id": "x3eFvUopr0qZ",
        "colab": {
          "base_uri": "https://localhost:8080/"
        },
        "outputId": "e21d7ebe-79d6-4ee7-a519-9b9bd7a044f5"
      },
      "execution_count": 81,
      "outputs": [
        {
          "output_type": "execute_result",
          "data": {
            "text/plain": [
              "1"
            ]
          },
          "metadata": {},
          "execution_count": 81
        }
      ]
    },
    {
      "cell_type": "code",
      "source": [
        "c1.Circumference()"
      ],
      "metadata": {
        "id": "gikkY6MYr0oR",
        "colab": {
          "base_uri": "https://localhost:8080/"
        },
        "outputId": "2587dc90-d9cd-4ab6-bfb8-2dbec9ae4a27"
      },
      "execution_count": 82,
      "outputs": [
        {
          "output_type": "execute_result",
          "data": {
            "text/plain": [
              "6.28"
            ]
          },
          "metadata": {},
          "execution_count": 82
        }
      ]
    },
    {
      "cell_type": "code",
      "source": [
        "c1.area()"
      ],
      "metadata": {
        "id": "h6T0UeHtr0lt",
        "colab": {
          "base_uri": "https://localhost:8080/"
        },
        "outputId": "f6ad2716-8536-4ef6-822a-529611d14269"
      },
      "execution_count": 83,
      "outputs": [
        {
          "output_type": "execute_result",
          "data": {
            "text/plain": [
              "3.14"
            ]
          },
          "metadata": {},
          "execution_count": 83
        }
      ]
    },
    {
      "cell_type": "code",
      "source": [
        "c2 = Circle(10)"
      ],
      "metadata": {
        "id": "D5DkUbair0jY"
      },
      "execution_count": 84,
      "outputs": []
    },
    {
      "cell_type": "code",
      "source": [
        "c2.radius"
      ],
      "metadata": {
        "id": "GEa3bE0gr0g3",
        "colab": {
          "base_uri": "https://localhost:8080/"
        },
        "outputId": "cbb6fac4-1ba2-4502-bdbc-50fcd4e2b808"
      },
      "execution_count": 85,
      "outputs": [
        {
          "output_type": "execute_result",
          "data": {
            "text/plain": [
              "10"
            ]
          },
          "metadata": {},
          "execution_count": 85
        }
      ]
    },
    {
      "cell_type": "code",
      "source": [
        "c2.Circumference()"
      ],
      "metadata": {
        "id": "D3-rhrEisT9r",
        "colab": {
          "base_uri": "https://localhost:8080/"
        },
        "outputId": "56f28772-3974-4ea2-b884-b658577756e3"
      },
      "execution_count": 86,
      "outputs": [
        {
          "output_type": "execute_result",
          "data": {
            "text/plain": [
              "62.800000000000004"
            ]
          },
          "metadata": {},
          "execution_count": 86
        }
      ]
    },
    {
      "cell_type": "code",
      "source": [
        "c2.area()"
      ],
      "metadata": {
        "id": "Jzp3huqnsX7M",
        "colab": {
          "base_uri": "https://localhost:8080/"
        },
        "outputId": "ea427f9e-db7e-4a4f-e978-dd45dae401bb"
      },
      "execution_count": 87,
      "outputs": [
        {
          "output_type": "execute_result",
          "data": {
            "text/plain": [
              "314.0"
            ]
          },
          "metadata": {},
          "execution_count": 87
        }
      ]
    },
    {
      "cell_type": "code",
      "source": [
        "c3 = Circle(10)\n",
        "print(c3.radius)\n",
        "print(c3.area())\n",
        "print(c3.Circumference())"
      ],
      "metadata": {
        "id": "uw-vJFxE1bAd",
        "colab": {
          "base_uri": "https://localhost:8080/"
        },
        "outputId": "543352a5-3132-4071-f93c-aec11a8f53fc"
      },
      "execution_count": 94,
      "outputs": [
        {
          "output_type": "stream",
          "name": "stdout",
          "text": [
            "10\n",
            "314.0\n",
            "62.800000000000004\n"
          ]
        }
      ]
    },
    {
      "cell_type": "code",
      "metadata": {
        "id": "xpiQhNfDtUdH"
      },
      "source": [
        "c = Circle()"
      ],
      "execution_count": 95,
      "outputs": []
    },
    {
      "cell_type": "code",
      "source": [
        "c.radius"
      ],
      "metadata": {
        "id": "LVsYYOPHxjMj",
        "colab": {
          "base_uri": "https://localhost:8080/"
        },
        "outputId": "6260701e-c24a-4237-ee7e-9f3b3d23b47c"
      },
      "execution_count": 96,
      "outputs": [
        {
          "output_type": "execute_result",
          "data": {
            "text/plain": [
              "1"
            ]
          },
          "metadata": {},
          "execution_count": 96
        }
      ]
    },
    {
      "cell_type": "code",
      "metadata": {
        "id": "wwhkXDJqjAHg",
        "colab": {
          "base_uri": "https://localhost:8080/"
        },
        "outputId": "d078b7ee-926e-4ca2-aff9-f172fb4e39e3"
      },
      "source": [
        "c.area()"
      ],
      "execution_count": 98,
      "outputs": [
        {
          "output_type": "execute_result",
          "data": {
            "text/plain": [
              "3.14"
            ]
          },
          "metadata": {},
          "execution_count": 98
        }
      ]
    },
    {
      "cell_type": "code",
      "metadata": {
        "id": "7d5jk613jLmy",
        "colab": {
          "base_uri": "https://localhost:8080/"
        },
        "outputId": "b5da5814-9c75-457a-cfcb-5a49bcf56399"
      },
      "source": [
        "c.Circumference()"
      ],
      "execution_count": 100,
      "outputs": [
        {
          "output_type": "execute_result",
          "data": {
            "text/plain": [
              "6.28"
            ]
          },
          "metadata": {},
          "execution_count": 100
        }
      ]
    },
    {
      "cell_type": "code",
      "source": [
        "c1 = Circle(2)"
      ],
      "metadata": {
        "id": "ll4iRHz7xtDL"
      },
      "execution_count": 101,
      "outputs": []
    },
    {
      "cell_type": "code",
      "source": [
        "c1.radius"
      ],
      "metadata": {
        "id": "Amcm6ty-xwut",
        "colab": {
          "base_uri": "https://localhost:8080/"
        },
        "outputId": "3b5546cf-5355-4688-92e9-32bcc90d22b7"
      },
      "execution_count": 102,
      "outputs": [
        {
          "output_type": "execute_result",
          "data": {
            "text/plain": [
              "2"
            ]
          },
          "metadata": {},
          "execution_count": 102
        }
      ]
    },
    {
      "cell_type": "code",
      "source": [
        "c1.area()"
      ],
      "metadata": {
        "id": "2ci7h_9JxwlR",
        "colab": {
          "base_uri": "https://localhost:8080/"
        },
        "outputId": "4d2509f5-0100-44d7-df11-0f980a171929"
      },
      "execution_count": 104,
      "outputs": [
        {
          "output_type": "execute_result",
          "data": {
            "text/plain": [
              "12.56"
            ]
          },
          "metadata": {},
          "execution_count": 104
        }
      ]
    },
    {
      "cell_type": "code",
      "source": [
        "c1.Circumference()"
      ],
      "metadata": {
        "id": "qJCZf1XWxwbi",
        "colab": {
          "base_uri": "https://localhost:8080/"
        },
        "outputId": "142fb2a7-bc56-4da9-f8e0-48730d2c22eb"
      },
      "execution_count": 106,
      "outputs": [
        {
          "output_type": "execute_result",
          "data": {
            "text/plain": [
              "12.56"
            ]
          },
          "metadata": {},
          "execution_count": 106
        }
      ]
    },
    {
      "cell_type": "code",
      "metadata": {
        "id": "LtcO9Ne3iUo3",
        "colab": {
          "base_uri": "https://localhost:8080/"
        },
        "outputId": "254e0beb-4ddd-450a-af08-cf9c784f1513"
      },
      "source": [
        "print('Radius is: ', c.radius)\n",
        "print('Area is: ', c.area())\n",
        "print('Circumference is: ', c.Circumference())"
      ],
      "execution_count": 109,
      "outputs": [
        {
          "output_type": "stream",
          "name": "stdout",
          "text": [
            "Radius is:  1\n",
            "Area is:  3.14\n",
            "Circumference is:  6.28\n"
          ]
        }
      ]
    },
    {
      "cell_type": "markdown",
      "metadata": {
        "id": "zOyW9yPHtUdJ"
      },
      "source": [
        "Now let's change the radius and see how that affects our Circle object:"
      ]
    },
    {
      "cell_type": "code",
      "metadata": {
        "id": "Sp6WUJc9tUdJ",
        "colab": {
          "base_uri": "https://localhost:8080/"
        },
        "outputId": "08820b38-f087-422f-a0f7-c66bfb943dc9"
      },
      "source": [
        "c4 = Circle(4)\n",
        "\n",
        "print('Radius is: ', c4.radius)\n",
        "print('Area is: ', c4.area())\n",
        "print('Circumference is: ', c4.Circumference())"
      ],
      "execution_count": 122,
      "outputs": [
        {
          "output_type": "stream",
          "name": "stdout",
          "text": [
            "Radius is:  4\n",
            "Area is:  50.24\n",
            "Circumference is:  25.12\n"
          ]
        }
      ]
    },
    {
      "cell_type": "markdown",
      "metadata": {
        "id": "_0r0aq3ntUdL"
      },
      "source": [
        "Great! Notice how we used self. notation to reference attributes of the class within the method calls. Review how the code above works and try creating your own method."
      ]
    },
    {
      "cell_type": "code",
      "source": [
        "class Monis:\n",
        "  def __init__(self, id,name):\n",
        "    self.id = id\n",
        "    self.name = name\n",
        "  def show(self):\n",
        "    print(self.id)\n",
        "\n",
        "obj= Monis(1, \"Monis\")\n",
        "print(obj.id)\n",
        "print(obj.name)"
      ],
      "metadata": {
        "id": "71ooOc-x_vpe",
        "colab": {
          "base_uri": "https://localhost:8080/"
        },
        "outputId": "7c58eaed-87cb-46b6-e29a-46c36c6474d4"
      },
      "execution_count": 125,
      "outputs": [
        {
          "output_type": "stream",
          "name": "stdout",
          "text": [
            "1\n",
            "Monis\n"
          ]
        }
      ]
    },
    {
      "cell_type": "markdown",
      "metadata": {
        "id": "VYD7BgLZtUdM"
      },
      "source": [
        "## Polymorphism\n",
        "\n",
        "We've learned that while functions can take in different arguments, methods belong to the objects they act on. In Python, *polymorphism* refers to the way in which different object classes can share the same method name, and those methods can be called from the same place even though a variety of different objects might be passed in. The best way to explain this is by example:"
      ]
    },
    {
      "cell_type": "markdown",
      "source": [
        "![image.png](data:image/png;base64,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)"
      ],
      "metadata": {
        "id": "MyFarS4_YShf"
      }
    },
    {
      "cell_type": "code",
      "metadata": {
        "id": "C-DbH8vVtUdM"
      },
      "source": [
        "class HouseStark:\n",
        "    def __init__(self, sigil):\n",
        "        self.sigil = sigil\n",
        "\n",
        "    def motto(self):\n",
        "        return \"House Stark with sigil \" + self.sigil + \" has the motto 'Winter is coming'\""
      ],
      "execution_count": 126,
      "outputs": []
    },
    {
      "cell_type": "code",
      "metadata": {
        "id": "Knb58dwgF5wZ"
      },
      "source": [
        "class HouseLannister:\n",
        "    def __init__(self, sigil):\n",
        "        self.sigil = sigil\n",
        "\n",
        "    def motto(self):\n",
        "        return \"House Lannister with sigil \" + self.sigil + \" has the motto 'Hear me roar'\""
      ],
      "execution_count": 127,
      "outputs": []
    },
    {
      "cell_type": "code",
      "metadata": {
        "id": "ZHMg38V2tUdO"
      },
      "source": [
        "arya = HouseStark('direwolf')\n",
        "tyrion = HouseLannister('golden lion')"
      ],
      "execution_count": 128,
      "outputs": []
    },
    {
      "cell_type": "code",
      "source": [
        "print(arya.sigil)"
      ],
      "metadata": {
        "id": "bSo6cUVm38D7",
        "colab": {
          "base_uri": "https://localhost:8080/"
        },
        "outputId": "48abacb0-7ce6-4ce3-c326-af7a18076e4a"
      },
      "execution_count": 129,
      "outputs": [
        {
          "output_type": "stream",
          "name": "stdout",
          "text": [
            "direwolf\n"
          ]
        }
      ]
    },
    {
      "cell_type": "code",
      "metadata": {
        "id": "haoS9YqetUdR",
        "colab": {
          "base_uri": "https://localhost:8080/"
        },
        "outputId": "0a299d25-60dd-4153-fd0f-f14ea305072d"
      },
      "source": [
        "print(arya.motto())"
      ],
      "execution_count": 130,
      "outputs": [
        {
          "output_type": "stream",
          "name": "stdout",
          "text": [
            "House Stark with sigil direwolf has the motto 'Winter is coming'\n"
          ]
        }
      ]
    },
    {
      "cell_type": "code",
      "metadata": {
        "id": "HsZugVGgFChX",
        "colab": {
          "base_uri": "https://localhost:8080/"
        },
        "outputId": "322bbf72-396d-4df6-95d5-a02d06e6c712"
      },
      "source": [
        "print(tyrion.motto())"
      ],
      "execution_count": 131,
      "outputs": [
        {
          "output_type": "stream",
          "name": "stdout",
          "text": [
            "House Lannister with sigil golden lion has the motto 'Hear me roar'\n"
          ]
        }
      ]
    },
    {
      "cell_type": "markdown",
      "metadata": {
        "id": "bWpYCHnXtUdT"
      },
      "source": [
        "Here we have a HouseStark class and a HouseLannister class, and each has a `.motto()` method. When called, each object's `.motto()` method returns a result unique to the object.\n",
        "\n",
        "There a few different ways to demonstrate polymorphism. First, with a for loop:"
      ]
    },
    {
      "cell_type": "code",
      "metadata": {
        "id": "sB9Dm2QetUdU",
        "colab": {
          "base_uri": "https://localhost:8080/"
        },
        "outputId": "6e3e43c0-71bc-4ee4-cc6b-708c354c6ed5"
      },
      "source": [
        "for warrior in [arya, tyrion]:\n",
        "    print(warrior.motto())"
      ],
      "execution_count": 132,
      "outputs": [
        {
          "output_type": "stream",
          "name": "stdout",
          "text": [
            "House Stark with sigil direwolf has the motto 'Winter is coming'\n",
            "House Lannister with sigil golden lion has the motto 'Hear me roar'\n"
          ]
        }
      ]
    },
    {
      "cell_type": "markdown",
      "metadata": {
        "id": "ejVaA9YctUdV"
      },
      "source": [
        "Another is with functions:"
      ]
    },
    {
      "cell_type": "code",
      "metadata": {
        "id": "w53MLAWJtUdW",
        "colab": {
          "base_uri": "https://localhost:8080/"
        },
        "outputId": "057ac9f6-5c7e-402f-edad-86e41fe06c7c"
      },
      "source": [
        "def get_motto(warrior):\n",
        "    print(warrior.motto())\n",
        "\n",
        "get_motto(arya)\n",
        "get_motto(tyrion)"
      ],
      "execution_count": 133,
      "outputs": [
        {
          "output_type": "stream",
          "name": "stdout",
          "text": [
            "House Stark with sigil direwolf has the motto 'Winter is coming'\n",
            "House Lannister with sigil golden lion has the motto 'Hear me roar'\n"
          ]
        }
      ]
    },
    {
      "cell_type": "markdown",
      "metadata": {
        "id": "sewYYDL7tUdY"
      },
      "source": [
        "In both cases we were able to pass in different object types, and we obtained object-specific results from the same mechanism."
      ]
    },
    {
      "cell_type": "code",
      "source": [
        "class square:\n",
        "\n",
        "  def __init__(self,length):\n",
        "    self.length = length\n",
        "\n",
        "  def area(self):\n",
        "    print(self.length * self.length)\n",
        ""
      ],
      "metadata": {
        "id": "IXpeScAYCNUF"
      },
      "execution_count": 134,
      "outputs": []
    },
    {
      "cell_type": "code",
      "source": [
        "class rectangle:\n",
        "  def __init__(self,length,breadth):\n",
        "    self.length = length\n",
        "    self.breadth = breadth\n",
        "\n",
        "  def area(self):\n",
        "    print(self.length * self.breadth)"
      ],
      "metadata": {
        "id": "ba5QNs61CwRz"
      },
      "execution_count": 135,
      "outputs": []
    },
    {
      "cell_type": "code",
      "source": [
        "class circle:\n",
        "  def __init__(self,radius):\n",
        "    self.radius=radius\n",
        "\n",
        "  def area(self):\n",
        "    print(3.14*self.radius*self.radius)"
      ],
      "metadata": {
        "id": "OfuOGnC1vSkP"
      },
      "execution_count": 136,
      "outputs": []
    },
    {
      "cell_type": "code",
      "source": [
        "sq = square(10)\n",
        "print(sq.length)\n",
        "sq.area()"
      ],
      "metadata": {
        "id": "V8U4W-4fC9GB",
        "colab": {
          "base_uri": "https://localhost:8080/"
        },
        "outputId": "2bd7e482-223e-4bf3-927b-b7a667ede642"
      },
      "execution_count": 137,
      "outputs": [
        {
          "output_type": "stream",
          "name": "stdout",
          "text": [
            "10\n",
            "100\n"
          ]
        }
      ]
    },
    {
      "cell_type": "code",
      "source": [
        "rect = rectangle(15,20)\n",
        "print(rect.length)\n",
        "print(rect.breadth)\n",
        "rect.area()"
      ],
      "metadata": {
        "id": "Dd0Def42C9DU",
        "colab": {
          "base_uri": "https://localhost:8080/"
        },
        "outputId": "573ebdbd-c2f0-4d2e-b48f-a1991a62f7a8"
      },
      "execution_count": 138,
      "outputs": [
        {
          "output_type": "stream",
          "name": "stdout",
          "text": [
            "15\n",
            "20\n",
            "300\n"
          ]
        }
      ]
    },
    {
      "cell_type": "code",
      "source": [
        "c3 = circle(20)\n",
        "print(c3.radius)\n",
        "c3.area()"
      ],
      "metadata": {
        "id": "BrqBpnbPvxOw",
        "colab": {
          "base_uri": "https://localhost:8080/"
        },
        "outputId": "f01f01bb-d5d7-4fda-9b94-ad4be4aa7fc3"
      },
      "execution_count": 139,
      "outputs": [
        {
          "output_type": "stream",
          "name": "stdout",
          "text": [
            "20\n",
            "1256.0\n"
          ]
        }
      ]
    },
    {
      "cell_type": "markdown",
      "metadata": {
        "id": "FF0HJ0VUtUdY"
      },
      "source": [
        "**Great! By now you should have a basic understanding of how to create your own objects with class in Python.**"
      ]
    },
    {
      "cell_type": "code",
      "source": [
        "class India():\n",
        "    def capital(self):\n",
        "        print(\"New Delhi is the capital of India.\")\n",
        "\n",
        "    def language(self):\n",
        "        print(\"Hindi is the most widely spoken language of India.\")\n",
        "\n",
        "    def type(self):\n",
        "        print(\"India is a developing country.\")\n",
        "\n",
        "class USA():\n",
        "    def capital(self):\n",
        "        print(\"Washington, D.C. is the capital of USA.\")\n",
        "\n",
        "    def language(self):\n",
        "        print(\"English is the primary language of USA.\")\n",
        "\n",
        "    def type(self):\n",
        "        print(\"USA is a developed country.\")"
      ],
      "metadata": {
        "id": "nPgmNgj8P0LY"
      },
      "execution_count": 140,
      "outputs": []
    },
    {
      "cell_type": "code",
      "source": [
        "obj_ind = India()\n",
        "obj_usa = USA()\n",
        "for country in (obj_ind, obj_usa):\n",
        "    country.capital()\n",
        "    country.language()\n",
        "    country.type()"
      ],
      "metadata": {
        "id": "Gg09hUQfQZTG",
        "colab": {
          "base_uri": "https://localhost:8080/"
        },
        "outputId": "2ac62c6b-1cb7-4632-ba88-eca19e9e9d20"
      },
      "execution_count": 141,
      "outputs": [
        {
          "output_type": "stream",
          "name": "stdout",
          "text": [
            "New Delhi is the capital of India.\n",
            "Hindi is the most widely spoken language of India.\n",
            "India is a developing country.\n",
            "Washington, D.C. is the capital of USA.\n",
            "English is the primary language of USA.\n",
            "USA is a developed country.\n"
          ]
        }
      ]
    },
    {
      "cell_type": "code",
      "source": [
        "def func(obj):\n",
        "    obj.capital()\n",
        "    obj.language()\n",
        "    obj.type()\n",
        "\n",
        "obj_ind = India()\n",
        "obj_usa = USA()\n",
        "\n",
        "func(obj_ind)\n",
        "func(obj_usa)"
      ],
      "metadata": {
        "id": "5eEksxBEQZJa",
        "colab": {
          "base_uri": "https://localhost:8080/"
        },
        "outputId": "d23f2698-3a17-4185-c082-e19e409c40cb"
      },
      "execution_count": 142,
      "outputs": [
        {
          "output_type": "stream",
          "name": "stdout",
          "text": [
            "New Delhi is the capital of India.\n",
            "Hindi is the most widely spoken language of India.\n",
            "India is a developing country.\n",
            "Washington, D.C. is the capital of USA.\n",
            "English is the primary language of USA.\n",
            "USA is a developed country.\n"
          ]
        }
      ]
    },
    {
      "cell_type": "code",
      "source": [
        "class Bird:\n",
        "  def intro(self):\n",
        "    print(\"There are many types of birds.\")\n",
        "\n",
        "  def flight(self):\n",
        "    print(\"Most of the birds can fly but some cannot.\")\n",
        "\n",
        "class sparrow(Bird):\n",
        "  def flight(self):\n",
        "    print(\"Sparrows can fly.\")\n",
        "\n",
        "class ostrich(Bird):\n",
        "  def flight(self):\n",
        "    print(\"Ostriches cannot fly.\")\n",
        "\n",
        "obj_bird = Bird()\n",
        "obj_spr = sparrow()\n",
        "obj_ost = ostrich()\n",
        "\n",
        "obj_bird.intro()\n",
        "obj_bird.flight()\n",
        "\n",
        "obj_spr.intro()\n",
        "obj_spr.flight()\n",
        "\n",
        "obj_ost.intro()\n",
        "obj_ost.flight()"
      ],
      "metadata": {
        "id": "co2XzMIxRZN5",
        "colab": {
          "base_uri": "https://localhost:8080/"
        },
        "outputId": "825acc28-4083-422d-deca-c77575dac7ec"
      },
      "execution_count": 143,
      "outputs": [
        {
          "output_type": "stream",
          "name": "stdout",
          "text": [
            "There are many types of birds.\n",
            "Most of the birds can fly but some cannot.\n",
            "There are many types of birds.\n",
            "Sparrows can fly.\n",
            "There are many types of birds.\n",
            "Ostriches cannot fly.\n"
          ]
        }
      ]
    },
    {
      "cell_type": "code",
      "source": [
        "class Monis:\n",
        "\n",
        "  def job(self):\n",
        "    print(\"Monis is a Data Scientist\")\n",
        "\n",
        "class Faisal:\n",
        "  def job(self):\n",
        "    print(\"Faisal is a Software Engineer\")"
      ],
      "metadata": {
        "id": "o1VWgIVpYGRf"
      },
      "execution_count": 147,
      "outputs": []
    },
    {
      "cell_type": "code",
      "source": [
        "from re import M\n",
        "ojb_Monis = Monis()\n",
        "obj_Faisal = Faisal()"
      ],
      "metadata": {
        "id": "AQtyI8gNYWL8"
      },
      "execution_count": 149,
      "outputs": []
    },
    {
      "cell_type": "code",
      "source": [
        "ojb_Monis.job()"
      ],
      "metadata": {
        "id": "7N2_YAFcYeRP",
        "colab": {
          "base_uri": "https://localhost:8080/"
        },
        "outputId": "46813620-8c39-4050-f103-2f7c672bb8d8"
      },
      "execution_count": 150,
      "outputs": [
        {
          "output_type": "stream",
          "name": "stdout",
          "text": [
            "Monis is a Data Scientist\n"
          ]
        }
      ]
    },
    {
      "cell_type": "code",
      "source": [
        "obj_Faisal.job()"
      ],
      "metadata": {
        "id": "66awze3wYnzJ",
        "colab": {
          "base_uri": "https://localhost:8080/"
        },
        "outputId": "8512ef1e-da1d-4742-925d-79894a447e81"
      },
      "execution_count": 151,
      "outputs": [
        {
          "output_type": "stream",
          "name": "stdout",
          "text": [
            "Faisal is a Software Engineer\n"
          ]
        }
      ]
    },
    {
      "cell_type": "markdown",
      "metadata": {
        "id": "7MVXdj_MGzIO"
      },
      "source": [
        "# 2. Errors and Exception Handling\n",
        "\n",
        "Now we will learn about Errors and Exception Handling in Python. You've definitely already encountered errors by this point in the course. For example:"
      ]
    },
    {
      "cell_type": "code",
      "metadata": {
        "id": "iRy54of4GuZY",
        "colab": {
          "base_uri": "https://localhost:8080/",
          "height": 175
        },
        "outputId": "e5cd18cf-99c7-4843-8b0c-f5b959dd78a1"
      },
      "source": [
        "print(XGBoost)"
      ],
      "execution_count": 153,
      "outputs": [
        {
          "output_type": "error",
          "ename": "NameError",
          "evalue": "ignored",
          "traceback": [
            "\u001b[0;31m---------------------------------------------------------------------------\u001b[0m",
            "\u001b[0;31mNameError\u001b[0m                                 Traceback (most recent call last)",
            "\u001b[0;32m<ipython-input-153-dd204ff0a106>\u001b[0m in \u001b[0;36m<cell line: 1>\u001b[0;34m()\u001b[0m\n\u001b[0;32m----> 1\u001b[0;31m \u001b[0mprint\u001b[0m\u001b[0;34m(\u001b[0m\u001b[0mXGBoost\u001b[0m\u001b[0;34m)\u001b[0m\u001b[0;34m\u001b[0m\u001b[0;34m\u001b[0m\u001b[0m\n\u001b[0m",
            "\u001b[0;31mNameError\u001b[0m: name 'XGBoost' is not defined"
          ]
        }
      ]
    },
    {
      "cell_type": "markdown",
      "metadata": {
        "id": "w1zIZO0oSctr"
      },
      "source": [
        "Note how we get a SyntaxError, with the further description that it was an EOL (End of Line Error) while scanning the string literal. This is specific enough for us to see that we forgot a single quote at the end of the line. Understanding these various error types will help you debug your code much faster.\n",
        "\n",
        "This type of error and description is known as an Exception. Even if a statement or expression is syntactically correct, it may cause an error when an attempt is made to execute it. Errors detected during execution are called exceptions and are not unconditionally fatal.\n",
        "\n",
        "You can check out the full list of built-in exceptions [here](https://docs.python.org/3/library/exceptions.html). Now let's learn how to handle errors and exceptions in our own code."
      ]
    },
    {
      "cell_type": "markdown",
      "metadata": {
        "id": "kTa8caFuSezF"
      },
      "source": [
        "## try and except\n",
        "\n",
        "The basic terminology and syntax used to handle errors in Python are the <code>try</code> and <code>except</code> statements. The code which can cause an exception to occur is put in the <code>try</code> block and the handling of the exception is then implemented in the <code>except</code> block of code. The syntax follows:\n",
        "\n",
        "    try:\n",
        "       You do your operations here...\n",
        "       ...\n",
        "    except:\n",
        "       If there is an exception, then execute this block.\n",
        "    else:\n",
        "       If there is no exception then execute this block.\n",
        "\n",
        "To get a better understanding of this let's check out an example:"
      ]
    },
    {
      "cell_type": "code",
      "source": [
        "print(\"Good to go!\")\n",
        "print('a', fwdfdwafwf)\n",
        "print('b')"
      ],
      "metadata": {
        "id": "0Jtb40ip7Mnc",
        "colab": {
          "base_uri": "https://localhost:8080/",
          "height": 227
        },
        "outputId": "6b16fd09-435f-436e-d8c7-21bb319bfc52"
      },
      "execution_count": 154,
      "outputs": [
        {
          "output_type": "stream",
          "name": "stdout",
          "text": [
            "Good to go!\n"
          ]
        },
        {
          "output_type": "error",
          "ename": "NameError",
          "evalue": "ignored",
          "traceback": [
            "\u001b[0;31m---------------------------------------------------------------------------\u001b[0m",
            "\u001b[0;31mNameError\u001b[0m                                 Traceback (most recent call last)",
            "\u001b[0;32m<ipython-input-154-f392a0a21bba>\u001b[0m in \u001b[0;36m<cell line: 2>\u001b[0;34m()\u001b[0m\n\u001b[1;32m      1\u001b[0m \u001b[0mprint\u001b[0m\u001b[0;34m(\u001b[0m\u001b[0;34m\"Good to go!\"\u001b[0m\u001b[0;34m)\u001b[0m\u001b[0;34m\u001b[0m\u001b[0;34m\u001b[0m\u001b[0m\n\u001b[0;32m----> 2\u001b[0;31m \u001b[0mprint\u001b[0m\u001b[0;34m(\u001b[0m\u001b[0;34m'a'\u001b[0m\u001b[0;34m,\u001b[0m \u001b[0mfwdfdwafwf\u001b[0m\u001b[0;34m)\u001b[0m\u001b[0;34m\u001b[0m\u001b[0;34m\u001b[0m\u001b[0m\n\u001b[0m\u001b[1;32m      3\u001b[0m \u001b[0mprint\u001b[0m\u001b[0;34m(\u001b[0m\u001b[0;34m'b'\u001b[0m\u001b[0;34m)\u001b[0m\u001b[0;34m\u001b[0m\u001b[0;34m\u001b[0m\u001b[0m\n",
            "\u001b[0;31mNameError\u001b[0m: name 'fwdfdwafwf' is not defined"
          ]
        }
      ]
    },
    {
      "cell_type": "code",
      "source": [
        "6 // 0"
      ],
      "metadata": {
        "id": "Mqcjd-SdZiDd",
        "colab": {
          "base_uri": "https://localhost:8080/",
          "height": 175
        },
        "outputId": "fd2cb22e-a440-4023-ced8-a5a74ab15c90"
      },
      "execution_count": 155,
      "outputs": [
        {
          "output_type": "error",
          "ename": "ZeroDivisionError",
          "evalue": "ignored",
          "traceback": [
            "\u001b[0;31m---------------------------------------------------------------------------\u001b[0m",
            "\u001b[0;31mZeroDivisionError\u001b[0m                         Traceback (most recent call last)",
            "\u001b[0;32m<ipython-input-155-750f00e8e6eb>\u001b[0m in \u001b[0;36m<cell line: 1>\u001b[0;34m()\u001b[0m\n\u001b[0;32m----> 1\u001b[0;31m \u001b[0;36m6\u001b[0m \u001b[0;34m//\u001b[0m \u001b[0;36m0\u001b[0m\u001b[0;34m\u001b[0m\u001b[0;34m\u001b[0m\u001b[0m\n\u001b[0m",
            "\u001b[0;31mZeroDivisionError\u001b[0m: integer division or modulo by zero"
          ]
        }
      ]
    },
    {
      "cell_type": "code",
      "source": [
        "numerator = 10\n",
        "denominator = 0\n",
        "\n",
        "result = numerator/denominator\n",
        "\n",
        "print(result)"
      ],
      "metadata": {
        "id": "Qa0CMFdO0ZqW",
        "colab": {
          "base_uri": "https://localhost:8080/",
          "height": 245
        },
        "outputId": "29c86036-af10-4398-ca6d-08f08d0e05c5"
      },
      "execution_count": 156,
      "outputs": [
        {
          "output_type": "error",
          "ename": "ZeroDivisionError",
          "evalue": "ignored",
          "traceback": [
            "\u001b[0;31m---------------------------------------------------------------------------\u001b[0m",
            "\u001b[0;31mZeroDivisionError\u001b[0m                         Traceback (most recent call last)",
            "\u001b[0;32m<ipython-input-156-8f43cf287b9c>\u001b[0m in \u001b[0;36m<cell line: 4>\u001b[0;34m()\u001b[0m\n\u001b[1;32m      2\u001b[0m \u001b[0mdenominator\u001b[0m \u001b[0;34m=\u001b[0m \u001b[0;36m0\u001b[0m\u001b[0;34m\u001b[0m\u001b[0;34m\u001b[0m\u001b[0m\n\u001b[1;32m      3\u001b[0m \u001b[0;34m\u001b[0m\u001b[0m\n\u001b[0;32m----> 4\u001b[0;31m \u001b[0mresult\u001b[0m \u001b[0;34m=\u001b[0m \u001b[0mnumerator\u001b[0m\u001b[0;34m/\u001b[0m\u001b[0mdenominator\u001b[0m\u001b[0;34m\u001b[0m\u001b[0;34m\u001b[0m\u001b[0m\n\u001b[0m\u001b[1;32m      5\u001b[0m \u001b[0;34m\u001b[0m\u001b[0m\n\u001b[1;32m      6\u001b[0m \u001b[0mprint\u001b[0m\u001b[0;34m(\u001b[0m\u001b[0mresult\u001b[0m\u001b[0;34m)\u001b[0m\u001b[0;34m\u001b[0m\u001b[0;34m\u001b[0m\u001b[0m\n",
            "\u001b[0;31mZeroDivisionError\u001b[0m: division by zero"
          ]
        }
      ]
    },
    {
      "cell_type": "code",
      "source": [
        "if:\n",
        "    numerator = 10\n",
        "    denominator = 0\n",
        "\n",
        "    result = numerator/denominator\n",
        "\n",
        "    print(result)\n",
        "else:\n",
        "    print(\"Error: Denominator cannot be 0.\")"
      ],
      "metadata": {
        "id": "MXNLv08E0o36",
        "colab": {
          "base_uri": "https://localhost:8080/",
          "height": 140
        },
        "outputId": "18801390-ff00-4820-9b81-626ef0b0525a"
      },
      "execution_count": 157,
      "outputs": [
        {
          "output_type": "error",
          "ename": "SyntaxError",
          "evalue": "ignored",
          "traceback": [
            "\u001b[0;36m  File \u001b[0;32m\"<ipython-input-157-2ee986b97b0f>\"\u001b[0;36m, line \u001b[0;32m1\u001b[0m\n\u001b[0;31m    if:\u001b[0m\n\u001b[0m      ^\u001b[0m\n\u001b[0;31mSyntaxError\u001b[0m\u001b[0;31m:\u001b[0m invalid syntax\n"
          ]
        }
      ]
    },
    {
      "cell_type": "code",
      "source": [
        "try:\n",
        "    numerator = 10\n",
        "    denominator = 0\n",
        "\n",
        "    result = numerator/denominator\n",
        "\n",
        "    print(result)\n",
        "except:\n",
        "    print(\"Error: Denominator cannot be 0.\")\n",
        "\n",
        "# Output: Error: Denominator cannot be 0."
      ],
      "metadata": {
        "id": "Mq-peV3rIYj0",
        "colab": {
          "base_uri": "https://localhost:8080/"
        },
        "outputId": "6a54fbf9-510a-4582-df5e-867a3a63226d"
      },
      "execution_count": 158,
      "outputs": [
        {
          "output_type": "stream",
          "name": "stdout",
          "text": [
            "Error: Denominator cannot be 0.\n"
          ]
        }
      ]
    },
    {
      "cell_type": "code",
      "source": [
        "even_numbers = [2,4,6,8]\n",
        "print(even_numbers[10])"
      ],
      "metadata": {
        "id": "r2m70gHAHG5O",
        "colab": {
          "base_uri": "https://localhost:8080/",
          "height": 193
        },
        "outputId": "5a30e639-f545-4ffd-c05e-35ecbf6f60ff"
      },
      "execution_count": 159,
      "outputs": [
        {
          "output_type": "error",
          "ename": "IndexError",
          "evalue": "ignored",
          "traceback": [
            "\u001b[0;31m---------------------------------------------------------------------------\u001b[0m",
            "\u001b[0;31mIndexError\u001b[0m                                Traceback (most recent call last)",
            "\u001b[0;32m<ipython-input-159-2e57a0d1a486>\u001b[0m in \u001b[0;36m<cell line: 2>\u001b[0;34m()\u001b[0m\n\u001b[1;32m      1\u001b[0m \u001b[0meven_numbers\u001b[0m \u001b[0;34m=\u001b[0m \u001b[0;34m[\u001b[0m\u001b[0;36m2\u001b[0m\u001b[0;34m,\u001b[0m\u001b[0;36m4\u001b[0m\u001b[0;34m,\u001b[0m\u001b[0;36m6\u001b[0m\u001b[0;34m,\u001b[0m\u001b[0;36m8\u001b[0m\u001b[0;34m]\u001b[0m\u001b[0;34m\u001b[0m\u001b[0;34m\u001b[0m\u001b[0m\n\u001b[0;32m----> 2\u001b[0;31m \u001b[0mprint\u001b[0m\u001b[0;34m(\u001b[0m\u001b[0meven_numbers\u001b[0m\u001b[0;34m[\u001b[0m\u001b[0;36m10\u001b[0m\u001b[0;34m]\u001b[0m\u001b[0;34m)\u001b[0m\u001b[0;34m\u001b[0m\u001b[0;34m\u001b[0m\u001b[0m\n\u001b[0m",
            "\u001b[0;31mIndexError\u001b[0m: list index out of range"
          ]
        }
      ]
    },
    {
      "cell_type": "code",
      "source": [
        "try:\n",
        "    even_numbers = [2,4,6,8]\n",
        "    print(even_numbers[2])\n",
        "    numerator = 10\n",
        "    denominator = 0\n",
        "    result = numerator/denominator\n",
        "    print(result)\n",
        "\n",
        "except ZeroDivisionError:\n",
        "    print(\"Denominator cannot be 0.\")\n",
        "\n",
        "except IndexError:\n",
        "    print(\"Index Out of Bound.\")\n",
        "\n",
        "# Output: Index Out of Bound"
      ],
      "metadata": {
        "id": "93BSBjhgIdqH",
        "colab": {
          "base_uri": "https://localhost:8080/"
        },
        "outputId": "a4dac09b-5f2a-430c-cc72-5762c36475ea"
      },
      "execution_count": 160,
      "outputs": [
        {
          "output_type": "stream",
          "name": "stdout",
          "text": [
            "6\n",
            "Denominator cannot be 0.\n"
          ]
        }
      ]
    },
    {
      "cell_type": "code",
      "metadata": {
        "id": "Ckb2jAAeZlkv",
        "colab": {
          "base_uri": "https://localhost:8080/"
        },
        "outputId": "82b3d050-394d-4096-f3da-f9c1cf63f877"
      },
      "source": [
        "# Python code to illustrate\n",
        "# working of try()\n",
        "def divide(x, y):\n",
        "    try:\n",
        "        # Floor Division : Gives only Fractional Part as Answer\n",
        "        result = x // y\n",
        "        print(\"Yeah ! Your answer is :\", result)\n",
        "    except ZeroDivisionError:\n",
        "        print(\"Sorry ! You are dividing by zero \")\n",
        "    else:\n",
        "      print(\"There is no Divide by Zero error\")\n",
        "\n",
        "# Look at parameters and note the working of Program\n",
        "divide(3, 2)"
      ],
      "execution_count": 161,
      "outputs": [
        {
          "output_type": "stream",
          "name": "stdout",
          "text": [
            "Yeah ! Your answer is : 1\n",
            "There is no Divide by Zero error\n"
          ]
        }
      ]
    },
    {
      "cell_type": "code",
      "source": [
        "divide(3, 0)"
      ],
      "metadata": {
        "id": "Ip3-d2c5ZfxM",
        "colab": {
          "base_uri": "https://localhost:8080/"
        },
        "outputId": "cf2c0b39-597b-4ae0-8925-83897e96ac50"
      },
      "execution_count": 162,
      "outputs": [
        {
          "output_type": "stream",
          "name": "stdout",
          "text": [
            "Sorry ! You are dividing by zero \n"
          ]
        }
      ]
    },
    {
      "cell_type": "markdown",
      "metadata": {
        "id": "1iWZyynISj7-"
      },
      "source": [
        "Great! Now we don't actually need to memorize that list of exception types! Now what if we kept wanting to run code after the exception occurred? This is where <code>finally</code> comes in.\n",
        "## finally\n",
        "The <code>finally:</code> block of code will always be run regardless if there was an exception in the <code>try</code> code block. The syntax is:\n",
        "\n",
        "    try:\n",
        "       Code block here\n",
        "       ...\n",
        "       Due to any exception, this code may be skipped!\n",
        "    finally:\n",
        "       This code block would always be executed.\n",
        "\n",
        "For example:"
      ]
    },
    {
      "cell_type": "code",
      "metadata": {
        "id": "arY-rn-CGvKS",
        "colab": {
          "base_uri": "https://localhost:8080/"
        },
        "outputId": "590aa269-5250-4e7b-c52c-2d905fd1440d"
      },
      "source": [
        "try:\n",
        "  print(\"Execute try statements\")\n",
        "  print('a','adasds')\n",
        "except:\n",
        "  print(\"There is an error\")\n",
        "else:\n",
        "  print(\"There is no error\")\n",
        "finally:\n",
        "  print(\"Always execute finally code blocks\")"
      ],
      "execution_count": 163,
      "outputs": [
        {
          "output_type": "stream",
          "name": "stdout",
          "text": [
            "Execute try statements\n",
            "a adasds\n",
            "There is no error\n",
            "Always execute finally code blocks\n"
          ]
        }
      ]
    },
    {
      "cell_type": "markdown",
      "source": [
        "![image.png](data:image/png;base64,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)"
      ],
      "metadata": {
        "id": "w3qPUc57QV7_"
      }
    },
    {
      "cell_type": "markdown",
      "metadata": {
        "id": "n-4eDtEnSvI9"
      },
      "source": [
        "We can use this in conjunction with <code>except</code>. Let's see a new example that will take into account a user providing the wrong input:"
      ]
    },
    {
      "cell_type": "code",
      "metadata": {
        "id": "ldMDSNkeSnl1"
      },
      "source": [
        "a = 1\n",
        "b = 0.2"
      ],
      "execution_count": 164,
      "outputs": []
    },
    {
      "cell_type": "code",
      "metadata": {
        "id": "hn1ZlKSDSwxQ",
        "colab": {
          "base_uri": "https://localhost:8080/"
        },
        "outputId": "fcf36caf-b910-4384-ca45-4945dbeb97a4"
      },
      "source": [
        "try:\n",
        "    print('afdwfwf', type('aefwffewf'))\n",
        "except:\n",
        "    print(\"There is an error in try block\")\n",
        "else:\n",
        "  print(\"There is no error\")\n",
        "finally:\n",
        "    print('Type printed')"
      ],
      "execution_count": 165,
      "outputs": [
        {
          "output_type": "stream",
          "name": "stdout",
          "text": [
            "afdwfwf <class 'str'>\n",
            "There is no error\n",
            "Type printed\n"
          ]
        }
      ]
    },
    {
      "cell_type": "code",
      "metadata": {
        "id": "OrkKRRLv_vbf",
        "colab": {
          "base_uri": "https://localhost:8080/"
        },
        "outputId": "be76b05c-6888-413c-be96-5f04f92cd0ad"
      },
      "source": [
        "try:\n",
        "    a = 1\n",
        "    print(adefewdwd)\n",
        "    try:\n",
        "      print(type(afggdgdsgg))\n",
        "    except:\n",
        "      print('Error occured')\n",
        "except Exception as ex:\n",
        "    print('The error is : ', ex)"
      ],
      "execution_count": 166,
      "outputs": [
        {
          "output_type": "stream",
          "name": "stdout",
          "text": [
            "The error is :  name 'adefewdwd' is not defined\n"
          ]
        }
      ]
    },
    {
      "cell_type": "code",
      "source": [
        "\n",
        "try:\n",
        "    a = 1\n",
        "    print('adefewdwd')\n",
        "except Exception as ex:\n",
        "    print('The error is : ', ex)\n",
        "    print(b, type(b))\n",
        "finally:\n",
        "    c = a + 2\n",
        "    print(c)"
      ],
      "metadata": {
        "id": "6zBaB-8q99o6",
        "colab": {
          "base_uri": "https://localhost:8080/"
        },
        "outputId": "423395da-9d92-4bb0-962f-c04bc0f12ea5"
      },
      "execution_count": 167,
      "outputs": [
        {
          "output_type": "stream",
          "name": "stdout",
          "text": [
            "adefewdwd\n",
            "3\n"
          ]
        }
      ]
    },
    {
      "cell_type": "code",
      "source": [
        "try:\n",
        "  print(\"Testing the error of the code\")\n",
        "  print('London')\n",
        "except:\n",
        "  print(\"There is error in Try block\")\n",
        "else:\n",
        "  print(\"There is no error in try block\")\n",
        "finally:\n",
        "  print(\"I will run if there is any error or not\")"
      ],
      "metadata": {
        "id": "qVqD6Zf2a_VU",
        "colab": {
          "base_uri": "https://localhost:8080/"
        },
        "outputId": "245cbbeb-8c3c-4b9f-9833-631eb97fe0c9"
      },
      "execution_count": 168,
      "outputs": [
        {
          "output_type": "stream",
          "name": "stdout",
          "text": [
            "Testing the error of the code\n",
            "London\n",
            "There is no error in try block\n",
            "I will run if there is any error or not\n"
          ]
        }
      ]
    },
    {
      "cell_type": "code",
      "source": [
        "try:\n",
        "\n",
        "    even_numbers = [2,4,6,8]\n",
        "    print(even_numbers[5])\n",
        "\n",
        "except ZeroDivisionError:\n",
        "    print(\"Denominator cannot be 0.\")\n",
        "\n",
        "except IndexError:\n",
        "    print(\"Index Out of Bound.\")\n",
        "\n",
        "# Output: Index Out of Bound"
      ],
      "metadata": {
        "id": "dj0kL-4HH_5H",
        "colab": {
          "base_uri": "https://localhost:8080/"
        },
        "outputId": "6534dbc8-71e1-4974-d42a-6ed3d1de0ef7"
      },
      "execution_count": 169,
      "outputs": [
        {
          "output_type": "stream",
          "name": "stdout",
          "text": [
            "Index Out of Bound.\n"
          ]
        }
      ]
    },
    {
      "cell_type": "code",
      "source": [
        "# program to print the reciprocal of even numbers\n",
        "\n",
        "try:\n",
        "    num = int(input(\"Enter a number: \"))\n",
        "    assert num % 2 == 0\n",
        "except:\n",
        "    print(\"Not an even number!\")\n",
        "else:\n",
        "    reciprocal = 1/num\n",
        "    print(reciprocal)"
      ],
      "metadata": {
        "id": "R1TRW8tvIOb8",
        "colab": {
          "base_uri": "https://localhost:8080/"
        },
        "outputId": "8bc9959c-b489-499d-b556-a2e80e605225"
      },
      "execution_count": 170,
      "outputs": [
        {
          "output_type": "stream",
          "name": "stdout",
          "text": [
            "Not an even number!\n"
          ]
        }
      ]
    },
    {
      "cell_type": "markdown",
      "metadata": {
        "id": "-rhyUIY4S6gZ"
      },
      "source": [
        "**Great! Now you know how to handle errors and exceptions in Python with the try, except, else, and finally notation!**\n",
        "\n"
      ]
    },
    {
      "cell_type": "markdown",
      "metadata": {
        "id": "pZrycmS2S_1t"
      },
      "source": [
        "# Real World Use Case\n",
        "\n",
        "### Uber's simplified pricing model\n",
        "\n",
        "When you request an Uber, you enter your pick-up location and the destination. Based on the distance, peak hours, willingness to pay and many other factors, Uber uses a machine learning algorithm to compute what prices will be shown to you.\n",
        "\n",
        "Let's consider a simplistic version of the Uber Pricing Model where you compute the price based on the distance between the pick-up and the drop location and the time of the booking.\n",
        "\n",
        "User Inputs:\n",
        "\n",
        "* Pick-up location (pick_up_latitude, pick_up_longitude)\n",
        "* Drop location (drop_latitude, drop_longitude)\n",
        "* Time of booking\n",
        "\n",
        "Output:\n",
        "\n",
        "* Final Price"
      ]
    },
    {
      "cell_type": "markdown",
      "metadata": {
        "id": "N6hCfBw3TNhJ"
      },
      "source": [
        " ### Development Code"
      ]
    },
    {
      "cell_type": "code",
      "metadata": {
        "id": "vdwRZpbJTC2b"
      },
      "source": [
        "# Calculate the distance between the pick-up location and the drop location\n",
        "\n",
        "import geopy.distance\n",
        "\n",
        "def get_distance(location_1, location_2):\n",
        "\n",
        "    distance = geopy.distance.distance(location_1, location_2).km\n",
        "\n",
        "    return distance"
      ],
      "execution_count": 171,
      "outputs": []
    },
    {
      "cell_type": "code",
      "metadata": {
        "id": "zC0vGEflTK8c"
      },
      "source": [
        "def get_price_per_km(hour):\n",
        "\n",
        "    if (hour > 8) & (hour < 11):\n",
        "        price_per_km = 20\n",
        "    elif (hour > 18) & (hour < 21):\n",
        "        price_per_km = 15\n",
        "    else:\n",
        "        price_per_km = 10\n",
        "\n",
        "    return price_per_km"
      ],
      "execution_count": 172,
      "outputs": []
    },
    {
      "cell_type": "code",
      "metadata": {
        "id": "sJhJg5PhTPWh"
      },
      "source": [
        "def get_final_price(pick_up_location, drop_location, booking_hour):\n",
        "\n",
        "    total_distance = get_distance(pick_up_location, drop_location)\n",
        "    actual_price_per_km = get_price_per_km(booking_hour)\n",
        "\n",
        "    final_price = round(total_distance * actual_price_per_km, 2)\n",
        "\n",
        "    return final_price"
      ],
      "execution_count": 173,
      "outputs": []
    },
    {
      "cell_type": "code",
      "metadata": {
        "id": "cYICiaPGTQ5c"
      },
      "source": [
        "# Inputs\n",
        "\n",
        "pick_up_location = (24, 70)\n",
        "drop_location = (24.1, 70.1)\n",
        "booking_time = 19"
      ],
      "execution_count": 174,
      "outputs": []
    },
    {
      "cell_type": "code",
      "metadata": {
        "id": "J-6Y6diXTSU7",
        "colab": {
          "base_uri": "https://localhost:8080/"
        },
        "outputId": "e46474b9-d586-4a93-ef5a-3d6567ab52d6"
      },
      "source": [
        "# Output\n",
        "\n",
        "get_final_price(pick_up_location, drop_location, booking_time)"
      ],
      "execution_count": 175,
      "outputs": [
        {
          "output_type": "execute_result",
          "data": {
            "text/plain": [
              "225.56"
            ]
          },
          "metadata": {},
          "execution_count": 175
        }
      ]
    },
    {
      "cell_type": "markdown",
      "metadata": {
        "id": "q_nSK3-FTaqD"
      },
      "source": [
        "### Production Grade Code"
      ]
    },
    {
      "cell_type": "code",
      "metadata": {
        "id": "QHPqo8fNTUGG"
      },
      "source": [
        "# Calculate the distance between the pick-up location and the drop location\n",
        "\n",
        "import geopy.distance\n",
        "import math\n",
        "\n",
        "class Maps:\n",
        "\n",
        "    def __init__(self):\n",
        "        pass\n",
        "\n",
        "    def get_distance(self, location_1, location_2):\n",
        "\n",
        "        try:\n",
        "            distance = geopy.distance.distance(location_1, location_2).km\n",
        "        except:\n",
        "            distance = math.sqrt((location_1[0]-location_2[0])^2 + (location_1[1]-location_2[1])^2)\n",
        "\n",
        "        return distance"
      ],
      "execution_count": 176,
      "outputs": []
    },
    {
      "cell_type": "code",
      "metadata": {
        "id": "4n1-Cf9GTX4h"
      },
      "source": [
        "class SurgePricing:\n",
        "\n",
        "    def __init__(self):\n",
        "        pass\n",
        "\n",
        "    def get_price_per_km(self, hour):\n",
        "\n",
        "        try:\n",
        "\n",
        "            if (hour > 8) & (hour < 11):\n",
        "                price_per_km = 20\n",
        "            elif (hour > 18) & (hour < 21):\n",
        "                price_per_km = 15\n",
        "            else:\n",
        "                price_per_km = 10\n",
        "\n",
        "        except:\n",
        "\n",
        "            price_per_km = 10\n",
        "\n",
        "        return price_per_km"
      ],
      "execution_count": 177,
      "outputs": []
    },
    {
      "cell_type": "code",
      "metadata": {
        "id": "4lSkQz2ITer_"
      },
      "source": [
        "def get_final_price(pick_up_location, drop_location, booking_hour):\n",
        "\n",
        "    maps = Maps()\n",
        "    surge = SurgePricing()\n",
        "\n",
        "    total_distance = maps.get_distance(pick_up_location, drop_location)\n",
        "    actual_price_per_km = surge.get_price_per_km(booking_hour)\n",
        "\n",
        "    final_price = round(total_distance * actual_price_per_km, 2)\n",
        "\n",
        "    return final_price"
      ],
      "execution_count": 178,
      "outputs": []
    },
    {
      "cell_type": "code",
      "metadata": {
        "id": "aQ0YYXCATgJS",
        "colab": {
          "base_uri": "https://localhost:8080/"
        },
        "outputId": "5d3618bc-1398-4f92-e23a-7a9d36ae848e"
      },
      "source": [
        "# Output\n",
        "\n",
        "get_final_price(pick_up_location, drop_location, booking_time)"
      ],
      "execution_count": 179,
      "outputs": [
        {
          "output_type": "execute_result",
          "data": {
            "text/plain": [
              "225.56"
            ]
          },
          "metadata": {},
          "execution_count": 179
        }
      ]
    },
    {
      "cell_type": "code",
      "source": [
        "round(4.21441341,2)"
      ],
      "metadata": {
        "id": "sdbD64Aj7L7X",
        "colab": {
          "base_uri": "https://localhost:8080/"
        },
        "outputId": "64dfc494-a2e4-447b-d75d-c236b04c97b6"
      },
      "execution_count": 180,
      "outputs": [
        {
          "output_type": "execute_result",
          "data": {
            "text/plain": [
              "4.21"
            ]
          },
          "metadata": {},
          "execution_count": 180
        }
      ]
    },
    {
      "cell_type": "code",
      "source": [
        "city = 'Bangalore'\n",
        "\n",
        "if city == 'New Delhi':\n",
        "  print('Welcome to the Indian Capital')\n",
        "elif city == 'Mumbai':\n",
        "  print('Welcome to the Financial Capital of India!!!!!')\n",
        "elif city == 'Bangalore':\n",
        "  print(\"Welcome to the IT Hub of India\")\n",
        "elif city == 'Kashmir':\n",
        "  print('Welcome to Heaven')"
      ],
      "metadata": {
        "id": "tfyCJ6a3L5j_"
      },
      "execution_count": null,
      "outputs": []
    },
    {
      "cell_type": "code",
      "source": [
        "class test:\n",
        "  def __init__(self,a):\n",
        "    self.a=a\n",
        "\n",
        "    def display(self):\n",
        "      print(self.a)\n",
        "\n",
        "obj.test()\n",
        "obj.display()"
      ],
      "metadata": {
        "id": "7f7TsR5jOWD_",
        "colab": {
          "base_uri": "https://localhost:8080/",
          "height": 227
        },
        "outputId": "0877f7dc-ede3-43bc-e755-1050152a2448"
      },
      "execution_count": 181,
      "outputs": [
        {
          "output_type": "error",
          "ename": "AttributeError",
          "evalue": "ignored",
          "traceback": [
            "\u001b[0;31m---------------------------------------------------------------------------\u001b[0m",
            "\u001b[0;31mAttributeError\u001b[0m                            Traceback (most recent call last)",
            "\u001b[0;32m<ipython-input-181-30b1bd8ea75e>\u001b[0m in \u001b[0;36m<cell line: 8>\u001b[0;34m()\u001b[0m\n\u001b[1;32m      6\u001b[0m       \u001b[0mprint\u001b[0m\u001b[0;34m(\u001b[0m\u001b[0mself\u001b[0m\u001b[0;34m.\u001b[0m\u001b[0ma\u001b[0m\u001b[0;34m)\u001b[0m\u001b[0;34m\u001b[0m\u001b[0;34m\u001b[0m\u001b[0m\n\u001b[1;32m      7\u001b[0m \u001b[0;34m\u001b[0m\u001b[0m\n\u001b[0;32m----> 8\u001b[0;31m \u001b[0mobj\u001b[0m\u001b[0;34m.\u001b[0m\u001b[0mtest\u001b[0m\u001b[0;34m(\u001b[0m\u001b[0;34m)\u001b[0m\u001b[0;34m\u001b[0m\u001b[0;34m\u001b[0m\u001b[0m\n\u001b[0m\u001b[1;32m      9\u001b[0m \u001b[0mobj\u001b[0m\u001b[0;34m.\u001b[0m\u001b[0mdisplay\u001b[0m\u001b[0;34m(\u001b[0m\u001b[0;34m)\u001b[0m\u001b[0;34m\u001b[0m\u001b[0;34m\u001b[0m\u001b[0m\n",
            "\u001b[0;31mAttributeError\u001b[0m: 'Monis' object has no attribute 'test'"
          ]
        }
      ]
    },
    {
      "cell_type": "code",
      "source": [
        "class Dog():\n",
        "  def __init__(self, name, age):\n",
        "    self.name = name\n",
        "    self.age = age"
      ],
      "metadata": {
        "id": "0N_7lXOljmJh"
      },
      "execution_count": 182,
      "outputs": []
    },
    {
      "cell_type": "code",
      "source": [
        "Dog(\"Rufus\",3)"
      ],
      "metadata": {
        "colab": {
          "base_uri": "https://localhost:8080/"
        },
        "id": "hGhPsho4kiVL",
        "outputId": "5a9e9844-9f82-44df-a65f-3a260ca1f136"
      },
      "execution_count": 183,
      "outputs": [
        {
          "output_type": "execute_result",
          "data": {
            "text/plain": [
              "<__main__.Dog at 0x7f4002962530>"
            ]
          },
          "metadata": {},
          "execution_count": 183
        }
      ]
    },
    {
      "cell_type": "code",
      "source": [
        "Dog.__init__(\"Rufus\",3)"
      ],
      "metadata": {
        "colab": {
          "base_uri": "https://localhost:8080/",
          "height": 175
        },
        "id": "d02WZ6Vokoen",
        "outputId": "13d7dd1f-5141-4501-bfdf-2a051710a3f5"
      },
      "execution_count": 184,
      "outputs": [
        {
          "output_type": "error",
          "ename": "TypeError",
          "evalue": "ignored",
          "traceback": [
            "\u001b[0;31m---------------------------------------------------------------------------\u001b[0m",
            "\u001b[0;31mTypeError\u001b[0m                                 Traceback (most recent call last)",
            "\u001b[0;32m<ipython-input-184-9f15f15cb01e>\u001b[0m in \u001b[0;36m<cell line: 1>\u001b[0;34m()\u001b[0m\n\u001b[0;32m----> 1\u001b[0;31m \u001b[0mDog\u001b[0m\u001b[0;34m.\u001b[0m\u001b[0m__init__\u001b[0m\u001b[0;34m(\u001b[0m\u001b[0;34m\"Rufus\"\u001b[0m\u001b[0;34m,\u001b[0m\u001b[0;36m3\u001b[0m\u001b[0;34m)\u001b[0m\u001b[0;34m\u001b[0m\u001b[0;34m\u001b[0m\u001b[0m\n\u001b[0m",
            "\u001b[0;31mTypeError\u001b[0m: Dog.__init__() missing 1 required positional argument: 'age'"
          ]
        }
      ]
    },
    {
      "cell_type": "code",
      "source": [
        "Dog()"
      ],
      "metadata": {
        "colab": {
          "base_uri": "https://localhost:8080/",
          "height": 175
        },
        "id": "hSJdsn6AkwZX",
        "outputId": "55008b15-a332-4992-a0b6-dec7e88ab1fa"
      },
      "execution_count": 185,
      "outputs": [
        {
          "output_type": "error",
          "ename": "TypeError",
          "evalue": "ignored",
          "traceback": [
            "\u001b[0;31m---------------------------------------------------------------------------\u001b[0m",
            "\u001b[0;31mTypeError\u001b[0m                                 Traceback (most recent call last)",
            "\u001b[0;32m<ipython-input-185-2dced99f65a6>\u001b[0m in \u001b[0;36m<cell line: 1>\u001b[0;34m()\u001b[0m\n\u001b[0;32m----> 1\u001b[0;31m \u001b[0mDog\u001b[0m\u001b[0;34m(\u001b[0m\u001b[0;34m)\u001b[0m\u001b[0;34m\u001b[0m\u001b[0;34m\u001b[0m\u001b[0m\n\u001b[0m",
            "\u001b[0;31mTypeError\u001b[0m: Dog.__init__() missing 2 required positional arguments: 'name' and 'age'"
          ]
        }
      ]
    },
    {
      "cell_type": "code",
      "source": [
        "Dog.create(\"Rufus\",3)"
      ],
      "metadata": {
        "colab": {
          "base_uri": "https://localhost:8080/",
          "height": 175
        },
        "id": "oGAZwtxIlFVf",
        "outputId": "a4fc85c7-2b6d-4e9b-eb54-d68ef277bcd7"
      },
      "execution_count": 186,
      "outputs": [
        {
          "output_type": "error",
          "ename": "AttributeError",
          "evalue": "ignored",
          "traceback": [
            "\u001b[0;31m---------------------------------------------------------------------------\u001b[0m",
            "\u001b[0;31mAttributeError\u001b[0m                            Traceback (most recent call last)",
            "\u001b[0;32m<ipython-input-186-a57cf7859d62>\u001b[0m in \u001b[0;36m<cell line: 1>\u001b[0;34m()\u001b[0m\n\u001b[0;32m----> 1\u001b[0;31m \u001b[0mDog\u001b[0m\u001b[0;34m.\u001b[0m\u001b[0mcreate\u001b[0m\u001b[0;34m(\u001b[0m\u001b[0;34m\"Rufus\"\u001b[0m\u001b[0;34m,\u001b[0m\u001b[0;36m3\u001b[0m\u001b[0;34m)\u001b[0m\u001b[0;34m\u001b[0m\u001b[0;34m\u001b[0m\u001b[0m\n\u001b[0m",
            "\u001b[0;31mAttributeError\u001b[0m: type object 'Dog' has no attribute 'create'"
          ]
        }
      ]
    },
    {
      "cell_type": "code",
      "source": [
        "a = 1\n",
        "b = []\n",
        "try:\n",
        "  a.append(2)\n",
        "  print(a)\n",
        "except:\n",
        "  b.append(2)\n",
        "  print(b)\n",
        "finally:\n",
        "  print('You cannot stop me!')"
      ],
      "metadata": {
        "colab": {
          "base_uri": "https://localhost:8080/"
        },
        "id": "eRyQusR6lrZX",
        "outputId": "aefc4601-b770-4e73-d38f-4acfaf074e91"
      },
      "execution_count": 187,
      "outputs": [
        {
          "output_type": "stream",
          "name": "stdout",
          "text": [
            "[2]\n",
            "You cannot stop me!\n"
          ]
        }
      ]
    }
  ]
}